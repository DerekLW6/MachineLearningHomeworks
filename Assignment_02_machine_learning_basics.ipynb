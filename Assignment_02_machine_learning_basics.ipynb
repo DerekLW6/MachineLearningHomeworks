{
 "cells": [
  {
   "cell_type": "markdown",
   "metadata": {},
   "source": [
    "# Assignment 2 - Machine Learning Basics\n",
    "\n",
    "## Derek Wales\n",
    "Netid:  *XXX*"
   ]
  },
  {
   "cell_type": "markdown",
   "metadata": {},
   "source": [
    "Instructions for all assignments can be found [here](https://github.com/kylebradbury/ids705/blob/master/assignments/_Assignment%20Instructions.ipynb), which is also linked to from the [course syllabus](https://kylebradbury.github.io/ids705/index.html)."
   ]
  },
  {
   "cell_type": "markdown",
   "metadata": {},
   "source": [
    "## Learning Objectives:\n",
    "This assignment will provide structured practice to help enable you to...\n",
    "- Implement a k-nearest neighbors machine learning algorithm from scratch in a style similar to that of popular machine learning tools like `scikit-learn`\n",
    "- Apply basic regression and classification supervised learning techniques to data and evaluate the performance of those methods\n",
    "- Understand the bias-variance tradeoff and the impact of model flexibility algorithm performance and model selections"
   ]
  },
  {
   "cell_type": "code",
   "execution_count": 12,
   "metadata": {},
   "outputs": [],
   "source": [
    "# MAC USERS TAKE NOTE:\n",
    "# For clearer plots in Jupyter notebooks on macs, run the following line of code:\n",
    "# %config InlineBackend.figure_format = 'retina'"
   ]
  },
  {
   "cell_type": "markdown",
   "metadata": {},
   "source": [
    "# Conceptual Questions"
   ]
  },
  {
   "cell_type": "markdown",
   "metadata": {},
   "source": [
    "## 1\n",
    "**[5 points]**\n",
    "For each part (a) through (d), indicate whether we would generally expect the performance of a flexible statistical learning method to be better or worse than an inflexible method. Justify your answer.\n",
    "\n",
    "1. The sample size $n$ is extremely large, and the number of predictors $p$ is small.\n",
    "2. The number of predictors $p$ is extremely large, and the number of observations $n$ is small.\n",
    "3. The relationship between the predictors and response is highly non-linear.\n",
    "4. The variance of the error terms, i.e. $\\sigma^2 = Var(\\epsilon)$, is extremely high"
   ]
  },
  {
   "cell_type": "markdown",
   "metadata": {},
   "source": [
    "**ANSWERS**\n",
    "1. More flexible, because this will allow the parameters of the model to be tuned effectively to fit the data. It also reduces the chance of overfitting.\n",
    "\n",
    "2. Less flexible because we do not have enough observations to know the shape of the distribution and a more flexible model could lead to overfitting. \n",
    "\n",
    "3. More flexible because because it will allow the model to adjust to an unorthodox shape.\n",
    "\n",
    "4. If there is high variance it is more likely that a flexible model will fit to the noise, therefore it is better to use a less flexible model."
   ]
  },
  {
   "cell_type": "markdown",
   "metadata": {},
   "source": [
    "## 2 \n",
    "**[5 points]** For each of the following, (i) explain if each scenario is a classification or regression problem, (ii) indicate whether we are most interested in inference or prediction for that problem, and (iii) provide the sample size $n$ and number of predictors $p$ indicated for each scenario.\n",
    "\n",
    "**(a)** We collect a set of data on the top 500 firms in the US. For each firm we record profit, number of employees, industry and the CEO salary. We are interested in understanding which factors affect CEO salary.\n",
    "\n",
    "**(b)** We are considering launching a new product and wish to know whether it will be a success or a failure. We collect data on 20 similar products that were previously launched. For each product we have recorded whether it was a success or failure, price charged for the product, marketing budget, competition price, and ten other variables.\n",
    "\n",
    "**(c)** We are interesting in predicting the % change in the US dollar in relation to the weekly changes in the world stock markets. Hence we collect weekly data for all of 2012. For each week we record the % change in the dollar, the % change in the US market, the % change in the British market, and the % change in the German market."
   ]
  },
  {
   "cell_type": "markdown",
   "metadata": {},
   "source": [
    "**ANSWERS**\n",
    "\n",
    "A. i) This is a regression problem because we are trying to model the effects of various parameters to predict a numerical value, as opposed to a specific outcome. ii) For this problem why are more interested in inference about CEO Salary over predicting a specific value. iii) Sample size is 500 (the top firms in the US) and the predictors are record profit, number of employees (n = 500/p = 3).\n",
    "\n",
    "B. i) In this problem we are searching for a binary outcome it is much more suited for classification over regression. ii) Since the goal is to determine if a product will succeed or fail the main goal here is prediction. iii) For this problem n = 20 and the predictor variables are price charged for the product, marketing budget, competition price, and ten other variables (n = 20/p = 13).\n",
    "\n",
    "C. i) This is a regression problem, because we are looking at a specific numerical change in the US Dollar value. ii) In this situation we're much more concerned with predicting the percentage of change then determining exactly WHY its happening. iii) For this problem n = every week in 2012 and the predictors are the chane in the British, US, and German markets (n = 52/p =3). "
   ]
  },
  {
   "cell_type": "markdown",
   "metadata": {},
   "source": [
    "# Practical Questions"
   ]
  },
  {
   "cell_type": "markdown",
   "metadata": {},
   "source": [
    "## 3\n",
    "**[10 points] Classification II**. The table below provides a training dataset containing six observations ($n=6$), three predictors ($p=3$), and one qualitative response variable.\n",
    "\n",
    "*Table 1. Dataset with $n=6$ observations in $p=3$ dimensions with a categorical response, $y$*\n",
    "\n",
    "| Obs. | $x_1$ | $x_2$ | $x_3$ | $y$   |\n",
    "|------|-------|-------|-------|-------|\n",
    "| **1**| 0     | 3     | 0     | Red   |\n",
    "| **2**| 2     | 0     | 0     | Red   |\n",
    "| **3**| 0     | 1     | 3     | Red   |\n",
    "| **4**| 0     | 1     | 2     | Blue  |\n",
    "| **5**| -1    | 0     | 1     | Blue  |\n",
    "| **6**| 1     | 1     | 1     | Red   |\n",
    "\n",
    "We want to use this dataset to make a prediction for $y$ when $x_1=x_2=x_3=0$ using $K$-nearest neighbors. You are given some code below to get you started.\n",
    "\n",
    "**(a)** Compute the Euclidean distance between each observation and the test point, $x_1=x_2=x_3=0$. Present your answer in a table similar in style to Table 1 with observations 1-6 as the row headers.\n",
    "\n",
    "**(b)** What is our prediction with $K=1$? Why?\n",
    "\n",
    "**(c)** What is our prediction with $K=3$? Why?\n",
    "\n",
    "**(d)** If the Bayes decision boundary (the optimal decision boundary) in this problem is highly nonlinear, then would we expect the *best* value of $K$ to be large or small? Why?"
   ]
  },
  {
   "cell_type": "markdown",
   "metadata": {},
   "source": [
    "**ANSWERS**:"
   ]
  },
  {
   "cell_type": "markdown",
   "metadata": {},
   "source": [
    "#### Part A: Compute the Euclidean distance between each observation and the test point, $x_1=x_2=x_3=0.$ Present your answer in a table similar in style to Table 1 with observations 1-6 as the row headers."
   ]
  },
  {
   "cell_type": "code",
   "execution_count": 13,
   "metadata": {},
   "outputs": [
    {
     "data": {
      "text/html": [
       "<div>\n",
       "<style scoped>\n",
       "    .dataframe tbody tr th:only-of-type {\n",
       "        vertical-align: middle;\n",
       "    }\n",
       "\n",
       "    .dataframe tbody tr th {\n",
       "        vertical-align: top;\n",
       "    }\n",
       "\n",
       "    .dataframe thead th {\n",
       "        text-align: right;\n",
       "    }\n",
       "</style>\n",
       "<table border=\"1\" class=\"dataframe\">\n",
       "  <thead>\n",
       "    <tr style=\"text-align: right;\">\n",
       "      <th></th>\n",
       "      <th>X Cord Set</th>\n",
       "      <th>Distance</th>\n",
       "    </tr>\n",
       "  </thead>\n",
       "  <tbody>\n",
       "    <tr>\n",
       "      <th>0</th>\n",
       "      <td>1</td>\n",
       "      <td>3.000000</td>\n",
       "    </tr>\n",
       "    <tr>\n",
       "      <th>1</th>\n",
       "      <td>2</td>\n",
       "      <td>2.000000</td>\n",
       "    </tr>\n",
       "    <tr>\n",
       "      <th>2</th>\n",
       "      <td>3</td>\n",
       "      <td>3.162278</td>\n",
       "    </tr>\n",
       "    <tr>\n",
       "      <th>3</th>\n",
       "      <td>4</td>\n",
       "      <td>2.236068</td>\n",
       "    </tr>\n",
       "    <tr>\n",
       "      <th>4</th>\n",
       "      <td>5</td>\n",
       "      <td>1.414214</td>\n",
       "    </tr>\n",
       "    <tr>\n",
       "      <th>5</th>\n",
       "      <td>6</td>\n",
       "      <td>1.732051</td>\n",
       "    </tr>\n",
       "  </tbody>\n",
       "</table>\n",
       "</div>"
      ],
      "text/plain": [
       "   X Cord Set  Distance\n",
       "0           1  3.000000\n",
       "1           2  2.000000\n",
       "2           3  3.162278\n",
       "3           4  2.236068\n",
       "4           5  1.414214\n",
       "5           6  1.732051"
      ]
     },
     "execution_count": 13,
     "metadata": {},
     "output_type": "execute_result"
    }
   ],
   "source": [
    "import pandas as pd\n",
    "import numpy as np\n",
    "import math\n",
    "\n",
    "X = np.array([[ 0, 3, 0],\n",
    "              [ 2, 0, 0],\n",
    "              [ 0, 1, 3],\n",
    "              [ 0, 1, 2],\n",
    "              [-1, 0, 1],\n",
    "              [ 1, 1, 1]])\n",
    "y = np.array(['r','r','r','b','b','r'])\n",
    "test_point = np.array([0, 0, 0])\n",
    "\n",
    "i = 0\n",
    "obs_list = [1,2,3,4,5,6]\n",
    "dist_list = []\n",
    "\n",
    "while i < 6:\n",
    "    dist_list.append(np.linalg.norm(test_point-X[i,:]))\n",
    "    i = i + 1\n",
    "\n",
    "result_df = pd.DataFrame({'X Cord Set':obs_list, 'Distance':dist_list})\n",
    "result_df"
   ]
  },
  {
   "cell_type": "markdown",
   "metadata": {},
   "source": [
    "### Part B: What is our prediction with $K=1$? \n",
    "Blue, because that is the closest neighbor."
   ]
  },
  {
   "cell_type": "markdown",
   "metadata": {},
   "source": [
    "### Part C: What is our prediction with $K=3$? \n",
    "Red, because the two of the three closest neighbors are red."
   ]
  },
  {
   "cell_type": "markdown",
   "metadata": {},
   "source": [
    "### Part D: If the Bayes decision boundary (the optimal decision boundary) in this problem is highly nonlinear, then would we expect the *best* value of $K$ to be large or small? Why? \n",
    "Small because it will allow the model to be more flexible and fit more accurately to the nonlinear data."
   ]
  },
  {
   "cell_type": "markdown",
   "metadata": {},
   "source": [
    "## 4 \n",
    "**[20 points] Classification I: Creating a classification algorithm**.\n",
    "\n",
    "**(a)** Build a working version of a binary kNN classifier using the skeleton code below.\n",
    "\n",
    "**(b)** Load the datasets to be evaluated here. Each includes training features ($\\mathbf{X}$), and test features ($\\mathbf{y}$) for both a low dimensional ($p = 2$ features/predictors) and a high dimensional ($p = 100$ features/predictors). For each of these datasets there are $n=100$ observations of each. They can be found in the `data` subfolder in the `assignments` folder on github. Each file is labeled similar to `A2_X_train_low.csv`, which lets you know whether the dataset is of features, $X$, targets, $y$; training or testing; and low or high dimensions.\n",
    "\n",
    "**(c)** Train your classifier on first the low dimensional dataset and then the high dimensional dataset with $k=5$. Evaluate the classification performance on the corresponding test data for each. Calculate the time it takes to make the predictions in each case and the overall accuracy of each set of test data predictions.\n",
    "\n",
    "**(d)** Compare your implementation's accuracy and computation time to the scikit learn [KNeighborsClassifier](http://scikit-learn.org/stable/modules/generated/sklearn.neighbors.KNeighborsClassifier.html) class. How do the results and speed compare?\n",
    "\n",
    "**(e)** Some supervised learning algorithms are more computationally intensive during training than testing. What are the drawbacks of the prediction process being slow?"
   ]
  },
  {
   "cell_type": "markdown",
   "metadata": {},
   "source": [
    "#### Varun Prasad, MIDS 21 explained to me how to develop the KNN algorith \"from scratch\" and assited me in troubleshooting it. After which I was able to use it for subsequent problems."
   ]
  },
  {
   "cell_type": "markdown",
   "metadata": {},
   "source": [
    "**ANSWERS**:"
   ]
  },
  {
   "cell_type": "code",
   "execution_count": 14,
   "metadata": {},
   "outputs": [],
   "source": [
    "from scipy import stats\n",
    "\n",
    "# (a) Write your own kNN classifier\n",
    "class Knn:\n",
    "# k-Nearest Neighbor class object for classification training and testing\n",
    "    def __init__(self):\n",
    "        pass\n",
    "    \n",
    "    def fit(self, x, y):\n",
    "        # Save the training data to properties of this class\n",
    "        self.x = x\n",
    "        self.y = y \n",
    "        pass\n",
    "    \n",
    "    def predict(self, x_test, k):\n",
    "        y_hat = [] # Variable to store the estimated class label for \n",
    "        for row in x_test:\n",
    "            dist = np.sqrt(np.sum((row-self.x)**2, axis =1 ))\n",
    "            \n",
    "            dist_ind = np.argsort(dist)[0:k]\n",
    "            \n",
    "            y_ind = self.y[dist_ind]\n",
    "            \n",
    "            class_mode = stats.mode(y_ind)\n",
    "            \n",
    "            y_hat.append(class_mode[0].tolist())\n",
    "                \n",
    "        # Return the estimated targets\n",
    "        y_hat = [result for classes in y_hat for result in classes] # Classes\n",
    "        return y_hat\n",
    "    \n",
    "# Metric of overall classification accuracy\n",
    "#  (a more general function, sklearn.metrics.accuracy_score, is also available)\n",
    "def accuracy(y,y_hat):\n",
    "    nvalues = len(y)\n",
    "    accuracy = sum(y == y_hat) / nvalues\n",
    "    return accuracy"
   ]
  },
  {
   "cell_type": "markdown",
   "metadata": {},
   "source": [
    "### Part B: Loading the required data."
   ]
  },
  {
   "cell_type": "code",
   "execution_count": 15,
   "metadata": {},
   "outputs": [],
   "source": [
    "# Loading low dimensional test/train\n",
    "df_x_train_low = pd.read_csv('_data\\\\A2_X_train_low.csv', header = None).to_numpy() \n",
    "df_y_train_low = pd.read_csv('_data\\\\A2_y_train_low.csv', header = None).to_numpy()\n",
    "df_x_test_low = pd.read_csv('_data\\\\A2_X_test_low.csv', header = None).to_numpy()\n",
    "df_y_test_low = pd.read_csv('_data\\\\A2_y_test_low.csv', header = None).to_numpy()\n",
    "\n",
    "# Loading high dimensional test/train\n",
    "df_x_train_high = pd.read_csv('_data\\\\A2_X_train_high.csv', header = None).to_numpy()\n",
    "df_y_train_high = pd.read_csv('_data\\\\A2_y_train_high.csv', header = None).to_numpy()\n",
    "df_x_test_high = pd.read_csv('_data\\\\A2_X_test_high.csv', header = None).to_numpy()\n",
    "df_y_test_high = pd.read_csv('_data\\\\A2_y_test_high.csv', header = None).to_numpy()"
   ]
  },
  {
   "cell_type": "markdown",
   "metadata": {},
   "source": [
    "### Part C: Fitting with K = 5 on the low and high dimensional data and calculating the time"
   ]
  },
  {
   "cell_type": "code",
   "execution_count": 16,
   "metadata": {},
   "outputs": [
    {
     "name": "stdout",
     "output_type": "stream",
     "text": [
      "The accuracy score is: 0.925 taking 0.165s to run\n"
     ]
    }
   ],
   "source": [
    "# Fitting on the low dataset\n",
    "import time\n",
    "t0 = time.time()\n",
    "\n",
    "knn_low = Knn()\n",
    "knn_low.fit(df_x_train_low, df_y_train_low)\n",
    "\n",
    "# Predicting and getting accuracy\n",
    "knn_low_predictions = knn_low.predict(df_x_test_low, 5) \n",
    "low_accuracy = accuracy(df_y_test_low, knn_low_predictions)\n",
    "\n",
    "print(\"The accuracy score is:\", low_accuracy[0], \"taking {:.3f}s to run\".format(time.time()-t0))"
   ]
  },
  {
   "cell_type": "code",
   "execution_count": 17,
   "metadata": {},
   "outputs": [
    {
     "name": "stdout",
     "output_type": "stream",
     "text": [
      "The accuracy score is: 0.993 taking 0.305s to run\n"
     ]
    }
   ],
   "source": [
    "# Fitting on the high dataset\n",
    "t1 = time.time()\n",
    "\n",
    "knn_high = Knn()\n",
    "knn_high.fit(df_x_train_high, df_y_train_high)\n",
    "\n",
    "# Predicting and getting accuracy\n",
    "knn_high_predictions = knn_high.predict(df_x_test_high, 5) \n",
    "high_accuracy = accuracy(df_y_test_high, knn_high_predictions)\n",
    "\n",
    "print(\"The accuracy score is:\", high_accuracy[0], \"taking {:.3f}s to run\".format(time.time()-t1))"
   ]
  },
  {
   "cell_type": "markdown",
   "metadata": {},
   "source": [
    "### Part D: Comparing the results with Sklearn "
   ]
  },
  {
   "cell_type": "code",
   "execution_count": 18,
   "metadata": {},
   "outputs": [
    {
     "name": "stdout",
     "output_type": "stream",
     "text": [
      "The accuracy score for the Sklearn Model is: 0.925 taking 0.024s to run\n"
     ]
    },
    {
     "name": "stderr",
     "output_type": "stream",
     "text": [
      "C:\\ProgramData\\Anaconda3\\lib\\site-packages\\ipykernel_launcher.py:10: DataConversionWarning: A column-vector y was passed when a 1d array was expected. Please change the shape of y to (n_samples, ), for example using ravel().\n",
      "  # Remove the CWD from sys.path while we load stuff.\n"
     ]
    }
   ],
   "source": [
    "from sklearn.metrics import classification_report, confusion_matrix\n",
    "from sklearn.neighbors import KNeighborsClassifier\n",
    "from sklearn.preprocessing import StandardScaler\n",
    "from sklearn.metrics import accuracy_score\n",
    "import time\n",
    "\n",
    "t0 = time.time()\n",
    "\n",
    "sk_learn_knn_low = KNeighborsClassifier(5)\n",
    "sk_learn_knn_low.fit(df_x_train_low, df_y_train_low)\n",
    "\n",
    "y_low_predicted = sk_learn_knn_low.predict(df_x_test_low)\n",
    "low_accuracy_score = accuracy_score(df_y_test_low, y_low_predicted)\n",
    "\n",
    "print(\"The accuracy score for the Sklearn Model is:\", low_accuracy_score, \"taking {:.3f}s to run\".format(time.time()-t0))"
   ]
  },
  {
   "cell_type": "code",
   "execution_count": 19,
   "metadata": {},
   "outputs": [
    {
     "name": "stderr",
     "output_type": "stream",
     "text": [
      "C:\\ProgramData\\Anaconda3\\lib\\site-packages\\ipykernel_launcher.py:4: DataConversionWarning: A column-vector y was passed when a 1d array was expected. Please change the shape of y to (n_samples, ), for example using ravel().\n",
      "  after removing the cwd from sys.path.\n"
     ]
    },
    {
     "name": "stdout",
     "output_type": "stream",
     "text": [
      "The accuracy score for the Sklearn Model is: 0.993 taking 0.205s to run\n"
     ]
    }
   ],
   "source": [
    "t1 = time.time()\n",
    "\n",
    "sk_learn_knn_high = KNeighborsClassifier(5)\n",
    "sk_learn_knn_high.fit(df_x_train_high, df_y_train_high)\n",
    "\n",
    "y_high_predicted = sk_learn_knn_high.predict(df_x_test_high)\n",
    "high_accuracy_score = accuracy_score(df_y_test_high, y_high_predicted)\n",
    "\n",
    "print(\"The accuracy score for the Sklearn Model is:\", high_accuracy_score, \"taking {:.3f}s to run\".format(time.time()-t1))"
   ]
  },
  {
   "cell_type": "markdown",
   "metadata": {},
   "source": [
    "### Part D: Answer\n",
    "\n",
    "Although, the accuracy of both my model and the sklearn package were the same, sklearn ran much faster. Completing the low and high dimensional datasets  7 and 3.5x faster respectively."
   ]
  },
  {
   "cell_type": "markdown",
   "metadata": {},
   "source": [
    "### Part E: What are some of the drawbacks of the prediction process being slow.\n",
    "A slow prediction process can make the the model difficult to use in real time for something like Netflix recommendations, etc. "
   ]
  },
  {
   "cell_type": "markdown",
   "metadata": {},
   "source": [
    "## 5\n",
    "**[20 points] Bias-variance tradeoff I: Understanding the tradeoff**. This exercise will illustrate the impact of the bias-variance tradeoff on classifier performance by looking at classifier decision boundaries.\n",
    "\n",
    "**(a)** Create a synthetic dataset (with both features and targets). Use the [`make_moons`](http://scikit-learn.org/stable/modules/generated/sklearn.datasets.make_moons.html#sklearn.datasets.make_moons) module with the parameter `noise=0.35` to generate 1000 random samples.\n",
    "\n",
    "**(b)** Scatterplot your random samples with each class in a different color\n",
    "\n",
    "**(c)** Create 3 different data subsets by selecting 100 of the 1000 data points at random three times. For each of these 100-sample datasets, fit three k-Nearest Neighbor classifiers with: $k = \\{1, 25, 50\\}$. This will result in 9 combinations (3 datasets, with 3 trained classifiers).\n",
    "\n",
    "**(d)** For each combination of dataset trained classifier, in a 3-by-3 grid, plot the decision boundary (similar in style to Figure 2.15 from *Introduction to Statistical Learning*). Each column should represent a different value of $k$ and each row should represent a different dataset.\n",
    "\n",
    "**(e)** What do you notice about the difference between the rows and the columns. Which decision boundaries appear to best separate the two classes of data? Which decision boundaries vary the most as the data change?\n",
    "\n",
    "**(f)** Explain the bias-variance tradeoff using the example of the plots you made in this exercise.\n",
    "\n",
    "#### Sources: https://stackabuse.com/k-nearest-neighbors-algorithm-in-python-and-scikit-learn/\n",
    "#### https://scikit-learn.org/stable/auto_examples/ensemble/plot_voting_decision_regions.html"
   ]
  },
  {
   "cell_type": "markdown",
   "metadata": {},
   "source": [
    "**ANSWERS**"
   ]
  },
  {
   "cell_type": "markdown",
   "metadata": {},
   "source": [
    "### Part A/B: Synthetic Dataset/Plot"
   ]
  },
  {
   "cell_type": "code",
   "execution_count": 20,
   "metadata": {},
   "outputs": [
    {
     "data": {
      "image/png": "[encoded data removed]",
      "text/plain": [
       "<Figure size 432x288 with 1 Axes>"
      ]
     },
     "metadata": {
      "needs_background": "light"
     },
     "output_type": "display_data"
    }
   ],
   "source": [
    "# **(a)** Create a synthetic dataset (with both features and targets). Use the [`make_moons`]\n",
    "# (http://scikit-learn.org/stable/modules/generated/sklearn.datasets.make_moons.html#sklearn.datasets.make_moons) \n",
    "# module with the parameter `noise=0.35` to generate 1000 random samples.\n",
    "from sklearn.datasets import make_moons\n",
    "from matplotlib import pyplot\n",
    "import pandas as pd\n",
    "\n",
    "X, y = make_moons(n_samples=1000, noise=0.35)\n",
    "\n",
    "# Part B) Create a scatterplot\n",
    "df = pd.DataFrame(dict(x=X[:,0], y=X[:,1], label=y))\n",
    "colors = {0:'red', 1:'blue'}\n",
    "fig, ax = pyplot.subplots()\n",
    "grouped = df.groupby('label')\n",
    "for key, group in grouped:\n",
    "    group.plot(ax=ax, kind='scatter', x='x', y='y', label=key, color=colors[key])\n",
    "pyplot.show()"
   ]
  },
  {
   "cell_type": "markdown",
   "metadata": {},
   "source": [
    "### Part C: Creating 3 Different Data Subsets and Knn Combinations"
   ]
  },
  {
   "cell_type": "code",
   "execution_count": 21,
   "metadata": {},
   "outputs": [],
   "source": [
    "# Part C Creating three random samples\n",
    "df_1 = df.sample(n = 100) # Sample One\n",
    "df_2 = df.sample(n = 100) # Sample Two\n",
    "df_3 = df.sample(n = 100) # Sample Three"
   ]
  },
  {
   "cell_type": "markdown",
   "metadata": {},
   "source": [
    "### Part D: For each combination of dataset trained classifier, in a 3-by-3 grid, plot the decision boundary (similar in style to Figure 2.15 from *Introduction to Statistical Learning*). Each column should represent a different value of $k$ and each row should represent a different dataset."
   ]
  },
  {
   "cell_type": "code",
   "execution_count": 22,
   "metadata": {},
   "outputs": [],
   "source": [
    "# Fit three k-Nearest Neighbor classifiers with: k = {1, 25, 50\\}. \n",
    "# This will result in 9 combinations (3 datasets, with 3 trained classifiers).\n",
    "from sklearn.metrics import classification_report, confusion_matrix\n",
    "from sklearn.neighbors import KNeighborsClassifier\n",
    "from sklearn.preprocessing import StandardScaler\n",
    "\n",
    "import matplotlib\n",
    "import matplotlib.pyplot as plt\n",
    "from matplotlib.colors import ListedColormap\n",
    "from sklearn import neighbors, datasets\n",
    "\n",
    "def knn_function (df_files):\n",
    "    plt.figure(figsize = (10,10))\n",
    "    \n",
    "    for i,n in enumerate([1, 25, 50]):\n",
    "        for j,df in enumerate(df_files):\n",
    "            n_neighbors = n\n",
    "            \n",
    "            # Preparing Data\n",
    "            X = df.iloc[:,0:2].values\n",
    "            y = df.iloc[:, 2].values\n",
    "            h = .08 \n",
    "        \n",
    "            # Create color maps\n",
    "            #cmap_light = ListedColormap(['red', 'cyan']) # ,'#00AAFF' '#AAFFAA'\n",
    "            #cmap_bold = ListedColormap(['white', 'black']) # ,'#00AAFF'  '#FF0000', '#00FF00'\n",
    "            cmap_light = ListedColormap([\"#FFAAAA\", \"#AAAAFF\"])\n",
    "            cmap_bold = ListedColormap([\"#FF0000\", \"#0000FF\"])\n",
    "        \n",
    "            # we create an instance of Neighbours Classifier and fit the data.\n",
    "            clf = neighbors.KNeighborsClassifier(n_neighbors, weights='distance')\n",
    "            clf.fit(X, y)\n",
    "        \n",
    "            # calculate min, max and limits\n",
    "            x_min, x_max = X[:, 0].min() - 1, X[:, 0].max() + 1\n",
    "            y_min, y_max = X[:, 1].min() - 1, X[:, 1].max() + 1\n",
    "            xx, yy = np.meshgrid(np.arange(x_min, x_max, h), \n",
    "            np.arange(y_min, y_max, h)) \n",
    "        \n",
    "            # predict class using data and kNN classifier\n",
    "            Z = clf.predict(np.c_[xx.ravel(), yy.ravel()])\n",
    "        \n",
    "            # Put the result into a color plot\n",
    "            Z = Z.reshape(xx.shape)\n",
    "            sbplt = 3 * j + i + 1\n",
    "            plt.subplot(3, 3, sbplt)\n",
    "            plt.pcolormesh(xx, yy, Z, cmap=cmap_light)\n",
    "        \n",
    "            # Plot also the training points\n",
    "            plt.scatter(X[:, 0], X[:, 1], c=y, cmap=cmap_bold, s=10)\n",
    "            plt.xlim(xx.min(), xx.max())\n",
    "            plt.ylim(yy.min(), yy.max())\n",
    "            #fig.canvas.set_title('Window Title')\n",
    "            #plt.legend()\n",
    "            plt.title(\"(k = %i)\" % (n_neighbors))\n",
    "            #plt.show()"
   ]
  },
  {
   "cell_type": "code",
   "execution_count": 23,
   "metadata": {},
   "outputs": [
    {
     "data": {
      "image/png": "[encoded data removed]",
      "text/plain": [
       "<Figure size 720x720 with 9 Axes>"
      ]
     },
     "metadata": {
      "needs_background": "light"
     },
     "output_type": "display_data"
    }
   ],
   "source": [
    "df_files = [df_1, df_2, df_3]\n",
    "knn_function(df_files)"
   ]
  },
  {
   "cell_type": "markdown",
   "metadata": {},
   "source": [
    "### Part E: What do you notice about the difference between the rows and the columns. Which decision boundaries appear to best separate the two classes of data? Which decision boundaries vary the most as the data change?\n",
    "The rows demonstrate the difference in flexibility between the models. On the left, the\n",
    "highly flexible models overfit to the data, so the decision boundaries vary wildly across the rows\n",
    "(the different datasets). On the right, the less flexible models see less variation in the decision\n",
    "boundaries across the rows. The value here of k = 25 appears to do the best at separating the two\n",
    "classes that may generalize"
   ]
  },
  {
   "cell_type": "markdown",
   "metadata": {},
   "source": [
    "### Part F: Explain the bias-variance tradeoff using the example of the plots you made in this exercise.\n",
    "The bias-variance tradeoff reflects the challenge of choosing how much flexibility the model\n",
    "should have before it’s fit to the training data. Allowing too much results in overfitting (left column),\n",
    "the model begins to become less sensitive to changes in the samples as the flexibility decreases,\n",
    "but then begins to underfit the data as the value of k gets too high, which can be seen in\n",
    "the consistently high predictions errors of the right columns. The ideal is to carefully choose a\n",
    "level of flexibility that is not too high, but also is not too low so as to underfit the data.\n",
    "Note: there are not many data points in this exercise, and we’re only looking at the performance on the\n",
    "training (in-sample) data not the test (out-of-sample) data. The test data is where we legitimately evaluate\n",
    "generalization performance."
   ]
  },
  {
   "cell_type": "markdown",
   "metadata": {},
   "source": [
    "## 6\n",
    "**[20 points] Bias-variance trade-off II: Quantifying the tradeoff**. This exercise will explore the impact of the bias-variance tradeoff on classifier performance by looking at classifier decision boundaries.\n",
    "\n",
    "Here, the value of $k$ determines how flexible our model is.\n",
    "\n",
    "**(a)** Using the function created earlier to generate random samples (using the `make_moons` function), create a new set of 1000 random samples, and call this dataset your test set and the previously created dataset your training set.\n",
    "\n",
    "**(b)** Train a kNN classifier on your training set for $k = 1,2,...500$. Apply each of these trained classifiers to both your training dataset and your test dataset and plot the classification error (fraction of mislabeled datapoints).\n",
    "\n",
    "**(c)** What trend do you see in the results?\n",
    "\n",
    "**(d)** What values of $k$ represent high bias and which represent high variance?\n",
    "\n",
    "**(e)** What is the optimal value of $k$ and why?\n",
    "\n",
    "**(f)** In kNN classifiers, the value of k controls the flexibility of the model - what controls the flexibility of other models?"
   ]
  },
  {
   "cell_type": "markdown",
   "metadata": {},
   "source": [
    "**ANSWERS**"
   ]
  },
  {
   "cell_type": "markdown",
   "metadata": {},
   "source": [
    "### Part A: Creating Test Set and Using Previous Dataset as Training. "
   ]
  },
  {
   "cell_type": "code",
   "execution_count": 24,
   "metadata": {},
   "outputs": [],
   "source": [
    "X1, y1 = make_moons(n_samples=1000, noise=0.35)"
   ]
  },
  {
   "cell_type": "markdown",
   "metadata": {},
   "source": [
    "### Part B: Train a kNN classifier on the training set (X, y) for k = 1,2,...500. Apply these to both training and test datasets and plot the classification error.\n",
    "#### Source: https://scikit-learn.org/stable/modules/generated/sklearn.metrics.accuracy_score.html#sklearn.metrics.accuracy_score"
   ]
  },
  {
   "cell_type": "code",
   "execution_count": 25,
   "metadata": {},
   "outputs": [],
   "source": [
    "from sklearn.metrics import accuracy_score\n",
    "# Creating the Accuracy List \n",
    "accuracy_list_test = []\n",
    "accuracy_list_train = []\n",
    "k = range(1,501)\n",
    "for k_val in k:\n",
    "    n = k_val\n",
    "\n",
    "    classifier = KNeighborsClassifier(n_neighbors=n)\n",
    "    classifier.fit(X, y) # Fitting on Training\n",
    "    \n",
    "    y_pred_train = classifier.predict(X) # Predicting on Train\n",
    "    accuracy_list_train.append(accuracy_score(y, y_pred_train))\n",
    "    \n",
    "    y_pred_test = classifier.predict(X1) # Predicting on Test\n",
    "    accuracy_list_test.append(accuracy_score(y1, y_pred_test))"
   ]
  },
  {
   "cell_type": "code",
   "execution_count": 26,
   "metadata": {},
   "outputs": [],
   "source": [
    "# Creating the Error List\n",
    "error_rate_train = list(map(lambda x: 1-x, accuracy_list_train))\n",
    "error_rate_test = list(map(lambda x: 1-x, accuracy_list_test))"
   ]
  },
  {
   "cell_type": "code",
   "execution_count": 27,
   "metadata": {},
   "outputs": [
    {
     "data": {
      "image/png": "[encoded data removed]",
      "text/plain": [
       "<Figure size 432x288 with 1 Axes>"
      ]
     },
     "metadata": {
      "needs_background": "light"
     },
     "output_type": "display_data"
    }
   ],
   "source": [
    "plt.plot(k, error_rate_train, label = 'Training Error Rate', color = \"red\")\n",
    "plt.plot(k, error_rate_test, label = 'Test Error Rate', color = \"black\")\n",
    "plt.legend()\n",
    "plt.xlabel('K Value')\n",
    "plt.ylabel('Error Rate')\n",
    "plt.title('Training and Test Data Knn Performance')  \n",
    "plt.show()"
   ]
  },
  {
   "cell_type": "markdown",
   "metadata": {},
   "source": [
    "### Part C: What trend do you see in the results? \n",
    "Initially the training error is zero percent as k is close to one. As k increases the bias increases resulting in a lower error percentance on the test data until it reaches a certain threshold."
   ]
  },
  {
   "cell_type": "markdown",
   "metadata": {},
   "source": [
    "### Part D: What values of k represent high bias and which represent high variance?\n",
    "The lower value of k the higher the variance, as k increases the bias goes up."
   ]
  },
  {
   "cell_type": "markdown",
   "metadata": {},
   "source": [
    "### Part E: What is the optimal value of k and why?\n",
    "K = 44, because it has the highest accuracy score on the test data (work below)"
   ]
  },
  {
   "cell_type": "code",
   "execution_count": 28,
   "metadata": {},
   "outputs": [
    {
     "name": "stdout",
     "output_type": "stream",
     "text": [
      "145\n"
     ]
    }
   ],
   "source": [
    "# Finding the max k value of the list Question E\n",
    "max_value = max(accuracy_list_test)\n",
    "max_index = accuracy_list_test.index(max_value)\n",
    "print(max_index) "
   ]
  },
  {
   "cell_type": "markdown",
   "metadata": {},
   "source": [
    "### Part F: In kNN classifiers, the value of k controls the flexibility of the model - what controls the flexibility of other models?\n",
    "\n",
    "Linear and Logistic Regression can add higher order terms that act as \"tuning knobs\" to increase the flexibility of the model."
   ]
  },
  {
   "cell_type": "markdown",
   "metadata": {},
   "source": [
    "## 7\n",
    "**[20 points] Linear regression and nonlinear transformations**. You're given training and testing data contained in files \"A2_Q7_train.csv\" and \"A2_Q7_test.csv\" in the \"data\" folder for this assignment. Your goal is to develop a regression algorithm from the training data that performs well on the test data.\n",
    "\n",
    "*Hint: Use the scikit learn [LinearRegression](http://scikit-learn.org/stable/modules/generated/sklearn.linear_model.LinearRegression.html) module.*\n",
    "\n",
    "**(a)** Create a scatter plot of your training data.\n",
    "\n",
    "**(b)** Estimate a linear regression model ($y = a_0 + a_1 x$) for the training data and calculate both the $R^2$ value and mean square error for the fit of that model for the training data. Also provide the equation representing the estimated model (e.g. $y = a_0 + a_1 x$, but with the estimated coefficients inserted.\n",
    "\n",
    "**(c)** If features can be nonlinearly transformed, a linear model may incorporate those non-linear feature transformation relationships in the training process. From looking at the scatter plot of the training data, choose a transformation of the predictor variable, $x$ that may make sense for these data. This will be a multiple regression model of the form $y = a_0 + a_1 x_1 + a_2 x_2 + \\ldots + a_n x_n$. Here $x_i$ could be any transformations of x - perhaps it's $\\frac{1}{x}$, $log(x)$, $sin(x)$, $x^k$ (where $k$ is any power of your choosing). Provide the estimated equation for this multiple regression model (e.g. if you chose your predictors to be $x_1 = x$ and $x_2 = log(x)$, your model would be of the form $y = a_0 + a_1 x + a_2 log(x)$. Also provide the $R^2$ and mean square error of the fit for the training data.\n",
    "\n",
    "**(d)** Using both of the models you created here in (b) and (c), plot the original data (as a scatter plot) and the two curves representing your models (each as a separate line).\n",
    "\n",
    "**(e)** Using the models above, apply them to the test data and estimate the $R^2$ and mean square error of the test dataset.\n",
    "\n",
    "**(f)** Which models perform better on the training data, and which on the test data? Why?\n",
    "\n",
    "**(g)** Imagine that the test data were significantly different from the training dataset. How might this affect the predictive capability of your model? Why?"
   ]
  },
  {
   "cell_type": "markdown",
   "metadata": {},
   "source": [
    "**ANSWERS**"
   ]
  },
  {
   "cell_type": "markdown",
   "metadata": {},
   "source": [
    "##### Source: https://towardsdatascience.com/a-beginners-guide-to-linear-regression-in-python-with-scikit-learn-83a8f7ae2b4f"
   ]
  },
  {
   "cell_type": "code",
   "execution_count": 29,
   "metadata": {},
   "outputs": [],
   "source": [
    "# Reading in the Data \n",
    "df_q7_train = pd.read_csv(\"_data\\\\A2_Q7_train.csv\")\n",
    "df_q7_test = pd.read_csv(\"_data\\\\A2_Q7_test.csv\")\n",
    "\n",
    "#Sorting the data\n",
    "df_q7_train = df_q7_train.sort_values('x')\n",
    "df_q7_test = df_q7_test.sort_values('x')"
   ]
  },
  {
   "cell_type": "markdown",
   "metadata": {},
   "source": [
    "#### Part A: Creating a Scatter Plot of the Training Data"
   ]
  },
  {
   "cell_type": "code",
   "execution_count": 30,
   "metadata": {},
   "outputs": [
    {
     "data": {
      "image/png": "[encoded data removed]",
      "text/plain": [
       "<Figure size 432x288 with 1 Axes>"
      ]
     },
     "metadata": {
      "needs_background": "light"
     },
     "output_type": "display_data"
    }
   ],
   "source": [
    "plt.scatter(df_q7_train['x'],df_q7_train['y'], facecolor='b', alpha=0.25)\n",
    "plt.xlabel('X')\n",
    "plt.ylabel('Y')\n",
    "plt.title('Plot of Question 7 Training Data')\n",
    "plt.show()"
   ]
  },
  {
   "cell_type": "markdown",
   "metadata": {},
   "source": [
    "#### Part B: Estimate a Linear Regression Model on the Training Data and Compare the fit to the Training Data"
   ]
  },
  {
   "cell_type": "code",
   "execution_count": 31,
   "metadata": {},
   "outputs": [
    {
     "name": "stdout",
     "output_type": "stream",
     "text": [
      "The model has an intercept of 17.205 and a slope of 2.59072826\n",
      "The mean squared error is: 791.417\n",
      "The R^2 value is: 0.065\n"
     ]
    }
   ],
   "source": [
    "from sklearn.model_selection import train_test_split \n",
    "from sklearn.linear_model import LinearRegression\n",
    "from sklearn import metrics\n",
    "from sklearn.preprocessing import PolynomialFeatures\n",
    "\n",
    "# Reshaping the data\n",
    "x_train = np.array(df_q7_train['x']).reshape(-1, 1)\n",
    "y_train = np.array(df_q7_train['y']).reshape(-1, 1)\n",
    "\n",
    "regressor = LinearRegression()  \n",
    "regressor.fit(x_train, y_train) # Training the algorithm\n",
    "\n",
    "regressor1 = regressor.intercept_\n",
    "coef1 = regressor.coef_\n",
    "y_pred = regressor.predict(x_train)\n",
    "\n",
    "print(\"The model has an intercept of {:.3f} and a slope of {}\".format(regressor1[0], str(coef1).lstrip('[').rstrip(']')))\n",
    "print(\"The mean squared error is: {:.3f}\".format(metrics.mean_squared_error(y_train, y_pred)))\n",
    "print(\"The R^2 value is: {:.3f}\".format(metrics.r2_score(y_train, y_pred)))"
   ]
  },
  {
   "cell_type": "markdown",
   "metadata": {},
   "source": [
    "#### Estimated model from the training data\n",
    "$y = 17.20 + 2.59x, MSE: 791.42, R^2 = 0.065$"
   ]
  },
  {
   "cell_type": "markdown",
   "metadata": {},
   "source": [
    "#### Part C: Reshaping to improve the model"
   ]
  },
  {
   "cell_type": "code",
   "execution_count": 32,
   "metadata": {},
   "outputs": [
    {
     "name": "stdout",
     "output_type": "stream",
     "text": [
      "The model has an intercept of 24.155\n",
      "The model coefficients are  0.         -9.25191526 -2.12568583  0.89700921\n",
      "The mean squared error is : 510.88\n",
      "The R^2 value is : 0.396\n"
     ]
    }
   ],
   "source": [
    "# New x Function\n",
    "# Link = https://stackoverflow.com/questions/31406975/polynomial-regression-using-python\n",
    "poly = PolynomialFeatures(degree=3)\n",
    "x_train_2 =poly.fit_transform(x_train)\n",
    "\n",
    "# Fitting the model\n",
    "regressor_2 = LinearRegression()  \n",
    "regressor_2.fit(x_train_2, y_train) # Fitting with a polynomial.\n",
    "\n",
    "# Model Results\n",
    "regressor_2 = LinearRegression()  \n",
    "regressor_2.fit(x_train_2, y_train) # Training the algorithm\n",
    "y_pred_2 = regressor_2.predict(x_train_2)\n",
    "intercept2 = regressor_2.intercept_\n",
    "\n",
    "print(\"The model has an intercept of {:.3f}\".format(intercept2[0]))\n",
    "print(\"The model coefficients are {}\".format(str(regressor_2.coef_).lstrip('[').rstrip(']')))\n",
    "print(\"The mean squared error is : {:.2f}\".format(metrics.mean_squared_error(y_train, y_pred_2)))\n",
    "print(\"The R^2 value is : {:.3}\".format(metrics.r2_score(y_train, y_pred_2)))"
   ]
  },
  {
   "cell_type": "markdown",
   "metadata": {},
   "source": [
    "#### Estimated model from the training data \n",
    "$y = 24.16 - 9.25x - 2.13x^2 + 0.90x^3, MSE: 510.88, R^2 = 0.40$"
   ]
  },
  {
   "cell_type": "markdown",
   "metadata": {},
   "source": [
    "Using a cubic function I was able to fit the a much better model. Improving my MSE from 791.41 to 510.88 and my $R^2$ from 0.064 to 0.396. "
   ]
  },
  {
   "cell_type": "markdown",
   "metadata": {},
   "source": [
    "#### Part D: Plotting Both Models on the Training Data"
   ]
  },
  {
   "cell_type": "code",
   "execution_count": 33,
   "metadata": {},
   "outputs": [
    {
     "data": {
      "image/png": "[encoded data removed]",
      "text/plain": [
       "<Figure size 432x288 with 1 Axes>"
      ]
     },
     "metadata": {
      "needs_background": "light"
     },
     "output_type": "display_data"
    }
   ],
   "source": [
    "plt.scatter(df_q7_train['x'],df_q7_train['y'], facecolor='b', alpha=0.25)\n",
    "plt.plot(x_train, y_pred, label = 'Model One: Y = 17.20 + 2.59x', color = \"red\")\n",
    "plt.plot(x_train, y_pred_2, label = 'Model Two: Y = 24.16 - 9.252x - 2.125x^2 + 0.897x^3', color = \"black\")\n",
    "plt.legend()\n",
    "plt.xlabel('X')\n",
    "plt.ylabel('Y')\n",
    "plt.title('Plot of Model One and Two on the Training Data')\n",
    "plt.xlim((-5, 8))  \n",
    "plt.show()"
   ]
  },
  {
   "cell_type": "markdown",
   "metadata": {},
   "source": [
    "#### Part E: Applying the models to the test data."
   ]
  },
  {
   "cell_type": "code",
   "execution_count": 34,
   "metadata": {},
   "outputs": [
    {
     "name": "stdout",
     "output_type": "stream",
     "text": [
      "The R^2 value is: -0.171\n",
      "The R^2 value is: -0.485\n"
     ]
    }
   ],
   "source": [
    "x_test = np.array(df_q7_test['x']).reshape(-1, 1)\n",
    "y_test = np.array(df_q7_test['y']).reshape(-1, 1)\n",
    "\n",
    "# Model 1\n",
    "print(\"The R^2 value is: {:.3}\".format(metrics.r2_score(y_test, y_pred[0:20])))\n",
    "\n",
    "# Model 2\n",
    "print(\"The R^2 value is: {:.3}\".format(metrics.r2_score(y_test, y_pred_2[0:20])))"
   ]
  },
  {
   "cell_type": "markdown",
   "metadata": {},
   "source": [
    "#### Part F: Which models perform better on the training data, and which on the test data? Why?\n",
    "The transformed model (third order polynomial) functioned better than the simple linear regression\n",
    "approach because there was a nonlinear relationship between the target/response and\n",
    "feature/predictor variables. This relationship appeared visibly third order, and the coefficients\n",
    "a0, a1, a2, and a3 were large contributors to the model. In both the training and test data, the\n",
    "transformed features performed better than the single feature in both R2 and MSE, where the test\n",
    "performance increased the most. However, the test dataset is small, so we should exercise caution\n",
    "in overstating the generalizability of the model."
   ]
  },
  {
   "cell_type": "markdown",
   "metadata": {},
   "source": [
    "#### Part G: Imagine that the test data were significantly different from the training dataset. How might this affect the predictive capability of your model? Why?\n",
    "It’s important that the training data be representative of the model. Without representative\n",
    "examples, the predictions are likely to be inaccurate. Therefore, if the test data were significantly\n",
    "different from the training dataset, we would expect the predictive capability of the model to be\n",
    "lower.\n",
    "Now, one challenge here is what kind of difference is present. Perhaps there were more samples\n",
    "for lower x values in the training dataset than in the test dataset. Another challenge could be\n",
    "that the data were fundamentally different. Perhaps x values of 1 in the training data correspond\n",
    "to y values of 0.5 in the training data, but of something significantly higher, for example 37, in\n",
    "the test data. In this case, the model will learn from the examples seen. In either of these two\n",
    "scenarios, the model will struggle to make predictions on the test data that is not representative of\n",
    "the training data."
   ]
  }
 ],
 "metadata": {
  "kernelspec": {
   "display_name": "Python 3",
   "language": "python",
   "name": "python3"
  },
  "language_info": {
   "codemirror_mode": {
    "name": "ipython",
    "version": 3
   },
   "file_extension": ".py",
   "mimetype": "text/x-python",
   "name": "python",
   "nbconvert_exporter": "python",
   "pygments_lexer": "ipython3",
   "version": "3.7.6"
  },
  "varInspector": {
   "cols": {
    "lenName": 16,
    "lenType": 16,
    "lenVar": 40
   },
   "kernels_config": {
    "python": {
     "delete_cmd_postfix": "",
     "delete_cmd_prefix": "del ",
     "library": "var_list.py",
     "varRefreshCmd": "print(var_dic_list())"
    },
    "r": {
     "delete_cmd_postfix": ") ",
     "delete_cmd_prefix": "rm(",
     "library": "var_list.r",
     "varRefreshCmd": "cat(var_dic_list()) "
    }
   },
   "types_to_exclude": [
    "module",
    "function",
    "builtin_function_or_method",
    "instance",
    "_Feature"
   ],
   "window_display": false
  }
 },
 "nbformat": 4,
 "nbformat_minor": 4
}
