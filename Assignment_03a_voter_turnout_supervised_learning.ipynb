{
 "cells": [
  {
   "cell_type": "markdown",
   "metadata": {},
   "source": [
    "# Assignment 3 - Supervised Learning to Predict Voter Turnout"
   ]
  },
  {
   "cell_type": "markdown",
   "metadata": {},
   "source": [
    "## *Derek  Wales*\n",
    "Netid: XXXX"
   ]
  },
  {
   "cell_type": "markdown",
   "metadata": {},
   "source": [
    "Instructions for all assignments can be found [here](https://github.com/kylebradbury/ids705/blob/master/assignments/_Assignment%20Instructions.ipynb), which is also linked to from the [course syllabus](https://kylebradbury.github.io/ids705/index.html)."
   ]
  },
  {
   "cell_type": "markdown",
   "metadata": {},
   "source": [
    "## Learning Objectives:\n",
    "This assignment will provide structured practice to help enable you to...\n",
    "1. Understand the primary workflow in machine learning: (1) identifying a hypothesis function set of models, (2) determining a loss/cost/error/objective function to minimize, and (3) minimizing that function through gradient descent\n",
    "2. Implement batch gradient descent and become familiar with how that technique is used and its dependence on the choice of learning rate\n",
    "3. Gain practice in implementing machine learning algorithms to understand the math and programming behind them to achieve practical proficiency with the techniques\n",
    "4. Evaluate supervised learning algorithm performance through ROC curves and using cross validation\n",
    "5. Work with imagery data and the basics of computer vision approaches to machine learning\n",
    "6. Develop an understanding the optimal minimum misclassification error classifier (Bayes' classifier)"
   ]
  },
  {
   "cell_type": "markdown",
   "metadata": {},
   "source": [
    "### Supervised learning exploration\n",
    "\n",
    "For this exercise, you will construct and implement a supervised learning problem solution/experiment. Describe your process and answer these questions clearly and thoroughly. Part of the grade in this assignment is devoted to the quality and professionalism of your work.\n",
    "\n",
    "**(a)** Identify a question or problem that's of interest to you and that could be addressed using classification or regression. Explain why it's interesting and what you'd like to accomplish. You're encouraged to be creative.\n",
    "\n",
    "**(b)** Download the data and plot the data to describe it. You can use any dataset of interest to you with the exception of the Iris dataset, the Kaggle Titanic dataset, or the Kaggle chocolate dataset. Possible sources of dataset include (but are not limited to):\n",
    "\n",
    "- [UCI Machine Learning Repository](https://archive.ics.uci.edu/ml/index.php)\n",
    "- [Kaggle Datasets](https://www.kaggle.com/datasets)\n",
    "- [Amazon Open Datasets](https://registry.opendata.aws/)\n",
    "- [Microsoft's Open Data](https://msropendata.com/)\n",
    "- [Google's Dataset Search](https://datasetsearch.research.google.com/)\n",
    "- [Awesomedata's list of datasets](https://github.com/awesomedata/awesome-public-datasets)\n",
    "\n",
    "**(c)** Formulate your supervised learning question: (a) What is your target variable (what are you trying to predict) and what predictors do you have available? Does your dataset require any preprocessing: is it clean (no missing values or erroneous data) and normalized (are each of the predictors of the same magnitude)? \n",
    "\n",
    "**(d)** What supervised learning technique will you use and why? \n",
    "\n",
    "**(e)** How will you evaluate performance and know whether you succeeded (e.g. ROC curves for binary classification, mean square error or $R^2$ for regression)?\n",
    "\n",
    "**(f)** Divide your dataset into training and testing datasets OR implement cross validation. Explain your approach and why you adopted it.\n",
    "\n",
    "**(g)** Run your analysis and show your performance. Include plots of your data and of performance.\n",
    "\n",
    "**(h)** Describe how your system performed, where your supervised learning algorithm performed well, where it did not, and how you could improve it. Summarize the conclusions from your work (this should involve a degree of interpretation more so than \"my classifier achieved an AUC of 0.8\")."
   ]
  },
  {
   "cell_type": "markdown",
   "metadata": {},
   "source": [
    "*This grade for this question is based on (a) the completeness of the answer in addressing each of the above components, (b) the quality of the work and accuracy of the interpretation of the results of the analysis, (c) the presentation and professionalism of the work, and (d) the amount of creativity demonstrated by the work.*\n",
    "\n",
    "Source: <br>\n",
    "https://towardsdatascience.com/a-beginners-guide-to-linear-regression-in-python-with-scikit-learn-83a8f7ae2b4f <br>\n",
    "https://dataverse.harvard.edu/dataset.xhtml?persistentId=doi:10.7910/DVN/VOQCHQ <br>\n",
    "https://www.kaggle.com/benhamner/2016-us-election#county_facts_dictionary.csv"
   ]
  },
  {
   "cell_type": "markdown",
   "metadata": {},
   "source": [
    "**ANSWERS**"
   ]
  },
  {
   "cell_type": "markdown",
   "metadata": {},
   "source": [
    "4.A: Identifying a Machine Learning Question <br>\n",
    "For this question I chose to look at county wide demographics and election results in 2016 to see if demographics change voting patterns. I found this topic particularly interesting because it is an important election year for our country. Especially in the wake of the impeachment and the Democratic Primary, it is important to be able to identify voting patterns of various groups."
   ]
  },
  {
   "cell_type": "markdown",
   "metadata": {},
   "source": [
    "4.B: Loading in and Merging the Data"
   ]
  },
  {
   "cell_type": "code",
   "execution_count": 1,
   "metadata": {},
   "outputs": [],
   "source": [
    "# Library Imports\n",
    "import pandas as pd\n",
    "import numpy as np\n",
    "import sklearn.metrics as metrics\n",
    "from sklearn.metrics import r2_score\n",
    "import matplotlib.pyplot as plt\n",
    "from sklearn.model_selection import train_test_split  "
   ]
  },
  {
   "cell_type": "code",
   "execution_count": 2,
   "metadata": {},
   "outputs": [],
   "source": [
    "# Part B: Loading in and Merging the Data\n",
    "# Note, the analysis only looked at the 2016 Election and did not include 3rd Party Candidates\n",
    "\n",
    "demographics_df = pd.read_csv('_data\\county_facts_no_states_v2.csv')\n",
    "voting_df = pd.read_csv('_data\\countypres_2000-2016_edited_pre_python_v3.csv')\n",
    "\n",
    "# Completing the merge\n",
    "analysis_df_v1 = pd.merge(demographics_df, voting_df, on = 'fips', how = 'left', indicator = False)\n",
    "\n",
    "# Fixing string values in the response variable.\n",
    "analysis_df_v1[\"winning_cand_percentage\"] = pd.to_numeric(analysis_df_v1[\"winning_cand_percentage\"], errors ='coerce')"
   ]
  },
  {
   "cell_type": "markdown",
   "metadata": {},
   "source": [
    "4.C: <br>\n",
    "For my project I wanted to predict the winning candidate percentage (winning_cand_percentage) using demographic data. \n",
    "At the onset, there were two separate datasets one for county demographics in 2014 and the other on election results by county for 2000-16.  \n",
    "\n",
    "Because of this, the data did require a lot of preprocessing, most of which was done in excel. I first cut the elections data frame to just 2016, and I combined several of the rows of the data into one (so that each county was one row containing the complete results for the 2016 election). \n",
    "\n",
    "This resulted in rows that had total Republican/Democrat votes, State, FIPS (county code) and total votes. I then created a hybrid metric which determined, by county, the percentage of the vote the winning candidate had. If the value was negative that meant that Hilary Clinton had won that county, and if it was positive, that meant a victory for Donald Trump.  \n",
    "\n",
    "I then went through a similar process with the demographic data by county. Shrinking from 54 predictors to 24 that all primarily focused on age of the area, population density, household income, and racial makeup. \n",
    "\n",
    "After which I merged the two datasets based on the FIPS code and began my analysis."
   ]
  },
  {
   "cell_type": "code",
   "execution_count": 3,
   "metadata": {},
   "outputs": [
    {
     "name": "stdout",
     "output_type": "stream",
     "text": [
      "\n",
      " Note: Several transformations were attempted but they were unsuccessful. Ultimately there was no significant deviations from the assumptions of Linear Regression\n",
      "\n",
      " Linear Model Assumptions: Linearity, Independence of Errors, Equal Variance, and Normality\n"
     ]
    },
    {
     "name": "stderr",
     "output_type": "stream",
     "text": [
      "C:\\ProgramData\\Anaconda3\\lib\\site-packages\\numpy\\lib\\histograms.py:839: RuntimeWarning: invalid value encountered in greater_equal\n",
      "  keep = (tmp_a >= first_edge)\n",
      "C:\\ProgramData\\Anaconda3\\lib\\site-packages\\numpy\\lib\\histograms.py:840: RuntimeWarning: invalid value encountered in less_equal\n",
      "  keep &= (tmp_a <= last_edge)\n"
     ]
    },
    {
     "data": {
      "image/png": "[encoded data removed]",
      "text/plain": [
       "<Figure size 432x288 with 1 Axes>"
      ]
     },
     "metadata": {
      "needs_background": "light"
     },
     "output_type": "display_data"
    }
   ],
   "source": [
    "# Important command analysis_df_v1.columns.to_list()\n",
    "print(\"\\n Note: Several transformations were attempted but they were unsuccessful. Ultimately there was no significant deviations from the assumptions of Linear Regression\")\n",
    "print(\"\\n Linear Model Assumptions: Linearity, Independence of Errors, Equal Variance, and Normality\")\n",
    "\n",
    "# Plotting a histogram of the response video \"winning_cand_percentage\"\n",
    "n, bins, patches = plt.hist(analysis_df_v1[\"winning_cand_percentage\"], 30, density=True, facecolor='g', alpha=0.75)\n",
    "\n",
    "plt.xlabel('Winning Canidate Percentage')\n",
    "plt.title('Histogram The Voters for the Winning Candidate')\n",
    "plt.show()"
   ]
  },
  {
   "cell_type": "markdown",
   "metadata": {},
   "source": [
    "4.D:<br>\n",
    "Based on my EDA I chose to use Linear Regression, one because it will give a specific victory margin, and two it allows for inference on how much things like median income and population density effect voting. "
   ]
  },
  {
   "cell_type": "code",
   "execution_count": 4,
   "metadata": {},
   "outputs": [],
   "source": [
    "# Building the model\n",
    "import patsy\n",
    "import statsmodels.api as sm\n",
    "import statsmodels.formula.api as smf\n",
    "from statsmodels.formula.api import ols\n",
    "from sklearn.linear_model import LinearRegression\n",
    "from sklearn.metrics import r2_score\n",
    "\n",
    "varibles_1='winning_cand_percentage~C(state_abbreviation)+population_14+p_under18+p_over65+p_female+p_white+p_black+p_nAmerican+p_asian+p_pacificIsland+p_latino+p_foreignBorn+p_NotEnglish+p_highSchool+p_bachelors+p_vets+p_homeOwnership+p_multiStructures+person_per_house+median_hh_income+p_below_pov+pop_per_mile'           "
   ]
  },
  {
   "cell_type": "code",
   "execution_count": 5,
   "metadata": {},
   "outputs": [
    {
     "name": "stdout",
     "output_type": "stream",
     "text": [
      "The original model resulted in an R^2 of: 0.6977220560803653\n"
     ]
    }
   ],
   "source": [
    "# Part E: Building the model with sklearn.\n",
    "\n",
    "# Making sure there are no missing values in the DF\n",
    "analysis_df_v2 = pd.DataFrame(analysis_df_v1).fillna(0)\n",
    "\n",
    "# Changing state variblaes to categorical\n",
    "analysis_df_v2['state_abbreviation']=pd.get_dummies(analysis_df_v1['state_abbreviation'])\n",
    "\n",
    "# Fitting on the entire dataset\n",
    "X = analysis_df_v2[['state_abbreviation',\"population_14\",'p_under18','p_over65','p_female','p_white','p_black','p_nAmerican','p_asian','p_pacificIsland','p_latino',\n",
    "                'p_foreignBorn','p_NotEnglish','p_highSchool','p_bachelors','p_vets','p_homeOwnership','p_multiStructures','person_per_house',\n",
    "               'median_hh_income', 'p_below_pov']].values\n",
    "\n",
    "y = analysis_df_v2['winning_cand_percentage'].values\n",
    "\n",
    "regressor = LinearRegression()  \n",
    "regressor.fit(X, y)\n",
    "print('The original model resulted in an R^2 of:', regressor.score(X,y))"
   ]
  },
  {
   "cell_type": "markdown",
   "metadata": {},
   "source": [
    "Part E:<br>\n",
    "The model preformed well, with an $R2$ of 0.698. Meaning that the predicted values closely match the real life response variable."
   ]
  },
  {
   "cell_type": "markdown",
   "metadata": {},
   "source": [
    "Part F: Divide your dataset into training and testing datasets OR implement cross validation. Explain your approach and why you adopted it. <br>\n",
    "For this problem I chose to use train and test split because it allowed for a hold out set of unseeen data to compare the model to. "
   ]
  },
  {
   "cell_type": "code",
   "execution_count": 6,
   "metadata": {},
   "outputs": [
    {
     "data": {
      "text/html": [
       "<div>\n",
       "<style scoped>\n",
       "    .dataframe tbody tr th:only-of-type {\n",
       "        vertical-align: middle;\n",
       "    }\n",
       "\n",
       "    .dataframe tbody tr th {\n",
       "        vertical-align: top;\n",
       "    }\n",
       "\n",
       "    .dataframe thead th {\n",
       "        text-align: right;\n",
       "    }\n",
       "</style>\n",
       "<table border=\"1\" class=\"dataframe\">\n",
       "  <thead>\n",
       "    <tr style=\"text-align: right;\">\n",
       "      <th></th>\n",
       "      <th>Actual</th>\n",
       "      <th>Predicted</th>\n",
       "    </tr>\n",
       "  </thead>\n",
       "  <tbody>\n",
       "    <tr>\n",
       "      <th>0</th>\n",
       "      <td>0.234572</td>\n",
       "      <td>0.359107</td>\n",
       "    </tr>\n",
       "    <tr>\n",
       "      <th>1</th>\n",
       "      <td>0.194420</td>\n",
       "      <td>0.082744</td>\n",
       "    </tr>\n",
       "    <tr>\n",
       "      <th>2</th>\n",
       "      <td>0.846690</td>\n",
       "      <td>0.598101</td>\n",
       "    </tr>\n",
       "    <tr>\n",
       "      <th>3</th>\n",
       "      <td>0.267769</td>\n",
       "      <td>0.378117</td>\n",
       "    </tr>\n",
       "    <tr>\n",
       "      <th>4</th>\n",
       "      <td>0.600132</td>\n",
       "      <td>0.430264</td>\n",
       "    </tr>\n",
       "  </tbody>\n",
       "</table>\n",
       "</div>"
      ],
      "text/plain": [
       "     Actual  Predicted\n",
       "0  0.234572   0.359107\n",
       "1  0.194420   0.082744\n",
       "2  0.846690   0.598101\n",
       "3  0.267769   0.378117\n",
       "4  0.600132   0.430264"
      ]
     },
     "execution_count": 6,
     "metadata": {},
     "output_type": "execute_result"
    }
   ],
   "source": [
    "# Part G: Running analysis and showing performance. \n",
    "\n",
    "# Train test split\n",
    "X_train, X_test, y_train, y_test = train_test_split(X, y, test_size=0.3, random_state=12)\n",
    "\n",
    "# Fitting\n",
    "regressor.fit(X_train, y_train)\n",
    "\n",
    "# Predicting\n",
    "y_pred = regressor.predict(X_test)\n",
    "\n",
    "# Actual vs predicted by county\n",
    "df = pd.DataFrame({'Actual': y_test, 'Predicted': y_pred})\n",
    "df.head(5)"
   ]
  },
  {
   "cell_type": "code",
   "execution_count": 7,
   "metadata": {},
   "outputs": [
    {
     "data": {
      "image/png": "[encoded data removed]",
      "text/plain": [
       "<Figure size 864x540 with 1 Axes>"
      ]
     },
     "metadata": {
      "needs_background": "light"
     },
     "output_type": "display_data"
    }
   ],
   "source": [
    "df1 = df.head(25)\n",
    "df1.plot(kind='bar',figsize=(12,7.5))\n",
    "plt.grid(which='major', linestyle='-', linewidth='0.5', color='green')\n",
    "plt.grid(which='minor', linestyle=':', linewidth='0.5', color='black')\n",
    "plt.show()"
   ]
  },
  {
   "cell_type": "code",
   "execution_count": 8,
   "metadata": {},
   "outputs": [],
   "source": [
    "# from sklearn.metrics import roc_curve               \n",
    "# from sklearn.metrics import precision_recall_curve  \n",
    "# import sklearn.metrics as metrics                  \n",
    "# from sklearn.metrics import auc    \n"
   ]
  },
  {
   "cell_type": "code",
   "execution_count": 9,
   "metadata": {},
   "outputs": [
    {
     "data": {
      "text/plain": [
       "0.6922920074372811"
      ]
     },
     "execution_count": 9,
     "metadata": {},
     "output_type": "execute_result"
    }
   ],
   "source": [
    "metrics.r2_score(y_test, y_pred) # 0.0.6923"
   ]
  },
  {
   "cell_type": "markdown",
   "metadata": {},
   "source": [
    "Part G: Doing a train and test split slightly decreased the model performance, with a final $R2$ value of 0.692. Meaning that the predicted values decently match the real world results, especially considering that this is social studies data. "
   ]
  },
  {
   "cell_type": "markdown",
   "metadata": {},
   "source": [
    "Part H: Describe how your system performed, where your supervised learning algorithm performed well, where it did not, and how you could improve it. Summarize the conclusions from your work.\n",
    "\n",
    "Overall the model preformed well, scoring an R2 of 0.856 on the full dataset (results below), but the main advantage of using linear models is its interpretability. Which becomes especially clear when I use Statsmodels to print out a summary after I ran the updated model on the full dataset. This gave me a granular view into voting patterns by state and demographics. \n",
    "\n",
    "For example, being in Maine alone increasing the percentage of voting Democrat by 42% while being in Texas increases the percentage of Republican voters by 23%. There are also several other interesting trends as well. For example, for each percentage point of the population is below the poverty line, that increases the percent of Democratic Votes by 0.56% but as the percentage of whites as a percentage of the population goes up it increases the Republicans by 0.85%.\n",
    "\n",
    "However one weakness of this model is it only looks at the 2016 election and is probably not very generalizable because Trump is such a unique figure. Further work would probably focusing on models that are centered on Congressional and Senate races as well as Presidential ones to see if that effects voting patterns. \n",
    "\n",
    "Full model summary below."
   ]
  },
  {
   "cell_type": "code",
   "execution_count": 10,
   "metadata": {},
   "outputs": [
    {
     "name": "stdout",
     "output_type": "stream",
     "text": [
      "                               OLS Regression Results                              \n",
      "===================================================================================\n",
      "Dep. Variable:     winning_cand_percentage   R-squared:                       0.856\n",
      "Model:                                 OLS   Adj. R-squared:                  0.853\n",
      "Method:                      Least Squares   F-statistic:                     255.2\n",
      "Date:                     Wed, 15 Apr 2020   Prob (F-statistic):               0.00\n",
      "Time:                             09:46:41   Log-Likelihood:                 2267.6\n",
      "No. Observations:                     3115   AIC:                            -4391.\n",
      "Df Residuals:                         3043   BIC:                            -3956.\n",
      "Df Model:                               71                                         \n",
      "Covariance Type:                 nonrobust                                         \n",
      "===============================================================================================\n",
      "                                  coef    std err          t      P>|t|      [0.025      0.975]\n",
      "-----------------------------------------------------------------------------------------------\n",
      "Intercept                       0.9580      0.361      2.650      0.008       0.249       1.667\n",
      "C(state_abbreviation)[T.AL]     0.1301      0.084      1.548      0.122      -0.035       0.295\n",
      "C(state_abbreviation)[T.AR]    -0.0514      0.083     -0.616      0.538      -0.215       0.112\n",
      "C(state_abbreviation)[T.AZ]    -0.0448      0.087     -0.512      0.609      -0.216       0.127\n",
      "C(state_abbreviation)[T.CA]    -0.1983      0.080     -2.468      0.014      -0.356      -0.041\n",
      "C(state_abbreviation)[T.CO]    -0.0953      0.084     -1.137      0.256      -0.260       0.069\n",
      "C(state_abbreviation)[T.CT]    -0.1644      0.092     -1.790      0.074      -0.345       0.016\n",
      "C(state_abbreviation)[T.DC]    -0.0044      0.146     -0.030      0.976      -0.291       0.282\n",
      "C(state_abbreviation)[T.DE]    -0.0995      0.107     -0.933      0.351      -0.309       0.110\n",
      "C(state_abbreviation)[T.FL]     0.0361      0.083      0.435      0.664      -0.127       0.199\n",
      "C(state_abbreviation)[T.GA]     0.1226      0.083      1.479      0.139      -0.040       0.285\n",
      "C(state_abbreviation)[T.HI]     0.0970      0.165      0.588      0.556      -0.226       0.420\n",
      "C(state_abbreviation)[T.IA]    -0.3256      0.083     -3.922      0.000      -0.488      -0.163\n",
      "C(state_abbreviation)[T.ID]    -0.1142      0.085     -1.351      0.177      -0.280       0.052\n",
      "C(state_abbreviation)[T.IL]    -0.1849      0.083     -2.226      0.026      -0.348      -0.022\n",
      "C(state_abbreviation)[T.IN]    -0.1892      0.083     -2.271      0.023      -0.353      -0.026\n",
      "C(state_abbreviation)[T.KS]    -0.0359      0.083     -0.430      0.667      -0.199       0.128\n",
      "C(state_abbreviation)[T.KY]    -0.1009      0.084     -1.207      0.227      -0.265       0.063\n",
      "C(state_abbreviation)[T.LA]     0.1371      0.084      1.630      0.103      -0.028       0.302\n",
      "C(state_abbreviation)[T.MA]    -0.3806      0.088     -4.329      0.000      -0.553      -0.208\n",
      "C(state_abbreviation)[T.MD]    -0.0360      0.085     -0.423      0.672      -0.203       0.131\n",
      "C(state_abbreviation)[T.ME]    -0.4148      0.088     -4.725      0.000      -0.587      -0.243\n",
      "C(state_abbreviation)[T.MI]    -0.2648      0.083     -3.176      0.002      -0.428      -0.101\n",
      "C(state_abbreviation)[T.MN]    -0.3096      0.083     -3.726      0.000      -0.473      -0.147\n",
      "C(state_abbreviation)[T.MO]    -0.0878      0.083     -1.059      0.290      -0.251       0.075\n",
      "C(state_abbreviation)[T.MS]     0.1206      0.085      1.421      0.155      -0.046       0.287\n",
      "C(state_abbreviation)[T.MT]    -0.1123      0.084     -1.338      0.181      -0.277       0.052\n",
      "C(state_abbreviation)[T.NC]    -0.0377      0.083     -0.453      0.650      -0.201       0.125\n",
      "C(state_abbreviation)[T.ND]    -0.1112      0.084     -1.325      0.185      -0.276       0.053\n",
      "C(state_abbreviation)[T.NE]    -0.0363      0.083     -0.435      0.663      -0.200       0.127\n",
      "C(state_abbreviation)[T.NH]    -0.3695      0.090     -4.085      0.000      -0.547      -0.192\n",
      "C(state_abbreviation)[T.NJ]    -0.0745      0.084     -0.883      0.378      -0.240       0.091\n",
      "C(state_abbreviation)[T.NM]     0.1327      0.086      1.549      0.121      -0.035       0.301\n",
      "C(state_abbreviation)[T.NV]    -0.0198      0.085     -0.232      0.816      -0.187       0.147\n",
      "C(state_abbreviation)[T.NY]    -0.2195      0.083     -2.631      0.009      -0.383      -0.056\n",
      "C(state_abbreviation)[T.OH]    -0.1999      0.083     -2.395      0.017      -0.364      -0.036\n",
      "C(state_abbreviation)[T.OK]     0.1252      0.084      1.492      0.136      -0.039       0.290\n",
      "C(state_abbreviation)[T.OR]    -0.2333      0.083     -2.799      0.005      -0.397      -0.070\n",
      "C(state_abbreviation)[T.PA]    -0.1532      0.083     -1.838      0.066      -0.317       0.010\n",
      "C(state_abbreviation)[T.RI]    -0.2983      0.098     -3.039      0.002      -0.491      -0.106\n",
      "C(state_abbreviation)[T.SC]     0.0569      0.085      0.671      0.502      -0.109       0.223\n",
      "C(state_abbreviation)[T.SD]    -0.1244      0.084     -1.483      0.138      -0.289       0.040\n",
      "C(state_abbreviation)[T.TN]    -0.0320      0.083     -0.383      0.702      -0.196       0.132\n",
      "C(state_abbreviation)[T.TX]     0.2326      0.083      2.803      0.005       0.070       0.395\n",
      "C(state_abbreviation)[T.UT]    -0.1678      0.086     -1.955      0.051      -0.336       0.001\n",
      "C(state_abbreviation)[T.VA]    -0.0627      0.083     -0.759      0.448      -0.225       0.099\n",
      "C(state_abbreviation)[T.VT]    -0.5958      0.089     -6.704      0.000      -0.770      -0.422\n",
      "C(state_abbreviation)[T.WA]    -0.2606      0.083     -3.150      0.002      -0.423      -0.098\n",
      "C(state_abbreviation)[T.WI]    -0.3736      0.083     -4.488      0.000      -0.537      -0.210\n",
      "C(state_abbreviation)[T.WV]    -0.1014      0.084     -1.205      0.228      -0.266       0.064\n",
      "C(state_abbreviation)[T.WY]     0.0388      0.086      0.452      0.651      -0.129       0.207\n",
      "population_14                2.454e-08   1.99e-08      1.232      0.218   -1.45e-08    6.36e-08\n",
      "p_under18                       0.0243      0.001     16.615      0.000       0.021       0.027\n",
      "p_over65                        0.0063      0.001      5.889      0.000       0.004       0.008\n",
      "p_female                       -0.0194      0.001    -13.763      0.000      -0.022      -0.017\n",
      "p_white                         0.0085      0.003      2.487      0.013       0.002       0.015\n",
      "p_black                        -0.0065      0.003     -1.895      0.058      -0.013       0.000\n",
      "p_nAmerican                    -0.0013      0.004     -0.361      0.718      -0.008       0.006\n",
      "p_asian                         0.0011      0.004      0.272      0.786      -0.007       0.009\n",
      "p_pacificIsland                -0.0290      0.016     -1.772      0.076      -0.061       0.003\n",
      "p_latino                       -0.0092      0.001    -15.611      0.000      -0.010      -0.008\n",
      "p_foreignBorn                   0.0114      0.001     11.030      0.000       0.009       0.013\n",
      "p_NotEnglish                   -0.0065      0.001     -8.440      0.000      -0.008      -0.005\n",
      "p_highSchool                   -0.0012      0.001     -1.502      0.133      -0.003       0.000\n",
      "p_bachelors                    -0.0096      0.001    -16.352      0.000      -0.011      -0.008\n",
      "p_vets                      -6.802e-07   4.06e-07     -1.676      0.094   -1.48e-06    1.16e-07\n",
      "p_homeOwnership                -0.0028      0.001     -4.801      0.000      -0.004      -0.002\n",
      "p_multiStructures              -0.0049      0.001     -8.465      0.000      -0.006      -0.004\n",
      "person_per_house               -0.0468      0.018     -2.634      0.008      -0.082      -0.012\n",
      "median_hh_income            -1.534e-06   5.61e-07     -2.734      0.006   -2.63e-06   -4.34e-07\n",
      "p_below_pov                    -0.0056      0.001     -7.032      0.000      -0.007      -0.004\n",
      "pop_per_mile                 3.813e-06   1.56e-06      2.438      0.015    7.47e-07    6.88e-06\n",
      "==============================================================================\n",
      "Omnibus:                      142.759   Durbin-Watson:                   2.042\n",
      "Prob(Omnibus):                  0.000   Jarque-Bera (JB):              267.612\n",
      "Skew:                          -0.344   Prob(JB):                     7.74e-59\n",
      "Kurtosis:                       4.261   Cond. No.                     9.47e+07\n",
      "==============================================================================\n",
      "\n",
      "Warnings:\n",
      "[1] Standard Errors assume that the covariance matrix of the errors is correctly specified.\n",
      "[2] The condition number is large, 9.47e+07. This might indicate that there are\n",
      "strong multicollinearity or other numerical problems.\n"
     ]
    }
   ],
   "source": [
    "# Statsmodels Code\n",
    "# Running the first model on both train and test data.\n",
    "q4_model_1 = smf.ols(varibles_1, data = analysis_df_v1).fit()\n",
    "print(q4_model_1.summary())"
   ]
  },
  {
   "cell_type": "code",
   "execution_count": null,
   "metadata": {},
   "outputs": [],
   "source": []
  }
 ],
 "metadata": {
  "kernelspec": {
   "display_name": "Python 3",
   "language": "python",
   "name": "python3"
  },
  "language_info": {
   "codemirror_mode": {
    "name": "ipython",
    "version": 3
   },
   "file_extension": ".py",
   "mimetype": "text/x-python",
   "name": "python",
   "nbconvert_exporter": "python",
   "pygments_lexer": "ipython3",
   "version": "3.7.6"
  },
  "varInspector": {
   "cols": {
    "lenName": 16,
    "lenType": 16,
    "lenVar": 40
   },
   "kernels_config": {
    "python": {
     "delete_cmd_postfix": "",
     "delete_cmd_prefix": "del ",
     "library": "var_list.py",
     "varRefreshCmd": "print(var_dic_list())"
    },
    "r": {
     "delete_cmd_postfix": ") ",
     "delete_cmd_prefix": "rm(",
     "library": "var_list.r",
     "varRefreshCmd": "cat(var_dic_list()) "
    }
   },
   "position": {
    "height": "722px",
    "left": "1550px",
    "right": "20px",
    "top": "121px",
    "width": "353px"
   },
   "types_to_exclude": [
    "module",
    "function",
    "builtin_function_or_method",
    "instance",
    "_Feature"
   ],
   "window_display": false
  }
 },
 "nbformat": 4,
 "nbformat_minor": 4
}
