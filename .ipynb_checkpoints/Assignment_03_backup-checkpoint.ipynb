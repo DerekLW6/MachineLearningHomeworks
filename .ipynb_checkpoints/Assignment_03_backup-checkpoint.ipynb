{
 "cells": [
  {
   "cell_type": "markdown",
   "metadata": {},
   "source": [
    "# Assignment 3 - Supervised Learning"
   ]
  },
  {
   "cell_type": "markdown",
   "metadata": {},
   "source": [
    "## *Derek Lee Wales*\n",
    "Netid: dlw61"
   ]
  },
  {
   "cell_type": "markdown",
   "metadata": {},
   "source": [
    "Instructions for all assignments can be found [here](https://github.com/kylebradbury/ids705/blob/master/assignments/_Assignment%20Instructions.ipynb), which is also linked to from the [course syllabus](https://kylebradbury.github.io/ids705/index.html)."
   ]
  },
  {
   "cell_type": "markdown",
   "metadata": {},
   "source": [
    "## Learning Objectives:\n",
    "This assignment will provide structured practice to help enable you to...\n",
    "1. Understand the primary workflow in machine learning: (1) identifying a hypothesis function set of models, (2) determining a loss/cost/error/objective function to minimize, and (3) minimizing that function through gradient descent\n",
    "2. Implement batch gradient descent and become familiar with how that technique is used and its dependence on the choice of learning rate\n",
    "3. Gain practice in implementing machine learning algorithms to understand the math and programming behind them to achieve practical proficiency with the techniques\n",
    "4. Evaluate supervised learning algorithm performance through ROC curves and using cross validation\n",
    "5. Work with imagery data and the basics of computer vision approaches to machine learning\n",
    "6. Develop an understanding the optimal minimum misclassification error classifier (Bayes' classifier)"
   ]
  },
  {
   "cell_type": "markdown",
   "metadata": {},
   "source": [
    "## 1\n",
    "### [40 points] From theory to practice: classification through logistic regression\n",
    "\n",
    "#### Introduction\n",
    "For this problem you will derive, implement through gradient descent, and test the performance of a logistic regression classifier for a binary classification problem.\n",
    "\n",
    "In this case, we'll assume our logistic regression problem will be applied to a two dimensional feature space. Our logistic regression model is:\n",
    "\n",
    "$$f(\\mathbf{x}_i,\\mathbf{w})=\\sigma(\\mathbf{w}^{\\intercal} \\mathbf{x}_i)$$\n",
    "\n",
    "where the sigmoid function is defined as $\\sigma(x) = \\dfrac{e^x}{1+e^{x}}= \\dfrac{1}{1+e^{-x}}$. Also, since this is a two-dimensional problem, we define $\\mathbf{w}^{\\intercal} \\mathbf{x}_i = w_0 x_{i,0} + w_1 x_{i,1} + w_2 x_{i,2}$ and here, $\\mathbf{x}_i=[x_{i,0}, x_{i,1}, x_{i,2}]^{\\intercal}$, and $x_{i,0} \\triangleq 1$\n",
    "\n",
    "As in class, we will interpret the response of the logistic regression classifier to be the likelihood of the data given the model parameters. For one sample, $(y_i, \\mathbf{x}_i)$, this is given as:\n",
    "\n",
    "$$P(Y=y_i|X=\\mathbf{x}_i) = f(\\mathbf{x}_i,\\mathbf{w})=\\sigma(\\mathbf{w}^{\\intercal} \\mathbf{x}_i)$$\n",
    "\n",
    "*Aside: the careful reader will recognize this expression looks different from when we talk about the likelihood of our data given the true class label, typically expressed as $P(x|y)$, or the posterior probability of a class label given our data, typically expressed as $P(y|x)$. In the context of training a logistic regression model, we know the training $\\mathbf{x}$ values and $y$ values, so the above probability is primarily a function of the logistic regression parameters, $\\mathbf{w}$. It's our goal to use this to choose the parameters to maximize the probability of our data by adjusting our model*\n",
    "\n",
    "#### Find the cost function that we can use to choose the model parameters, $\\mathbf{w}$, that best fit the training data.\n",
    "\n",
    "**(a)** What is the likelihood function for all the $N$ samples in our training dataset that we will wish to maximize?\n",
    "\n",
    "**(b)** Since a logarithm is a monotonic function, maximizing the $f(x)$ is equivalent to maximizing $\\ln [f(x)]$. Express part (a) as a cost function of the model parameters, $C(\\mathbf{w})$, that is the negative of the logarithm of (a).\n",
    "\n",
    "**(c)** Calculate the gradient of the cost function with respect to the model parameters $\\nabla_{\\mathbf{w}}C(\\mathbf{w})$. Express this in terms of the partial derivatives of the cost function with respect to each of the parameters, e.g. $\\nabla_{\\mathbf{w}}C(\\mathbf{w}) = \\left[\\dfrac{\\partial C}{\\partial w_0}, \\dfrac{\\partial C}{\\partial w_1}, \\dfrac{\\partial C}{\\partial w_2}\\right]$.\n",
    "\n",
    "**(d)** Write out the gradient descent update equation, assuming $\\eta$ represents the learning rate.\n",
    "\n",
    "#### Prepare and plot your data\n",
    "\n",
    "**(e)** Load the data and scatter plot the data by class. In the data folder in the same directory of this notebook, you'll find the data in `A3_Q1_data.csv`. This file contains the binary class labels, $y$, and the features $x_1$ and $x_2$.  Comment on the data: do the data appear separable? Why might logistic regression be a good choice for these data or not?\n",
    "\n",
    "**(f)** Do the data require any preprocessing due to missing values, scale differences, etc? If so, how did you remediate this?\n",
    "\n",
    "#### Implement gradient descent and your logistic regression algorithm\n",
    "\n",
    "**(g)** Create a function or class to implement your logistic regression. It should take as inputs the model parameters, $\\mathbf{w}=\\left[w_0,w_1,w_2\\right]^{\\intercal}$, and output the class confidence probabilities, $P(Y=y_i|X=\\mathbf{x}_i)$.\n",
    "\n",
    "**(h)** Create a function that computes the cost function $C(\\mathbf{w})$ for a given dataset and corresponding class labels.\n",
    "\n",
    "**(i)** Create a function or class to run gradient descent on your training data. We'll refer to this as \"batch\" gradient descent since it takes into account the gradient based on all our data at each iteration (or \"epoch\") of the algorithm.  In doing this we'll need to make some assumptions about and/or experiment with the following:\n",
    "1. The initialization of the algorithm - what should you initialize the model parameters to? For this, randomly initialize the weights to a different values between 0 and 1.\n",
    "2. The learning rate - how slow/fast should the algorithm proceed in the direction opposite the gradient? This you will experiment with.\n",
    "3. Stopping criteria - when should the algorithm be finished searching for the optimum? Set this to be when the cost function changes by no more than $10^{-6}$ between iterations. Since we have a weight vector, you can compute this by seeing if the L2 norm of the weight vector changes by no more than $10^{-6}$ between iterations.\n",
    "\n",
    "Please compute your cost function for a batch as the average cost for the data in your current batch (in this case, a batch is your entire training dataset). In other words, divide your cost by the number of samples in each batch.\n",
    "\n",
    "**(j)** Design your approach so that at each step in the gradient descent algorithm it will produce updated parameter estimates. For each set of estimates, calculate the cost function for both the training and the test data (no output is necessary here, but this is used in the following question).\n",
    "\n",
    "**(k)** Divide your data into a training and testing set where the test set accounts for 30 percent of the data and the training set the remaining 70 percent. Show the gradient descent process for different learning rates by plotting the resulting cost as a function of each iteration (or \"epoch\"). What is the impact that each parameter has on the process and the results? What choices did you make in your chosen approach and why? Use the parameter you choose here for the learning rate for the remainder of this question. \n",
    "\n",
    "#### Test your model performance through cross validation\n",
    "\n",
    "**(l)** Test the performance of your trained classifier using K-folds cross validation (while this can be done manually, the scikit-learn package [StratifiedKFolds](http://scikit-learn.org/stable/modules/generated/sklearn.model_selection.StratifiedKFold.html#sklearn.model_selection.StratifiedKFold) may be helpful). Produce Receiver Operating Characteristic curves (ROC curves) of your cross validated performance. \n",
    "\n",
    "**(m)** Why do we use cross validation?\n",
    "\n",
    "**(n)** Make two plots - one of your training data, and one for your test data - with the data scatter-plot and the decision boundary for your classifier. Comment on your decision boundary. Could it be improved?\n",
    "\n",
    "**(o)** Compare your trained model to random guessing. Show the ROC curve for your model and plot the chance diagonal. What area under the curve (AUC) does your model achieve? How does your model compare in terms of performance?"
   ]
  },
  {
   "cell_type": "markdown",
   "metadata": {},
   "source": [
    "**ANSWERS**\n",
    "#### Latex Conversion: https://www.codecogs.com/latex/eqneditor.php"
   ]
  },
  {
   "cell_type": "markdown",
   "metadata": {},
   "source": [
    "**(a)** What is the likelihood function for all the $N$ samples in our training dataset that we will wish to maximize?"
   ]
  },
  {
   "cell_type": "markdown",
   "metadata": {},
   "source": [
    "$p(y|x) = \\prod_{i =1}^{N} \\sigma(w^txi)^yi [1-\\sigma(w^txi)]^{1-yi}$"
   ]
  },
  {
   "cell_type": "markdown",
   "metadata": {},
   "source": [
    "**(b)** Since a logarithm is a monotonic function, maximizing the $f(x)$ is equivalent to maximizing $\\ln [f(x)]$. Express part (a) as a cost function of the model parameters, $C(\\mathbf{w})$, that is the negative of the logarithm of (a)."
   ]
  },
  {
   "cell_type": "markdown",
   "metadata": {},
   "source": [
    "$ln[L(p)] = ln(p) \\sum_{i = 1}^{N} xi + ln(1-p)[N-\\sum_{i = 1}^{N} - xi]$"
   ]
  },
  {
   "cell_type": "markdown",
   "metadata": {},
   "source": [
    "**(c)** Calculate the gradient of the cost function with respect to the model parameters $\\nabla_{\\mathbf{w}}C(\\mathbf{w})$. Express this in terms of the partial derivatives of the cost function with respect to each of the parameters, e.g. $\\nabla_{\\mathbf{w}}C(\\mathbf{w}) = \\left[\\dfrac{\\partial C}{\\partial w_0}, \\dfrac{\\partial C}{\\partial w_1}, \\dfrac{\\partial C}{\\partial w_2}\\right]$."
   ]
  },
  {
   "cell_type": "markdown",
   "metadata": {},
   "source": [
    "**(d)** Write out the gradient descent update equation, assuming $\\eta$ represents the learning rate."
   ]
  },
  {
   "cell_type": "markdown",
   "metadata": {},
   "source": [
    "$x^{i + 1} = x^{i} + \\eta\\nu $"
   ]
  },
  {
   "cell_type": "markdown",
   "metadata": {},
   "source": [
    "**(e)** Load the data and scatter plot the data by class. In the data folder in the same directory of this notebook, you'll find the data in `A3_Q1_data.csv`. This file contains the binary class labels, $y$, and the features $x_1$ and $x_2$.  Comment on the data: do the data appear separable? Why might logistic regression be a good choice for these data or not?\n",
    " \n",
    "##### Sources: https://stackoverflow.com/questions/19064772/visualization-of-scatter-plots-with-overlapping-points-in-matplotlib, https://towardsdatascience.com/logistic-regression-from-scratch-with-numpy-da4cc3121ece"
   ]
  },
  {
   "cell_type": "code",
   "execution_count": 1,
   "metadata": {},
   "outputs": [],
   "source": [
    "# Part E: \n",
    "import pandas as pd\n",
    "import numpy as np\n",
    "import math\n",
    "\n",
    "from sklearn.metrics import classification_report, confusion_matrix\n",
    "from sklearn.neighbors import KNeighborsClassifier\n",
    "from sklearn.preprocessing import StandardScaler\n",
    "from sklearn import neighbors, datasets\n",
    "from sklearn.model_selection import train_test_split  \n",
    "from sklearn.model_selection import StratifiedKFold \n",
    "from sklearn.metrics import roc_curve               \n",
    "from sklearn.metrics import precision_recall_curve  \n",
    "import sklearn.metrics as metrics                  \n",
    "from sklearn.metrics import auc        \n",
    "from sklearn.model_selection import KFold\n",
    "from sklearn.linear_model import LogisticRegression       \n",
    "from sklearn.metrics import f1_score\n",
    "from sklearn.metrics import accuracy_score\n",
    "\n",
    "import matplotlib.pyplot as plt\n",
    "from matplotlib.colors import ListedColormap\n",
    "from plotnine import *\n",
    "\n",
    "from mnist import MNIST\n",
    "\n",
    "import warnings\n",
    "warnings.filterwarnings('ignore', module='plotnine')\n",
    "warnings.filterwarnings(\"ignore\", category=FutureWarning)\n",
    "warnings.filterwarnings(\"ignore\", category=RuntimeWarning)  \n",
    "#warnings.filterwarnings(\"ignore\", category=ConvergenceWarning)\n",
    "\n",
    "def plot_roc(labels, prediction_scores):\n",
    "    '''\n",
    "    Creates a plot of the Recieving Opering Characteristics (ROC) Curve\n",
    "    using the labels and predictions generated by the classifier.\n",
    "    AOC is the Area under the curve.\n",
    "    '''\n",
    "    fpr, tpr, _ = metrics.roc_curve(labels, prediction_scores, pos_label=1)\n",
    "    auc = metrics.roc_auc_score(labels, prediction_scores)\n",
    "    legend_string = 'AUC = {:0.3f}'.format(auc)\n",
    "    plt.figure(figsize = (12,8))\n",
    "    plt.plot([0,1],[0,1],'--', color='gray', label='Chance')\n",
    "    plt.plot(fpr, tpr, label=legend_string)\n",
    "    plt.xlabel('False Positive Rate')\n",
    "    plt.ylabel('True Positive Rate')\n",
    "    plt.legend()\n",
    "    plt.title('ROC for Logistic Regression')\n",
    "    plt.tight_layout()\n",
    "    plt.show()"
   ]
  },
  {
   "cell_type": "code",
   "execution_count": 2,
   "metadata": {},
   "outputs": [
    {
     "name": "stdout",
     "output_type": "stream",
     "text": [
      "\n",
      "Part E:\n"
     ]
    },
    {
     "data": {
      "image/png": "[encoded data removed]",
      "text/plain": [
       "<Figure size 432x288 with 1 Axes>"
      ]
     },
     "metadata": {
      "needs_background": "light"
     },
     "output_type": "display_data"
    },
    {
     "name": "stdout",
     "output_type": "stream",
     "text": [
      "\n",
      "Part F:\n",
      "This data does not require pre-processing because both isna() and describe() show no missing data and balanced variables. So no pre processing is required.\n",
      "However such much of the data overlaps logistic regression will be less effective\n"
     ]
    }
   ],
   "source": [
    "print(\"\\nPart E:\")\n",
    "q1_df = pd.read_csv('C:\\\\Users\\\\derek\\\\Desktop\\\\MIDS Program\\\\_MIDs 2nd Semester\\\\Machine Learning\\\\Assignments\\\\Assignment_3\\\\data\\\\A3_Q1_data.csv')\n",
    "\n",
    "# lables = [q1_df['x1'],q1_df['x2']]\n",
    "\n",
    "plt.scatter(x = 'x1' , y = 'x2', c = 'y', data = q1_df)\n",
    "plt.xlabel('X1')\n",
    "plt.ylabel('X2')\n",
    "plt.title('Plot of Y: Yellow = 0 and Purple = 1')\n",
    "plt.show()\n",
    "\n",
    "print(\"\\nPart F:\")\n",
    "print(\"This data does not require pre-processing because both isna() and describe() show no missing data and balanced variables. So no pre processing is required.\")\n",
    "print(\"However such much of the data overlaps logistic regression will be less effective\")"
   ]
  },
  {
   "cell_type": "code",
   "execution_count": 3,
   "metadata": {},
   "outputs": [],
   "source": [
    "# Question G - K\n",
    "class logreg():\n",
    "    def __init__(self):\n",
    "        self.lr = .3\n",
    "        self.w = np.random.random((X.shape[1],1)) # None\n",
    "        self.costs = []\n",
    "        pass\n",
    "    \n",
    "    def fit (self, X, y, lr):\n",
    "        \n",
    "        while True:\n",
    "            cost = self.cost(X,y)[0][0]\n",
    "            self.costs.append(cost)\n",
    "            self.w -= (self.gradient(X,y))*lr # lr is the learning rate\n",
    "            #print(\"current cost: {}\".format(cost))\n",
    "            if abs(self.cost(X,y)-cost) < 10e-6:\n",
    "                break\n",
    "    \n",
    "    def predict(self,X):\n",
    "        #w = np.random.random((X_train.shape[1],1)) # Added weights, not done by Jason\n",
    "        z = X@self.w # What is Z this?\n",
    "        p = self.sigmoid(z)\n",
    "        return p\n",
    "    \n",
    "    def sigmoid(self,z):\n",
    "        return 1/(1+np.exp(-z))\n",
    "    \n",
    "    def cost(self,X,y):\n",
    "        p = self.predict(X)\n",
    "        a = y.T@np.log(p)\n",
    "        b = (1-y).T@np.log(1-p)\n",
    "        return -(a+b)/(X.shape[0])\n",
    "    \n",
    "    def gradient(self,X,y):\n",
    "        p = self.predict(X)\n",
    "        return X.T@(p-y)"
   ]
  },
  {
   "cell_type": "code",
   "execution_count": 5,
   "metadata": {},
   "outputs": [],
   "source": [
    "# Splitting the data into train and test\n",
    "# Part K:\n",
    "# Plotting unsuccessful\n",
    "X_train, X_test, y_train, y_test = train_test_split(q1_df.iloc[:,0:2], q1_df.iloc[:,2:3], test_size=0.30, random_state=42)\n",
    "\n",
    "logR = logreg(X_train)\n",
    "logR.fit(X_train.values,y_train.values, .1)"
   ]
  },
  {
   "cell_type": "markdown",
   "metadata": {},
   "source": [
    "A successful plot would have shown that a faster learning rate would have shown less epochs to reach the threshold for accuracy of the cost function.  "
   ]
  },
  {
   "cell_type": "markdown",
   "metadata": {},
   "source": [
    "Part M: Why do we use Cross Validation\n",
    "We use Cross Validation to ensure our model is sufficiently trained without seeing the test data by exposing it to many combinations of the training data. This will ensure our model generalizes well without overfitting. "
   ]
  },
  {
   "cell_type": "markdown",
   "metadata": {},
   "source": [
    "#### Unable to complete questions l, n and o \n",
    "These questions if successful would have shown a clear separation in the probability that a point belongs to a class, and then fading colors towards the middle. \n",
    "\n",
    "The ROC curve would show how much more effectively the logistic model preformed over a random guess."
   ]
  },
  {
   "cell_type": "markdown",
   "metadata": {},
   "source": [
    "## 2\n",
    "\n",
    "### [20 points] Digits classification\n",
    "\n",
    "**(a)** Construct your dataset from the [MNIST dataset](http://yann.lecun.com/exdb/mnist/) of handwritten digits, which has a training set of 60,000 examples, and a test set of 10,000 examples. The digits have been size-normalized and centered in a fixed-size image.\n",
    "\n",
    "Your goal is to determine whether or not an example is a 3, therefore your binary classifier will seek to estimate $y=1$ if the digit is a 3, and $y=0$ otherwise. Create your dataset by transforming your labels into a binary format. \n",
    "\n",
    "**(b)** Plot 10 examples of each class (i.e. class $y=0$, which are not 3's and class $y=1$ which are 3's), from the training dataset.\n",
    "\n",
    "**(c)** How many examples are present in each class? Show a histogram of samples by class. Are the classes balanced? What issues might this cause?\n",
    "\n",
    "**(d)** Using cross-validation, train and test a classifier. Compare your performance against (1) a classifier that randomly guesses the class, and (2) a classifier that guesses that all examples are NOT 3's. Plot corresponding ROC curves and precision-recall curves. Describe the algorithm's performance and explain any discrepancies you find.\n",
    "\n",
    "**(e)** Using a logistic regression classifier (a linear classifier), apply lasso regularization and retrain the model and evaluate its performance over a range of values on the regularization coefficient. You can implement this using the [LogisticRegression](http://scikit-learn.org/stable/modules/generated/sklearn.linear_model.LogisticRegression.html) module (DO NOT use your function from question 1) and activating the 'l1' penalty; the parameter $C$ is the inverse of the regularization strength. As you vary the regularization coefficient, plot (1) the number of model parameters that are estimated to be nonzero; (2) the logistic regression cost function, which you created a function to evaluate in the Question 1; (3) $F_1$-score, and (4) area under the curve (AUC). Describe the implications of your findings."
   ]
  },
  {
   "cell_type": "markdown",
   "metadata": {},
   "source": [
    "**ANSWER**"
   ]
  },
  {
   "cell_type": "code",
   "execution_count": 6,
   "metadata": {},
   "outputs": [],
   "source": [
    "# Part A: Constructing Dataset\n",
    "# Source: https://stackoverflow.com/questions/40427435/extract-images-from-idx3-ubyte-file-or-gzip-via-python\n",
    "\n",
    "#Working \n",
    "mndata = MNIST('C:\\\\users\\\\derek\\\\Desktop\\\\MIDS Program\\\\_MIDs 2nd Semester\\\\Machine Learning\\\\Assignments\\\\Assignment_3\\\\_samples')\n",
    "\n",
    "images_train, labels_train = mndata.load_training()\n",
    "images_test, labels_test = mndata.load_testing()\n",
    "\n",
    "#convert data objects into numpy arrays\n",
    "images_train = np.array(images_train)\n",
    "labels_train = np.array(labels_train)\n",
    "images_test = np.array(images_test)\n",
    "labels_test = np.array(labels_test)\n",
    "\n",
    "# Reshape each image array to 28*28\n",
    "images_train = images_train.reshape(60000,28,28)\n",
    "images_test = images_test.reshape(10000,28,28)\n",
    "\n",
    "# Convert label binary where 3s are 1s and the rest are 0s (Working)\n",
    "labels_train = np.where(labels_train == 3, 1, 0)\n",
    "labels_test = np.where(labels_test == 3, 1, 0)"
   ]
  },
  {
   "cell_type": "code",
   "execution_count": 7,
   "metadata": {},
   "outputs": [
    {
     "data": {
      "image/png": "[encoded data removed]",
      "text/plain": [
       "<Figure size 1440x720 with 10 Axes>"
      ]
     },
     "metadata": {
      "needs_background": "light"
     },
     "output_type": "display_data"
    },
    {
     "data": {
      "image/png": "[encoded data removed]",
      "text/plain": [
       "<Figure size 1440x720 with 10 Axes>"
      ]
     },
     "metadata": {
      "needs_background": "light"
     },
     "output_type": "display_data"
    }
   ],
   "source": [
    "# Part B: 10 Examples of Each Class\n",
    "# Joe Littell, MIDS 20 assisted me in developing these plots.\n",
    "\n",
    "# 10 Examples of each \n",
    "train_image_1 = images_train[labels_train == 1][0:10]\n",
    "train_image_0 = images_train[labels_train == 0][0:10]\n",
    "\n",
    "# Also working \n",
    "fig1, axes1 = plt.subplots(1,10, figsize=(20,10))\n",
    "fig2, axes2 = plt.subplots(1,10, figsize=(20,10))\n",
    "\n",
    "# Class One Examples\n",
    "for i in range(10):\n",
    "    axes1[i].set_title('class {}'.format(1))\n",
    "    axes1[i].imshow(train_image_1[i])\n",
    "\n",
    "# Class Zero Examples\n",
    "for i in range(10):\n",
    "    axes2[i].set_title('class {}'.format(0))\n",
    "    axes2[i].imshow(train_image_0[i])\n",
    "    \n",
    "plt.show()"
   ]
  },
  {
   "cell_type": "code",
   "execution_count": 8,
   "metadata": {},
   "outputs": [
    {
     "name": "stdout",
     "output_type": "stream",
     "text": [
      "\n",
      "Part C:\n",
      "This dataset has: 53869 non threes and 6131 threes.\n",
      "\n",
      "Part C: Graph/Short Answer\n",
      "This shows an inbalance amoungst the classes which could lead to overfitting or inaccurate modeling.\n"
     ]
    },
    {
     "data": {
      "image/png": "[encoded data removed]",
      "text/plain": [
       "<Figure size 432x288 with 1 Axes>"
      ]
     },
     "metadata": {
      "needs_background": "light"
     },
     "output_type": "display_data"
    }
   ],
   "source": [
    "# Part C: How many examples are present in each class? Show a histogram of samples by class. Are the classes balanced? \n",
    "# What issues might this cause?\n",
    "\n",
    "print(\"\\nPart C:\")\n",
    "print(\"This dataset has:\", (labels_train.size - np.sum(labels_train)), \"non threes and\",np.sum(labels_train), \"threes.\")\n",
    "\n",
    "print(\"\\nPart C: Graph/Short Answer\")\n",
    "plt.hist(labels_train)\n",
    "plt.xlabel('Value')\n",
    "plt.ylabel('Count')\n",
    "plt.title('Bar Chart of Image Classification')\n",
    "\n",
    "print(\"This shows an inbalance amoungst the classes which could lead to overfitting or inaccurate modeling.\")"
   ]
  },
  {
   "cell_type": "code",
   "execution_count": 9,
   "metadata": {},
   "outputs": [],
   "source": [
    "# Part D:\n",
    "# Using cross-validation, train and test a classifier. Compare your performance against (1) a classifier that randomly guesses the \n",
    "# class, and (2) a classifier that guesses that all examples are NOT 3's. Plot corresponding ROC curves and precision-recall curves. \n",
    "# Describe the algorithm's performance and explain any discrepancies you find.\n",
    "\n",
    "from sklearn.model_selection import StratifiedKFold\n",
    "skf = StratifiedKFold(n_splits=2)\n",
    "skf.get_n_splits(images_train, labels_train.reshape(-1,1))"
   ]
  },
  {
   "cell_type": "code",
   "execution_count": 10,
   "metadata": {},
   "outputs": [],
   "source": [
    "for train_index, val_index in skf.split(X, y):\n",
    "    # Extract the training and validation data for this fold\n",
    "    X_train, X_val   = X[train_index], X[val_index]\n",
    "    y_train          = y[train_index]\n",
    "        \n",
    "    # Train the classifier\n",
    "    # X_train_features = preprocess_and_extract_features(X_train)\n",
    "    clf              = logisticRegr.fit(images_train, labels_train.reshape(-1, 1))\n",
    "        \n",
    "    # Test the classifier on the validation data for this fold\n",
    "    cpred            = logisticRegr.predict_proba(images_test.reshape(10000, 784))\n",
    "        \n",
    "    # Save the predictions for this fold\n",
    "    prediction_scores[val_index] = cpred[:,1]"
   ]
  },
  {
   "cell_type": "code",
   "execution_count": 11,
   "metadata": {},
   "outputs": [
    {
     "name": "stderr",
     "output_type": "stream",
     "text": [
      "C:\\ProgramData\\Anaconda3\\lib\\site-packages\\sklearn\\utils\\validation.py:724: DataConversionWarning: A column-vector y was passed when a 1d array was expected. Please change the shape of y to (n_samples, ), for example using ravel().\n",
      "  y = column_or_1d(y, warn=True)\n",
      "C:\\ProgramData\\Anaconda3\\lib\\site-packages\\sklearn\\svm\\base.py:929: ConvergenceWarning: Liblinear failed to converge, increase the number of iterations.\n",
      "  \"the number of iterations.\", ConvergenceWarning)\n"
     ]
    },
    {
     "name": "stdout",
     "output_type": "stream",
     "text": [
      "\n",
      "Part D.1/D.2: The grey line represents a random guess.\n"
     ]
    },
    {
     "data": {
      "image/png": "[encoded data removed]",
      "text/plain": [
       "<Figure size 864x576 with 1 Axes>"
      ]
     },
     "metadata": {
      "needs_background": "light"
     },
     "output_type": "display_data"
    }
   ],
   "source": [
    "images_train = images_train.reshape(60000, 784) # Reshaping the images data to fit logistic regression\n",
    "logisticRegr = LogisticRegression()\n",
    "\n",
    "logisticRegr.fit(images_train, labels_train.reshape(-1, 1)) # The fit worked\n",
    "predictions = logisticRegr.predict_proba(images_test.reshape(10000, 784)) # Got the predictions working\n",
    "\n",
    "print(\"\\nPart D.1/D.2: The grey line represents a random guess.\")\n",
    "plot_roc(labels_test,predictions[:,1])"
   ]
  },
  {
   "cell_type": "code",
   "execution_count": 12,
   "metadata": {},
   "outputs": [
    {
     "name": "stdout",
     "output_type": "stream",
     "text": [
      "\n",
      "Part D.1/D.2: Precision Recall Curve\n",
      "Logistic: f1=0.891 auc=0.941\n"
     ]
    },
    {
     "data": {
      "image/png": "[encoded data removed]",
      "text/plain": [
       "<Figure size 864x576 with 1 Axes>"
      ]
     },
     "metadata": {
      "needs_background": "light"
     },
     "output_type": "display_data"
    }
   ],
   "source": [
    "print(\"\\nPart D.1/D.2: Precision Recall Curve\")\n",
    "yhat = logisticRegr.predict(images_test.reshape(10000, 784))\n",
    "\n",
    "lr_precision, lr_recall, _ = precision_recall_curve(labels_test, predictions[:,1]) # Working\n",
    "lr_f1, lr_auc = f1_score(labels_test, yhat), auc(lr_recall, lr_precision) # Working\n",
    "\n",
    "print('Logistic: f1=%.3f auc=%.3f' % (lr_f1, lr_auc))\n",
    "no_skill = len(labels_test[labels_test==1]) / len(labels_test)\n",
    "plt.figure(figsize = (12,8))\n",
    "plt.plot(lr_recall, lr_precision, marker='.', label='Logistic')\n",
    "\n",
    "plt.plot([0,1],[0,0],'--', color='gray', label='Chance')\n",
    "\n",
    "# axis labels\n",
    "plt.xlabel('Recall')\n",
    "plt.ylabel('Precision')\n",
    "\n",
    "# show the legend\n",
    "plt.legend()\n",
    "\n",
    "# show the plot\n",
    "plt.show()"
   ]
  },
  {
   "cell_type": "code",
   "execution_count": 13,
   "metadata": {},
   "outputs": [
    {
     "name": "stdout",
     "output_type": "stream",
     "text": [
      "\n",
      "Part D.3: Guess of All Zeros\n"
     ]
    },
    {
     "data": {
      "image/png": "[encoded data removed]",
      "text/plain": [
       "<Figure size 864x576 with 1 Axes>"
      ]
     },
     "metadata": {
      "needs_background": "light"
     },
     "output_type": "display_data"
    }
   ],
   "source": [
    "print(\"\\nPart D.3: Guess of All Zeros\")\n",
    "zero_array = np.zeros((10000, 1))\n",
    "plot_roc(labels_test, zero_array)"
   ]
  },
  {
   "cell_type": "code",
   "execution_count": 14,
   "metadata": {},
   "outputs": [
    {
     "name": "stdout",
     "output_type": "stream",
     "text": [
      "\n",
      "Part D.3: Precision Recall Curve Zero Array\n",
      "Logistic: f1=0.000 auc=0.550\n"
     ]
    },
    {
     "name": "stderr",
     "output_type": "stream",
     "text": [
      "C:\\ProgramData\\Anaconda3\\lib\\site-packages\\sklearn\\metrics\\classification.py:1437: UndefinedMetricWarning: F-score is ill-defined and being set to 0.0 due to no predicted samples.\n",
      "  'precision', 'predicted', average, warn_for)\n"
     ]
    },
    {
     "data": {
      "image/png": "[encoded data removed]",
      "text/plain": [
       "<Figure size 864x576 with 1 Axes>"
      ]
     },
     "metadata": {
      "needs_background": "light"
     },
     "output_type": "display_data"
    }
   ],
   "source": [
    "print(\"\\nPart D.3: Precision Recall Curve Zero Array\")\n",
    "#yhat = logisticRegr.predict(images_test.reshape(10000, 784))\n",
    "\n",
    "lr_precision, lr_recall, _ = precision_recall_curve(labels_test, zero_array) \n",
    "lr_f1, lr_auc = f1_score(labels_test, zero_array), auc(lr_recall, lr_precision) \n",
    "\n",
    "print('Logistic: f1=%.3f auc=%.3f' % (lr_f1, lr_auc))\n",
    "no_skill = len(labels_test[labels_test==1]) / len(labels_test)\n",
    "plt.figure(figsize = (12,8))\n",
    "plt.plot(lr_recall, lr_precision, marker='.', label='Logistic')\n",
    "\n",
    "plt.plot([0,1],[0,0],'--', color='gray', label='Chance')\n",
    "\n",
    "# axis labels\n",
    "plt.xlabel('Recall')\n",
    "plt.ylabel('Precision')\n",
    "\n",
    "# show the legend\n",
    "plt.legend()\n",
    "\n",
    "# show the plot\n",
    "plt.show()"
   ]
  },
  {
   "cell_type": "markdown",
   "metadata": {},
   "source": [
    "## 3\n",
    "\n",
    "### [10 points] Comparing the Bayes' decision rule with logistic regression\n",
    "\n",
    "The phrase \"Bayes' decision rule\" is often used to describe a classifier decision rule that minimizes misclassification rate (equally penalizing false positives and false negatives). In this exercise you will first determine the Bayes's decision rule for a binary classification problem where you know the likelihood of date from each class. The binary classification problem has two classes with data distributed as exponential random variables:\n",
    "\n",
    "$$P(x|C_i) = \\lambda_i e^{-\\lambda_i x}$$\n",
    "\n",
    "Where $C_i$ represents the class from which the sample is drawn (0 or 1). We also know that $\\lambda_0 = 1$ and $\\lambda_1 = 5$.\n",
    "\n",
    "**(a)** Plot the probability of each class conditional distribution (e.g. likelihood function), $P(x|C_0)$ and $P(x|C_1)$ on the sample plot in the domain $x \\in [0,2]$. *You can use [`scipy`'s `expon` module](https://docs.scipy.org/doc/scipy/reference/generated/scipy.stats.expon.html#scipy.stats.expon) for this. Note that the `scale` parameter for this module is defined as $1/\\lambda$.*\n",
    "\n",
    "**(b)** Assuming the prior class distributions are $P(C_0)=P(C_1)=0.5$, determine the Bayes' decision rule using the information above including the posterior distributions and the prior distributions. You will assign the most probable class to the data based on the value of $x$. The decision rule will be of the form: \n",
    "\n",
    "If $x > x^*$, then predict Class 0, otherwise predict Class 1\n",
    "\n",
    "Determine the value $x^*$ that minimizes misclassification (equally penalizing false positives and false negatives, and no penalty/reward for correct detections). Show your work in deriving this value.\n",
    "\n",
    "**(c)** How does your answer in (b) relate to the the plot you made in (a)? Why?\n",
    "\n",
    "**(d)** Load the test data in the file `A3_Q3_test.csv`. Apply your decision rule to the data. What is the misclassification rate (error rate, or fraction of misclassified samples) of this decision rule?\n",
    "\n",
    "**(e)** Load the training data in the file `A3_Q3_train.csv` and train a logistic regression classifier on the data (using default parameters). What is your misclassification error for your test dataset? How does this compare with the Bayes' classifier?\n",
    "\n",
    "**(f)** What is your decision rule for your logistic regression model? To compute this, extract the parameters from your fit model (look for the `coef_` and `intercept_` attributes) and since the classes are balanced, the decision rule will be to classify a sample $x$ as Class 1 when your logistic regression sigmoid is greater than 0.5 (the halfway point from the two extremes of 0 and 1). How does this compare with the Bayes' classifier?\n",
    "\n",
    "**(g)** If the prior probabilities were not $P(C_0)=P(C_1)=0.5$, but instead if P(C_1)>P(C_0). How would this impact the optimal decision rule? Would it change, if so, would $x^*$ be larger or smaller?"
   ]
  },
  {
   "cell_type": "markdown",
   "metadata": {},
   "source": [
    "**ANSWERS**"
   ]
  },
  {
   "cell_type": "code",
   "execution_count": 15,
   "metadata": {},
   "outputs": [
    {
     "name": "stdout",
     "output_type": "stream",
     "text": [
      "\n",
      "Part A: Plotting each class distribution\n"
     ]
    },
    {
     "data": {
      "text/plain": [
       "<matplotlib.legend.Legend at 0x1d535013a08>"
      ]
     },
     "execution_count": 15,
     "metadata": {},
     "output_type": "execute_result"
    },
    {
     "data": {
      "image/png": "[encoded data removed]",
      "text/plain": [
       "<Figure size 432x288 with 1 Axes>"
      ]
     },
     "metadata": {
      "needs_background": "light"
     },
     "output_type": "display_data"
    }
   ],
   "source": [
    "print(\"\\nPart A: Plotting each class distribution\")\n",
    "from scipy.stats import expon\n",
    "\n",
    "# Expon F(X)\n",
    "def f(x,l=1):\n",
    "    return l*np.exp(-l*x)\n",
    "\n",
    "x = np.arange(0,2,0.05) # Creating the x values\n",
    "\n",
    "plt.plot(x, f(x,5)) # Lamda f = 5\n",
    "plt.plot(x,f(x)) # Lamda f = 1\n",
    "plt.title(\"Plot of Both Lamda Functions\")\n",
    "plt.legend(\"51\")"
   ]
  },
  {
   "cell_type": "markdown",
   "metadata": {},
   "source": [
    "Andrew Patterson, MIDS 21 assisted me in developing the Bayes Decision Boundary."
   ]
  },
  {
   "cell_type": "markdown",
   "metadata": {},
   "source": [
    "Part B: Providing the Bayes Decision Rule in $x > x^*$, then predict Class 0, otherwise predict Class 1\n",
    "\n",
    "$P(x|C_i) = \\lambda_i e^{-\\lambda_i x}$\n",
    "\n",
    "$P(x|C_0) = P(x|C_1) = 0.5$\n",
    "\n",
    "$P(x|C_0)/P(x|C_1) > P(C_1)/P(C_0)$\n",
    "\n",
    "$P(x|C_0)/P(x|C_1) > 1$\n",
    "\n",
    "$e^{-x} / 5e^{-5x} > 1$\n",
    "\n",
    "Resulting in a decision boundary of 0.403"
   ]
  },
  {
   "cell_type": "markdown",
   "metadata": {},
   "source": [
    "Part C: The decision boundary of 0.403 derived in Part B, this is the intercetion of the two graphs from Part A."
   ]
  },
  {
   "cell_type": "code",
   "execution_count": 16,
   "metadata": {},
   "outputs": [
    {
     "name": "stdout",
     "output_type": "stream",
     "text": [
      "Part D: I used a X value of 0.403 for that decision boundary this resulted in a 0.234 error rate\n"
     ]
    }
   ],
   "source": [
    "# Part D: \n",
    "dec_bound = .403\n",
    "a3_test_df = pd.read_csv('C:\\\\Users\\\\derek\\\\Desktop\\\\MIDS Program\\\\_MIDs 2nd Semester\\\\Machine Learning\\\\Assignments\\\\Assignment_3\\\\data\\\\A3_Q3_test.csv')\n",
    "\n",
    "# Adding a column of predicted values\n",
    "a3_predict = a3_test_df.copy()\n",
    "a3_predict['predicted'] = np.where(a3_predict['x'] >= dec_bound, 0, 1) \n",
    "\n",
    "# Seeing if the the guess matches actual. \n",
    "a3_predict['c_guess'] = np.where(a3_predict['y'] == a3_predict['predicted'], 1, 0) \n",
    "\n",
    "# Calculating the rate\n",
    "accuracy_score = np.sum(a3_predict['c_guess'])/len(a3_predict)\n",
    "\n",
    "# Printing the error rate\n",
    "print('Part D: I used a X value of 0.403 for that decision boundary this resulted in a {:.3f} error rate'.format(1-accuracy_score))"
   ]
  },
  {
   "cell_type": "code",
   "execution_count": 18,
   "metadata": {},
   "outputs": [
    {
     "name": "stdout",
     "output_type": "stream",
     "text": [
      "Part E: I used a standard logistic regression and it had a 0.234 misclassification rate\n",
      "This is the exact same as the Bayes Classifier.\n"
     ]
    }
   ],
   "source": [
    "# Part E: Load the training data in the file `A3_Q3_train.csv` and train a logistic regression classifier on the data (using default parameters). \n",
    "\n",
    "# Loading the data for A3\n",
    "a3_train_df = pd.read_csv('C:\\\\Users\\\\derek\\\\Desktop\\\\MIDS Program\\\\_MIDs 2nd Semester\\\\Machine Learning\\\\Assignments\\\\Assignment_3\\\\data\\\\A3_Q3_train.csv')\n",
    "\n",
    "# Splitting the data\n",
    "X = a3_train_df['x']\n",
    "y = a3_train_df['y']\n",
    "\n",
    "# Converting to Numpy\n",
    "X = X.to_numpy()\n",
    "y = y.to_numpy()\n",
    "\n",
    "# Reshaping \n",
    "X = X.reshape(-1, 1)\n",
    "y = y.reshape(-1, 1)\n",
    "\n",
    "# Fiting the model\n",
    "logisticRegr.fit(X,y)\n",
    "\n",
    "# Predicting the y\n",
    "predictions_2 = logisticRegr.predict(X) # Got the predictions working\n",
    "# Accuracy Score\n",
    "acc_score = accuracy_score(y, predictions_2)\n",
    "\n",
    "# Misclassification Score\n",
    "print('Part E: I used a standard logistic regression and it had a {:.3f} misclassification rate'.format(acc_score))\n",
    "print('This is the exact same as the Bayes Classifier.')"
   ]
  },
  {
   "cell_type": "code",
   "execution_count": 19,
   "metadata": {},
   "outputs": [
    {
     "name": "stdout",
     "output_type": "stream",
     "text": [
      "[1.60336319] [[-3.97529426]]\n"
     ]
    }
   ],
   "source": [
    "# Part F/G:\n",
    "print(logisticRegr.intercept_, logisticRegr.coef_)"
   ]
  },
  {
   "cell_type": "markdown",
   "metadata": {},
   "source": [
    "## 4\n",
    "\n",
    "### [30 points] Supervised learning exploration\n",
    "\n",
    "For this exercise, you will construct and implement a supervised learning problem solution/experiment. Describe your process and answer these questions clearly and thoroughly. Part of the grade in this assignment is devoted to the quality and professionalism of your work.\n",
    "\n",
    "**(a)** Identify a question or problem that's of interest to you and that could be addressed using classification or regression. Explain why it's interesting and what you'd like to accomplish. You're encouraged to be creative.\n",
    "\n",
    "**(b)** Download the data and plot the data to describe it. You can use any dataset of interest to you with the exception of the Iris dataset, the Kaggle Titanic dataset, or the Kaggle chocolate dataset. Possible sources of dataset include (but are not limited to):\n",
    "\n",
    "- [UCI Machine Learning Repository](https://archive.ics.uci.edu/ml/index.php)\n",
    "- [Kaggle Datasets](https://www.kaggle.com/datasets)\n",
    "- [Amazon Open Datasets](https://registry.opendata.aws/)\n",
    "- [Microsoft's Open Data](https://msropendata.com/)\n",
    "- [Google's Dataset Search](https://datasetsearch.research.google.com/)\n",
    "- [Awesomedata's list of datasets](https://github.com/awesomedata/awesome-public-datasets)\n",
    "\n",
    "**(c)** Formulate your supervised learning question: (a) What is your target variable (what are you trying to predict) and what predictors do you have available? Does your dataset require any preprocessing: is it clean (no missing values or erroneous data) and normalized (are each of the predictors of the same magnitude)? \n",
    "\n",
    "**(d)** What supervised learning technique will you use and why? \n",
    "\n",
    "**(e)** How will you evaluate performance and know whether you succeeded (e.g. ROC curves for binary classification, mean square error or $R^2$ for regression)?\n",
    "\n",
    "**(f)** Divide your dataset into training and testing datasets OR implement cross validation. Explain your approach and why you adopted it.\n",
    "\n",
    "**(g)** Run your analysis and show your performance. Include plots of your data and of performance.\n",
    "\n",
    "**(h)** Describe how your system performed, where your supervised learning algorithm performed well, where it did not, and how you could improve it. Summarize the conclusions from your work (this should involve a degree of interpretation more so than \"my classifier achieved an AUC of 0.8\")."
   ]
  },
  {
   "cell_type": "markdown",
   "metadata": {},
   "source": [
    "*This grade for this question is based on (a) the completeness of the answer in addressing each of the above components, (b) the quality of the work and accuracy of the interpretation of the results of the analysis, (c) the presentation and professionalism of the work, and (d) the amount of creativity demonstrated by the work.*\n",
    "\n",
    "Source: <br>\n",
    "https://towardsdatascience.com/a-beginners-guide-to-linear-regression-in-python-with-scikit-learn-83a8f7ae2b4f <br>\n",
    "https://dataverse.harvard.edu/dataset.xhtml?persistentId=doi:10.7910/DVN/VOQCHQ <br>\n",
    "https://www.kaggle.com/benhamner/2016-us-election#county_facts_dictionary.csv"
   ]
  },
  {
   "cell_type": "markdown",
   "metadata": {},
   "source": [
    "**ANSWERS**"
   ]
  },
  {
   "cell_type": "markdown",
   "metadata": {},
   "source": [
    "4.A: Identifying a Machine Learning Question <br>\n",
    "For this question I chose to look at county wide demographics and election results in 2016 to see if demographics change voting patterns. I found this topic particularly interesting because it is an important election year for our country. Especially in the wake of the impeachment and the Democratic Primary, it is important to be able to identify voting patterns of various groups."
   ]
  },
  {
   "cell_type": "markdown",
   "metadata": {},
   "source": [
    "4.B: Loading in and Merging the Data"
   ]
  },
  {
   "cell_type": "code",
   "execution_count": 20,
   "metadata": {},
   "outputs": [],
   "source": [
    "# Part B: Loading in and Merging the Data\n",
    "# Note, the analysis only looked at the 2016 Election and did not include 3rd Party Candidates\n",
    "\n",
    "demographics_df = pd.read_csv('county_facts_no_states_v2.csv')\n",
    "voting_df = pd.read_csv('countypres_2000-2016_edited_pre_python_v3.csv')\n",
    "\n",
    "# Completing the merge\n",
    "analysis_df_v1 = pd.merge(demographics_df, voting_df, on = 'fips', how = 'left', indicator = False)\n",
    "\n",
    "# Fixing string values in the response variable.\n",
    "analysis_df_v1[\"winning_cand_percentage\"] = pd.to_numeric(analysis_df_v1[\"winning_cand_percentage\"], errors ='coerce')"
   ]
  },
  {
   "cell_type": "markdown",
   "metadata": {},
   "source": [
    "4.C: <br>\n",
    "For my project I wanted to predict the winning candidate percentage (winning_cand_percentage) using demographic data. \n",
    "At the onset, there were two separate datasets one for county demographics in 2014 and the other on election results by county for 2000-16.  \n",
    "\n",
    "Because of this, the data did require a lot of preprocessing, most of which was done in excel. I first cut the elections data frame to just 2016, and I combined several of the rows of the data into one (so that each county was one row containing the complete results for the 2016 election). \n",
    "\n",
    "This resulted in rows that had total Republican/Democrat votes, State, FIPS (county code) and total votes. I then created a hybrid metric which determined, by county, the percentage of the vote the winning candidate had. If the value was negative that meant that Hilary Clinton had won that county, and if it was positive, that meant a victory for Donald Trump.  \n",
    "\n",
    "I then went through a similar process with the demographic data by county. Shrinking from 54 predictors to 24 that all primarily focused on age of the area, population density, household income, and racial makeup. \n",
    "\n",
    "After which I merged the two datasets based on the FIPS code and began my analysis."
   ]
  },
  {
   "cell_type": "code",
   "execution_count": 21,
   "metadata": {},
   "outputs": [
    {
     "name": "stdout",
     "output_type": "stream",
     "text": [
      "\n",
      " Note: Several transformations were attempted but they were unsuccessful. Ultimately there was no significant deviations from the assumptions of Linear Regression\n",
      "\n",
      " Linear Model Assumptions: Linearity, Independence of Errors, Equal Variance, and Normality\n"
     ]
    },
    {
     "data": {
      "image/png": "[encoded data removed]",
      "text/plain": [
       "<Figure size 432x288 with 1 Axes>"
      ]
     },
     "metadata": {
      "needs_background": "light"
     },
     "output_type": "display_data"
    }
   ],
   "source": [
    "# Important command analysis_df_v1.columns.to_list()\n",
    "print(\"\\n Note: Several transformations were attempted but they were unsuccessful. Ultimately there was no significant deviations from the assumptions of Linear Regression\")\n",
    "print(\"\\n Linear Model Assumptions: Linearity, Independence of Errors, Equal Variance, and Normality\")\n",
    "\n",
    "# Plotting a histogram of the response video \"winning_cand_percentage\"\n",
    "n, bins, patches = plt.hist(analysis_df_v1[\"winning_cand_percentage\"], 30, density=True, facecolor='g', alpha=0.75)\n",
    "\n",
    "plt.xlabel('Winning Canidate Percentage')\n",
    "plt.title('Histogram The Voters for the Winning Candidate')\n",
    "plt.show()"
   ]
  },
  {
   "cell_type": "markdown",
   "metadata": {},
   "source": [
    "4.D:<br>\n",
    "Based on my EDA I chose to use Linear Regression, one because it will give a specific victory margin, and two it allows for inference on how much things like median income and population density effect voting. "
   ]
  },
  {
   "cell_type": "code",
   "execution_count": 22,
   "metadata": {},
   "outputs": [],
   "source": [
    "# Building the model\n",
    "import patsy\n",
    "import statsmodels.api as sm\n",
    "import statsmodels.formula.api as smf\n",
    "from statsmodels.formula.api import ols\n",
    "from sklearn.linear_model import LinearRegression\n",
    "from sklearn.metrics import r2_score\n",
    "\n",
    "varibles_1='winning_cand_percentage~C(state_abbreviation)+population_14+p_under18+p_over65+p_female+p_white+p_black+p_nAmerican+p_asian+p_pacificIsland+p_latino+p_foreignBorn+p_NotEnglish+p_highSchool+p_bachelors+p_vets+p_homeOwnership+p_multiStructures+person_per_house+median_hh_income+p_below_pov+pop_per_mile'           "
   ]
  },
  {
   "cell_type": "code",
   "execution_count": 23,
   "metadata": {},
   "outputs": [
    {
     "name": "stdout",
     "output_type": "stream",
     "text": [
      "The original model resulted in an R^2 of: 0.6977220560803653\n"
     ]
    }
   ],
   "source": [
    "# Part E: Building the model with sklearn.\n",
    "\n",
    "# Making sure there are no missing values in the DF\n",
    "analysis_df_v2 = pd.DataFrame(analysis_df_v1).fillna(0)\n",
    "\n",
    "# Changing state variblaes to categorical\n",
    "analysis_df_v2['state_abbreviation']=pd.get_dummies(analysis_df_v1['state_abbreviation'])\n",
    "\n",
    "# Fitting on the entire dataset\n",
    "X = analysis_df_v2[['state_abbreviation',\"population_14\",'p_under18','p_over65','p_female','p_white','p_black','p_nAmerican','p_asian','p_pacificIsland','p_latino',\n",
    "                'p_foreignBorn','p_NotEnglish','p_highSchool','p_bachelors','p_vets','p_homeOwnership','p_multiStructures','person_per_house',\n",
    "               'median_hh_income', 'p_below_pov']].values\n",
    "\n",
    "y = analysis_df_v2['winning_cand_percentage'].values\n",
    "\n",
    "regressor = LinearRegression()  \n",
    "regressor.fit(X, y)\n",
    "print('The original model resulted in an R^2 of:', regressor.score(X,y))"
   ]
  },
  {
   "cell_type": "markdown",
   "metadata": {},
   "source": [
    "Part E:<br>\n",
    "The model preformed well, with an $R2$ of 0.698. Meaning that the predicted values closely match the real life response variable."
   ]
  },
  {
   "cell_type": "markdown",
   "metadata": {},
   "source": [
    "Part F: Divide your dataset into training and testing datasets OR implement cross validation. Explain your approach and why you adopted it. <br>\n",
    "For this problem I chose to use train and test split because it allowed for a hold out set of unseeen data to compare the model to. "
   ]
  },
  {
   "cell_type": "code",
   "execution_count": 24,
   "metadata": {},
   "outputs": [
    {
     "data": {
      "text/html": [
       "<div>\n",
       "<style scoped>\n",
       "    .dataframe tbody tr th:only-of-type {\n",
       "        vertical-align: middle;\n",
       "    }\n",
       "\n",
       "    .dataframe tbody tr th {\n",
       "        vertical-align: top;\n",
       "    }\n",
       "\n",
       "    .dataframe thead th {\n",
       "        text-align: right;\n",
       "    }\n",
       "</style>\n",
       "<table border=\"1\" class=\"dataframe\">\n",
       "  <thead>\n",
       "    <tr style=\"text-align: right;\">\n",
       "      <th></th>\n",
       "      <th>Actual</th>\n",
       "      <th>Predicted</th>\n",
       "    </tr>\n",
       "  </thead>\n",
       "  <tbody>\n",
       "    <tr>\n",
       "      <th>0</th>\n",
       "      <td>0.234572</td>\n",
       "      <td>0.359107</td>\n",
       "    </tr>\n",
       "    <tr>\n",
       "      <th>1</th>\n",
       "      <td>0.194420</td>\n",
       "      <td>0.082744</td>\n",
       "    </tr>\n",
       "    <tr>\n",
       "      <th>2</th>\n",
       "      <td>0.846690</td>\n",
       "      <td>0.598101</td>\n",
       "    </tr>\n",
       "    <tr>\n",
       "      <th>3</th>\n",
       "      <td>0.267769</td>\n",
       "      <td>0.378117</td>\n",
       "    </tr>\n",
       "    <tr>\n",
       "      <th>4</th>\n",
       "      <td>0.600132</td>\n",
       "      <td>0.430264</td>\n",
       "    </tr>\n",
       "  </tbody>\n",
       "</table>\n",
       "</div>"
      ],
      "text/plain": [
       "     Actual  Predicted\n",
       "0  0.234572   0.359107\n",
       "1  0.194420   0.082744\n",
       "2  0.846690   0.598101\n",
       "3  0.267769   0.378117\n",
       "4  0.600132   0.430264"
      ]
     },
     "execution_count": 24,
     "metadata": {},
     "output_type": "execute_result"
    }
   ],
   "source": [
    "# Part G: Running analysis and showing performance. \n",
    "\n",
    "# Train test split\n",
    "X_train, X_test, y_train, y_test = train_test_split(X, y, test_size=0.3, random_state=12)\n",
    "\n",
    "# Fitting\n",
    "regressor.fit(X_train, y_train)\n",
    "\n",
    "# Predicting\n",
    "y_pred = regressor.predict(X_test)\n",
    "\n",
    "# Actual vs predicted by county\n",
    "df = pd.DataFrame({'Actual': y_test, 'Predicted': y_pred})\n",
    "df.head(5)"
   ]
  },
  {
   "cell_type": "code",
   "execution_count": 25,
   "metadata": {},
   "outputs": [
    {
     "data": {
      "image/png": "[encoded data removed]",
      "text/plain": [
       "<Figure size 864x540 with 1 Axes>"
      ]
     },
     "metadata": {
      "needs_background": "light"
     },
     "output_type": "display_data"
    }
   ],
   "source": [
    "df1 = df.head(25)\n",
    "df1.plot(kind='bar',figsize=(12,7.5))\n",
    "plt.grid(which='major', linestyle='-', linewidth='0.5', color='green')\n",
    "plt.grid(which='minor', linestyle=':', linewidth='0.5', color='black')\n",
    "plt.show()"
   ]
  },
  {
   "cell_type": "code",
   "execution_count": 26,
   "metadata": {},
   "outputs": [
    {
     "data": {
      "text/plain": [
       "0.6922920074372811"
      ]
     },
     "execution_count": 26,
     "metadata": {},
     "output_type": "execute_result"
    }
   ],
   "source": [
    "metrics.r2_score(y_test, y_pred) # 0.0.6923"
   ]
  },
  {
   "cell_type": "markdown",
   "metadata": {},
   "source": [
    "Part G: Doing a train and test split slightly decreased the model performance, with a final $R2$ value of 0.692. Meaning that the predicted values decently match the real world results, especially considering that this is social studies data. "
   ]
  },
  {
   "cell_type": "markdown",
   "metadata": {},
   "source": [
    "Part H: Describe how your system performed, where your supervised learning algorithm performed well, where it did not, and how you could improve it. Summarize the conclusions from your work.\n",
    "\n",
    "Overall the model preformed well, scoring an R2 of 0.856 on the full dataset (results below), but the main advantage of using linear models is its interpretability. Which becomes especially clear when I use Statsmodels to print out a summary after I ran the updated model on the full dataset. This gave me a granular view into voting patterns by state and demographics. \n",
    "\n",
    "For example, being in Maine alone increasing the percentage of voting Democrat by 42% while being in Texas increases the percentage of Republican voters by 23%. There are also several other interesting trends as well. For example, for each percentage point of the population is below the poverty line, that increases the percent of Democratic Votes by 0.56% but as the percentage of whites as a percentage of the population goes up it increases the Republicans by 0.85%.\n",
    "\n",
    "However one weakness of this model is it only looks at the 2016 election and is probably not very generalizable because Trump is such a unique figure. Further work would probably focusing on models that are centered on Congressional and Senate races as well as Presidential ones to see if that effects voting patterns. \n",
    "\n",
    "Full model summary below."
   ]
  },
  {
   "cell_type": "code",
   "execution_count": 27,
   "metadata": {},
   "outputs": [
    {
     "name": "stdout",
     "output_type": "stream",
     "text": [
      "                               OLS Regression Results                              \n",
      "===================================================================================\n",
      "Dep. Variable:     winning_cand_percentage   R-squared:                       0.856\n",
      "Model:                                 OLS   Adj. R-squared:                  0.853\n",
      "Method:                      Least Squares   F-statistic:                     255.2\n",
      "Date:                     Wed, 19 Feb 2020   Prob (F-statistic):               0.00\n",
      "Time:                             08:33:17   Log-Likelihood:                 2267.6\n",
      "No. Observations:                     3115   AIC:                            -4391.\n",
      "Df Residuals:                         3043   BIC:                            -3956.\n",
      "Df Model:                               71                                         \n",
      "Covariance Type:                 nonrobust                                         \n",
      "===============================================================================================\n",
      "                                  coef    std err          t      P>|t|      [0.025      0.975]\n",
      "-----------------------------------------------------------------------------------------------\n",
      "Intercept                       0.9580      0.361      2.650      0.008       0.249       1.667\n",
      "C(state_abbreviation)[T.AL]     0.1301      0.084      1.548      0.122      -0.035       0.295\n",
      "C(state_abbreviation)[T.AR]    -0.0514      0.083     -0.616      0.538      -0.215       0.112\n",
      "C(state_abbreviation)[T.AZ]    -0.0448      0.087     -0.512      0.609      -0.216       0.127\n",
      "C(state_abbreviation)[T.CA]    -0.1983      0.080     -2.468      0.014      -0.356      -0.041\n",
      "C(state_abbreviation)[T.CO]    -0.0953      0.084     -1.137      0.256      -0.260       0.069\n",
      "C(state_abbreviation)[T.CT]    -0.1644      0.092     -1.790      0.074      -0.345       0.016\n",
      "C(state_abbreviation)[T.DC]    -0.0044      0.146     -0.030      0.976      -0.291       0.282\n",
      "C(state_abbreviation)[T.DE]    -0.0995      0.107     -0.933      0.351      -0.309       0.110\n",
      "C(state_abbreviation)[T.FL]     0.0361      0.083      0.435      0.664      -0.127       0.199\n",
      "C(state_abbreviation)[T.GA]     0.1226      0.083      1.479      0.139      -0.040       0.285\n",
      "C(state_abbreviation)[T.HI]     0.0970      0.165      0.588      0.556      -0.226       0.420\n",
      "C(state_abbreviation)[T.IA]    -0.3256      0.083     -3.922      0.000      -0.488      -0.163\n",
      "C(state_abbreviation)[T.ID]    -0.1142      0.085     -1.351      0.177      -0.280       0.052\n",
      "C(state_abbreviation)[T.IL]    -0.1849      0.083     -2.226      0.026      -0.348      -0.022\n",
      "C(state_abbreviation)[T.IN]    -0.1892      0.083     -2.271      0.023      -0.353      -0.026\n",
      "C(state_abbreviation)[T.KS]    -0.0359      0.083     -0.430      0.667      -0.199       0.128\n",
      "C(state_abbreviation)[T.KY]    -0.1009      0.084     -1.207      0.227      -0.265       0.063\n",
      "C(state_abbreviation)[T.LA]     0.1371      0.084      1.630      0.103      -0.028       0.302\n",
      "C(state_abbreviation)[T.MA]    -0.3806      0.088     -4.329      0.000      -0.553      -0.208\n",
      "C(state_abbreviation)[T.MD]    -0.0360      0.085     -0.423      0.672      -0.203       0.131\n",
      "C(state_abbreviation)[T.ME]    -0.4148      0.088     -4.725      0.000      -0.587      -0.243\n",
      "C(state_abbreviation)[T.MI]    -0.2648      0.083     -3.176      0.002      -0.428      -0.101\n",
      "C(state_abbreviation)[T.MN]    -0.3096      0.083     -3.726      0.000      -0.473      -0.147\n",
      "C(state_abbreviation)[T.MO]    -0.0878      0.083     -1.059      0.290      -0.251       0.075\n",
      "C(state_abbreviation)[T.MS]     0.1206      0.085      1.421      0.155      -0.046       0.287\n",
      "C(state_abbreviation)[T.MT]    -0.1123      0.084     -1.338      0.181      -0.277       0.052\n",
      "C(state_abbreviation)[T.NC]    -0.0377      0.083     -0.453      0.650      -0.201       0.125\n",
      "C(state_abbreviation)[T.ND]    -0.1112      0.084     -1.325      0.185      -0.276       0.053\n",
      "C(state_abbreviation)[T.NE]    -0.0363      0.083     -0.435      0.663      -0.200       0.127\n",
      "C(state_abbreviation)[T.NH]    -0.3695      0.090     -4.085      0.000      -0.547      -0.192\n",
      "C(state_abbreviation)[T.NJ]    -0.0745      0.084     -0.883      0.378      -0.240       0.091\n",
      "C(state_abbreviation)[T.NM]     0.1327      0.086      1.549      0.121      -0.035       0.301\n",
      "C(state_abbreviation)[T.NV]    -0.0198      0.085     -0.232      0.816      -0.187       0.147\n",
      "C(state_abbreviation)[T.NY]    -0.2195      0.083     -2.631      0.009      -0.383      -0.056\n",
      "C(state_abbreviation)[T.OH]    -0.1999      0.083     -2.395      0.017      -0.364      -0.036\n",
      "C(state_abbreviation)[T.OK]     0.1252      0.084      1.492      0.136      -0.039       0.290\n",
      "C(state_abbreviation)[T.OR]    -0.2333      0.083     -2.799      0.005      -0.397      -0.070\n",
      "C(state_abbreviation)[T.PA]    -0.1532      0.083     -1.838      0.066      -0.317       0.010\n",
      "C(state_abbreviation)[T.RI]    -0.2983      0.098     -3.039      0.002      -0.491      -0.106\n",
      "C(state_abbreviation)[T.SC]     0.0569      0.085      0.671      0.502      -0.109       0.223\n",
      "C(state_abbreviation)[T.SD]    -0.1244      0.084     -1.483      0.138      -0.289       0.040\n",
      "C(state_abbreviation)[T.TN]    -0.0320      0.083     -0.383      0.702      -0.196       0.132\n",
      "C(state_abbreviation)[T.TX]     0.2326      0.083      2.803      0.005       0.070       0.395\n",
      "C(state_abbreviation)[T.UT]    -0.1678      0.086     -1.955      0.051      -0.336       0.001\n",
      "C(state_abbreviation)[T.VA]    -0.0627      0.083     -0.759      0.448      -0.225       0.099\n",
      "C(state_abbreviation)[T.VT]    -0.5958      0.089     -6.704      0.000      -0.770      -0.422\n",
      "C(state_abbreviation)[T.WA]    -0.2606      0.083     -3.150      0.002      -0.423      -0.098\n",
      "C(state_abbreviation)[T.WI]    -0.3736      0.083     -4.488      0.000      -0.537      -0.210\n",
      "C(state_abbreviation)[T.WV]    -0.1014      0.084     -1.205      0.228      -0.266       0.064\n",
      "C(state_abbreviation)[T.WY]     0.0388      0.086      0.452      0.651      -0.129       0.207\n",
      "population_14                2.454e-08   1.99e-08      1.232      0.218   -1.45e-08    6.36e-08\n",
      "p_under18                       0.0243      0.001     16.615      0.000       0.021       0.027\n",
      "p_over65                        0.0063      0.001      5.889      0.000       0.004       0.008\n",
      "p_female                       -0.0194      0.001    -13.763      0.000      -0.022      -0.017\n",
      "p_white                         0.0085      0.003      2.487      0.013       0.002       0.015\n",
      "p_black                        -0.0065      0.003     -1.895      0.058      -0.013       0.000\n",
      "p_nAmerican                    -0.0013      0.004     -0.361      0.718      -0.008       0.006\n",
      "p_asian                         0.0011      0.004      0.272      0.786      -0.007       0.009\n",
      "p_pacificIsland                -0.0290      0.016     -1.772      0.076      -0.061       0.003\n",
      "p_latino                       -0.0092      0.001    -15.611      0.000      -0.010      -0.008\n",
      "p_foreignBorn                   0.0114      0.001     11.030      0.000       0.009       0.013\n",
      "p_NotEnglish                   -0.0065      0.001     -8.440      0.000      -0.008      -0.005\n",
      "p_highSchool                   -0.0012      0.001     -1.502      0.133      -0.003       0.000\n",
      "p_bachelors                    -0.0096      0.001    -16.352      0.000      -0.011      -0.008\n",
      "p_vets                      -6.802e-07   4.06e-07     -1.676      0.094   -1.48e-06    1.16e-07\n",
      "p_homeOwnership                -0.0028      0.001     -4.801      0.000      -0.004      -0.002\n",
      "p_multiStructures              -0.0049      0.001     -8.465      0.000      -0.006      -0.004\n",
      "person_per_house               -0.0468      0.018     -2.634      0.008      -0.082      -0.012\n",
      "median_hh_income            -1.534e-06   5.61e-07     -2.734      0.006   -2.63e-06   -4.34e-07\n",
      "p_below_pov                    -0.0056      0.001     -7.032      0.000      -0.007      -0.004\n",
      "pop_per_mile                 3.813e-06   1.56e-06      2.438      0.015    7.47e-07    6.88e-06\n",
      "==============================================================================\n",
      "Omnibus:                      142.759   Durbin-Watson:                   2.042\n",
      "Prob(Omnibus):                  0.000   Jarque-Bera (JB):              267.612\n",
      "Skew:                          -0.344   Prob(JB):                     7.74e-59\n",
      "Kurtosis:                       4.261   Cond. No.                     9.47e+07\n",
      "==============================================================================\n",
      "\n",
      "Warnings:\n",
      "[1] Standard Errors assume that the covariance matrix of the errors is correctly specified.\n",
      "[2] The condition number is large, 9.47e+07. This might indicate that there are\n",
      "strong multicollinearity or other numerical problems.\n"
     ]
    }
   ],
   "source": [
    "# Statsmodels Code\n",
    "# Running the first model on both train and test data.\n",
    "q4_model_1 = smf.ols(varibles_1, data = analysis_df_v1).fit()\n",
    "print(q4_model_1.summary())"
   ]
  }
 ],
 "metadata": {
  "kernelspec": {
   "display_name": "Python 3",
   "language": "python",
   "name": "python3"
  },
  "language_info": {
   "codemirror_mode": {
    "name": "ipython",
    "version": 3
   },
   "file_extension": ".py",
   "mimetype": "text/x-python",
   "name": "python",
   "nbconvert_exporter": "python",
   "pygments_lexer": "ipython3",
   "version": "3.7.6"
  },
  "varInspector": {
   "cols": {
    "lenName": 16,
    "lenType": 16,
    "lenVar": 40
   },
   "kernels_config": {
    "python": {
     "delete_cmd_postfix": "",
     "delete_cmd_prefix": "del ",
     "library": "var_list.py",
     "varRefreshCmd": "print(var_dic_list())"
    },
    "r": {
     "delete_cmd_postfix": ") ",
     "delete_cmd_prefix": "rm(",
     "library": "var_list.r",
     "varRefreshCmd": "cat(var_dic_list()) "
    }
   },
   "position": {
    "height": "722px",
    "left": "1550px",
    "right": "20px",
    "top": "121px",
    "width": "353px"
   },
   "types_to_exclude": [
    "module",
    "function",
    "builtin_function_or_method",
    "instance",
    "_Feature"
   ],
   "window_display": false
  }
 },
 "nbformat": 4,
 "nbformat_minor": 4
}
