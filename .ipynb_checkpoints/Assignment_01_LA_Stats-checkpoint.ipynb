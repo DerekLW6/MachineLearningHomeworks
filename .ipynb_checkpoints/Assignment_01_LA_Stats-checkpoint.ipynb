{
 "cells": [
  {
   "cell_type": "markdown",
   "metadata": {},
   "source": [
    "# Assignment 1 - Probability, Linear Algebra, Programming, and Git"
   ]
  },
  {
   "cell_type": "markdown",
   "metadata": {},
   "source": [
    "## *Derek Lee Wales*\n",
    "Netid:  *DLW61*"
   ]
  },
  {
   "cell_type": "markdown",
   "metadata": {},
   "source": [
    "Instructions for all assignments can be found [here](https://github.com/kylebradbury/ids705/blob/master/assignments/_Assignment%20Instructions.ipynb), which is also linked to from the [course syllabus](https://kylebradbury.github.io/ids705/index.html)."
   ]
  },
  {
   "cell_type": "markdown",
   "metadata": {},
   "source": [
    "# Probability and Statistics Theory"
   ]
  },
  {
   "cell_type": "markdown",
   "metadata": {},
   "source": [
    "*Note: for all assignments, write out all equations and math using markdown and [LaTeX](https://tobi.oetiker.ch/lshort/lshort.pdf). For this section of the assignment (Probability and Statistics Theory) show and type up ALL math work*"
   ]
  },
  {
   "cell_type": "markdown",
   "metadata": {},
   "source": [
    "## Question 1 \n",
    "**[3 points]**  \n",
    "Let $f(x) = \\begin{cases}\n",
    "                0           & x < 0  \\\\\n",
    "                \\alpha x^2  & 0 \\leq x \\leq 2 \\\\\n",
    "                0           & 2 < x\n",
    "            \\end{cases}$\n",
    "            \n",
    "For what value of $\\alpha$ is $f(x)$ a valid probability density function?"
   ]
  },
  {
   "cell_type": "markdown",
   "metadata": {},
   "source": [
    "**ANSWER**"
   ]
  },
  {
   "cell_type": "markdown",
   "metadata": {},
   "source": [
    "#### Integral of First Equation\n",
    "\n",
    "#### $\\frac{\\alpha}{3}x^3$\n",
    "\n",
    "#### $\\frac{\\alpha}{3}2^3 - \\frac{\\alpha}{3}0^3 = \\frac{8}{3}$ \n",
    "\n",
    "$\n",
    "\\frac{\\alpha}{3}x^3 \\\\\n",
    "\\frac{\\alpha}{3}2^3 - \\frac{\\alpha}{3}0^3 = 1 \\\\\n",
    "{\\alpha} = \\frac{3}{8}\\\\\n",
    "$"
   ]
  },
  {
   "cell_type": "markdown",
   "metadata": {},
   "source": [
    "## Question 2 \n",
    "**[3 points]** What is the cumulative distribution function (CDF) that corresponds to the following probability distribution function? Please state the value of the CDF for all possible values of $x$.\n",
    "\n",
    "$f(x) = \\begin{cases}\n",
    "    \\frac{1}{3} & 0 < x < 3 \\\\\n",
    "    0           & \\text{otherwise}\n",
    "    \\end{cases}$"
   ]
  },
  {
   "cell_type": "markdown",
   "metadata": {},
   "source": [
    "**ANSWER**"
   ]
  },
  {
   "cell_type": "markdown",
   "metadata": {},
   "source": [
    "$f(x) = \\begin{cases}\n",
    "\\frac{1}{3}*x & 0 < x < 3 \\\\\n",
    "0 & x < 0 \\\\\n",
    "1 & x > 3\n",
    "\\end{cases}$"
   ]
  },
  {
   "cell_type": "markdown",
   "metadata": {},
   "source": [
    "## Question 3 \n",
    "**[6 points]** For the probability distribution function for the random variable $X$,\n",
    "\n",
    "$f(x) = \\begin{cases}\n",
    "    \\frac{1}{3} & 0 < x < 3 \\\\\n",
    "    0           & \\text{otherwise}\n",
    "    \\end{cases}$\n",
    "    \n",
    "what is the (a) expected value and (b) variance of $X$. *Show all work*."
   ]
  },
  {
   "cell_type": "markdown",
   "metadata": {},
   "source": [
    "**ANSWER**"
   ]
  },
  {
   "cell_type": "markdown",
   "metadata": {},
   "source": [
    "#### Part A (Expected Value)"
   ]
  },
  {
   "cell_type": "markdown",
   "metadata": {},
   "source": [
    "#### Solving the integral at 3 and 0 \n",
    "$\\begin{equation*}\n",
    "\\int_0^{3} \\\n",
    "{\\frac{1}{3}}x\\\n",
    "\\end{equation*}$"
   ]
  },
  {
   "cell_type": "markdown",
   "metadata": {},
   "source": [
    "$\\frac{x^2}{6}$\n",
    "\n",
    "$\\frac{3^2}{6}$ -$\\frac{0^2}{6}$ = 3/2"
   ]
  },
  {
   "cell_type": "markdown",
   "metadata": {},
   "source": [
    "#### Part B (Variance)"
   ]
  },
  {
   "cell_type": "markdown",
   "metadata": {},
   "source": [
    "##### Integrating X^2 over 0 to 3\n",
    "$\\frac{3^3}{9}$ -$\\frac{0^3}{9}$ = 3\n",
    "\n",
    "##### Subtracting the Expected value squared \n",
    "##### 3 - $\\frac{9}{4}$ = 3/4"
   ]
  },
  {
   "cell_type": "markdown",
   "metadata": {},
   "source": [
    "## Question 4\n",
    "**[6 points]** Consider the following table of data that provides the values of a discrete data vector $\\mathbf{x}$ of samples from the random variable $X$, where each entry in $\\mathbf{x}$ is given as $x_i$.\n",
    "\n",
    "*Table 1. Dataset N=5 observations*\n",
    "\n",
    "|        | $x_0$ | $x_1$ | $x_2$ | $x_3$ | $x_4$ |\n",
    "|------  |-------|-------|-------|-------|-------|\n",
    "|$\\textbf{x}$| 2     | 3     | 10    | -1    | -1    |\n",
    "\n",
    "What is the (a) mean, (b) variance, and the  of the data? \n",
    "\n",
    "*Show all work. Your answer should include the definition of mean, median, and variance in the context of discrete data.*"
   ]
  },
  {
   "cell_type": "markdown",
   "metadata": {},
   "source": [
    "**ANSWERS** "
   ]
  },
  {
   "cell_type": "code",
   "execution_count": 1,
   "metadata": {},
   "outputs": [
    {
     "name": "stdout",
     "output_type": "stream",
     "text": [
      "The mean is: 2.6 \n",
      "\n",
      "and the variance is: 16.240 \n"
     ]
    }
   ],
   "source": [
    "# ANSWER\n",
    "\n",
    "import numpy as np\n",
    "\n",
    "# (a) Mean\n",
    "\n",
    "a = [2, 3, 10, -1, -1]\n",
    "\n",
    "myMean = np.mean(a)\n",
    "\n",
    "# (b) Variance\n",
    "\n",
    "myVar = np.var(a)\n",
    "\n",
    "print('The mean is: {} \\n\\nand the variance is: {:.3f} '.format(myMean, myVar))"
   ]
  },
  {
   "cell_type": "markdown",
   "metadata": {},
   "source": [
    "## Question 5 \n",
    "**[8 points]** Review of counting from probability theory. \n",
    "\n",
    "(a) How many different 7-place license plates are possible if the first 3 places only contain letters and the last 4 only contain numbers?\n",
    "\n",
    "(b) How many different batting orders are possible for a baseball team with 9 players?\n",
    "\n",
    "(c) How many batting orders of 5 players are possible for a team with 9 players total?\n",
    "\n",
    "(d) Let's assume this class has 26 students and we want to form project teams. How many unique teams of 3 are possible?\n",
    "\n",
    "*Hint: For each problem, determine if order matters, and if it should be calculated with or without replacement.*"
   ]
  },
  {
   "cell_type": "markdown",
   "metadata": {},
   "source": [
    "#### Functions for A through C (Put the formula in latex)\n",
    "###### source: https://towardsdatascience.com/essential-probability-in-python-permutations-and-combinations-7323a2ea39e5"
   ]
  },
  {
   "cell_type": "code",
   "execution_count": 2,
   "metadata": {},
   "outputs": [],
   "source": [
    "def perumtation_with_repetition(n,r):\n",
    "    return n ** r "
   ]
  },
  {
   "cell_type": "markdown",
   "metadata": {},
   "source": [
    "$\\textrm{Formula in mathematical terms}\\\\\n",
    "n^r$"
   ]
  },
  {
   "cell_type": "code",
   "execution_count": 3,
   "metadata": {},
   "outputs": [],
   "source": [
    "import math\n",
    "\n",
    "def perumuation_without_repetition(n,r):\n",
    "    return (math.factorial(n)/(math.factorial(n-r)))"
   ]
  },
  {
   "cell_type": "markdown",
   "metadata": {},
   "source": [
    "$\\textrm{Formula in mathematical terms}\\\\\n",
    "\\frac{n!}{(n-r)!} \\\\\n",
    "$"
   ]
  },
  {
   "cell_type": "markdown",
   "metadata": {},
   "source": [
    "**ANSWERS**"
   ]
  },
  {
   "cell_type": "code",
   "execution_count": 4,
   "metadata": {},
   "outputs": [
    {
     "name": "stdout",
     "output_type": "stream",
     "text": [
      "175760000\n"
     ]
    }
   ],
   "source": [
    "# Part A) How many different 7-place license plates are possible if the first 3 \n",
    "# places only contain letters and the last 4 only contain numbers?\n",
    "\n",
    "# Note, I assumed you could repeat numbers/letters AAA 1125, etc\n",
    "\n",
    "# Calculating the first 3 spots (26 choose 3)\n",
    "letter_perm = perumtation_with_repetition(26, 3)\n",
    "\n",
    "# Calculating the next 4 spots (10 choose 4)\n",
    "number_perm = perumtation_with_repetition(10, 4)\n",
    "\n",
    "print(letter_perm * number_perm)"
   ]
  },
  {
   "cell_type": "markdown",
   "metadata": {},
   "source": [
    "#### Part A) 175,760,000 permutations"
   ]
  },
  {
   "cell_type": "code",
   "execution_count": 5,
   "metadata": {},
   "outputs": [
    {
     "name": "stdout",
     "output_type": "stream",
     "text": [
      "362880.0\n"
     ]
    }
   ],
   "source": [
    "# Part B) How many different batting orders are possible for a baseball team with 9 players?\n",
    "\n",
    "print(perumuation_without_repetition(9,9))"
   ]
  },
  {
   "cell_type": "markdown",
   "metadata": {},
   "source": [
    "#### Part B) 362,880 "
   ]
  },
  {
   "cell_type": "code",
   "execution_count": 6,
   "metadata": {},
   "outputs": [
    {
     "name": "stdout",
     "output_type": "stream",
     "text": [
      "15120.0\n"
     ]
    }
   ],
   "source": [
    "# Part C) How many batting orders of 5 players are possible for a team with 9 players total?\n",
    "\n",
    "print(perumuation_without_repetition(9,5))"
   ]
  },
  {
   "cell_type": "markdown",
   "metadata": {},
   "source": [
    "#### Part C) 15,120"
   ]
  },
  {
   "cell_type": "markdown",
   "metadata": {},
   "source": [
    "#### Function for Part D "
   ]
  },
  {
   "cell_type": "code",
   "execution_count": 7,
   "metadata": {},
   "outputs": [],
   "source": [
    "def combinations_without_repetition(n,r):\n",
    "    return (math.factorial(n)/(math.factorial(r) * (math.factorial(n-r))))"
   ]
  },
  {
   "cell_type": "markdown",
   "metadata": {},
   "source": [
    "$\\textrm{Formula in mathematical terms}\\\\\n",
    "\\frac{n!}{r!(n-r)!} \\\\\n",
    "$"
   ]
  },
  {
   "cell_type": "code",
   "execution_count": 8,
   "metadata": {},
   "outputs": [
    {
     "name": "stdout",
     "output_type": "stream",
     "text": [
      "2600.0\n"
     ]
    }
   ],
   "source": [
    "# Part D) Let's assume this class has 26 students and we want to form project teams. How many unique teams of 3 are possible?\n",
    "# This will be using combinations w/o replacement because Jill, John, and Joe is the same as John, Joe, and Jill (f(x) defined above)\n",
    "\n",
    "print(combinations_without_repetition(26,3))"
   ]
  },
  {
   "cell_type": "markdown",
   "metadata": {},
   "source": [
    "#### Part D - 2600 Groups"
   ]
  },
  {
   "cell_type": "markdown",
   "metadata": {},
   "source": [
    "# Linear Algebra"
   ]
  },
  {
   "cell_type": "markdown",
   "metadata": {},
   "source": [
    "## Question 6\n",
    "**[7 points]** **Matrix manipulations and multiplication**. Machine learning involves working with many matrices, so this exercise will provide you with the opportunity to practice those skills.\n",
    "\n",
    "Let\n",
    "$\\mathbf{A} =  \\begin{bmatrix}\n",
    "1 & 2 & 3 \\\\\n",
    "2 & 4 & 5 \\\\\n",
    "3 & 5 & 6 \n",
    "\\end{bmatrix}$, $\\mathbf{b} =  \\begin{bmatrix}\n",
    "-1  \\\\\n",
    "3  \\\\\n",
    "8  \n",
    "\\end{bmatrix}$, $\\mathbf{c} =  \\begin{bmatrix}\n",
    "4  \\\\\n",
    "-3  \\\\\n",
    "6  \n",
    "\\end{bmatrix}$, and $\\mathbf{I} =  \\begin{bmatrix}\n",
    "1 & 0 & 0 \\\\\n",
    "0 & 1 & 0 \\\\\n",
    "0 & 0 & 1 \n",
    "\\end{bmatrix}$\n",
    "\n",
    "Compute the following or indicate that it cannot be computed:\n",
    "\n",
    "1. $\\mathbf{A}\\mathbf{A}$\n",
    "2. $\\mathbf{A}\\mathbf{A}^T$\n",
    "3. $\\mathbf{A}\\mathbf{b}$\n",
    "4. $\\mathbf{A}\\mathbf{b}^T$\n",
    "5. $\\mathbf{b}\\mathbf{A}$\n",
    "6. $\\mathbf{b}^T\\mathbf{A}$\n",
    "7. $\\mathbf{b}\\mathbf{b}$\n",
    "8. $\\mathbf{b}^T\\mathbf{b}$\n",
    "9. $\\mathbf{b}\\mathbf{b}^T$\n",
    "10. $\\mathbf{b} + \\mathbf{c}^T$\n",
    "11. $\\mathbf{b}^T\\mathbf{b}^T$\n",
    "12. $\\mathbf{A}^{-1}\\mathbf{b}$\n",
    "13. $\\mathbf{A}\\circ\\mathbf{A}$\n",
    "14. $\\mathbf{b}\\circ\\mathbf{c}$\n",
    "\n",
    "*Note: The element-wise (or Hadamard) product is the product of each element in one matrix with the corresponding element in another matrix, and is represented by the symbol \"$\\circ$\".*"
   ]
  },
  {
   "cell_type": "code",
   "execution_count": 9,
   "metadata": {},
   "outputs": [],
   "source": [
    "# Question 6 work\n",
    "import numpy as np\n",
    "A = np.matrix([[1,2,3],\n",
    "              [2,4,5],\n",
    "              [3,5,6]])\n",
    "\n",
    "B = np.matrix([[-1],\n",
    "               [3],\n",
    "               [8]])\n",
    "\n",
    "C = np.matrix([[4],\n",
    "               [-3],\n",
    "               [6]])\n",
    "\n",
    "D = np.matrix([[1, 0, 0],\n",
    "               [0, 1, 0],\n",
    "               [0, 0, 1]])\n",
    "\n",
    "# Question 1) \n",
    "# print(A * A)\n",
    "\n",
    "# Question 2)\n",
    "# print((A*A.transpose()))\n",
    "\n",
    "# Question 3) \n",
    "# print(A * B)\n",
    "\n",
    "# Question 4)\n",
    "# print(A * B.transpose()) # Error, row/column mismatch\n",
    "# Question 5) \n",
    "# print(B * A)\n",
    "\n",
    "# Question 6)\n",
    "# print(B.transpose() * A)\n",
    "\n",
    "# Question 7)\n",
    "# print(B * B) # Row/Column mismatch\n",
    "\n",
    "# Question 8)\n",
    "# print(B.transpose() * B)\n",
    "\n",
    "# Question 9) \n",
    "# print(B * B.transpose())\n",
    "\n",
    "# Question 10)\n",
    "#print(B + C.transpose())\n",
    "\n",
    "# Question 11)\n",
    "# print(B.transpose() * B.transpose())\n",
    "# from numpy.linalg import inv\n",
    "\n",
    "# Question 12) (Inverse of a matrix)\n",
    "#print(inv(A)*B)\n",
    "\n",
    "# Question 13) (C Dot Product)\n",
    "# print(np.multiply(A,A))\n",
    "\n",
    "# Question 14) (Dot Product)\n",
    "# print(np.multiply(B,C))"
   ]
  },
  {
   "cell_type": "markdown",
   "metadata": {},
   "source": [
    "**ANSWERS**"
   ]
  },
  {
   "cell_type": "markdown",
   "metadata": {},
   "source": [
    "Question 1)\n",
    "$\\begin{bmatrix}\n",
    "14 & 25 & 31 \\\\\n",
    "25 & 45 & 56 \\\\\n",
    "31 & 56 & 70 \n",
    "\\end{bmatrix}$\n",
    "\n",
    "Question 2)\n",
    "$\\begin{bmatrix}\n",
    "14 & 25 & 31 \\\\\n",
    "25 & 45 & 56 \\\\\n",
    "31 & 56 & 70 \n",
    "\\end{bmatrix}$\n",
    "\n",
    "Question 3)\n",
    "$\\begin{bmatrix}\n",
    "29  \\\\\n",
    "50  \\\\\n",
    "60  \n",
    "\\end{bmatrix}$\n",
    "\n",
    "Question 4) \n",
    "Impossible, rows != columns \n",
    "\n",
    "Question 5) \n",
    "Impossible, rows != columns \n",
    "\n",
    "Question 6) \n",
    "$\\begin{bmatrix}\n",
    "29 & 50 & 60 \\\\\n",
    "\\end{bmatrix}$\n",
    "\n",
    "Question 7) \n",
    "Impossible, rows != columns \n",
    "\n",
    "Question 8) \n",
    "$[74]$\n",
    "\n",
    "Question 9)\n",
    "$\\begin{bmatrix}\n",
    "1 & -3 & -8 \\\\\n",
    "-3 & 9 & 24 \\\\\n",
    "-8 & 24 & 64 \n",
    "\\end{bmatrix}$\n",
    "\n",
    "Question 10)\n",
    "Impossible, rows != columns\n",
    "\n",
    "Question 11) \n",
    "Impossible, rows != columns \n",
    "\n",
    "Question 12)\n",
    "$\\begin{bmatrix}\n",
    "6 \\\\\n",
    "4 \\\\\n",
    "-5 \n",
    "\\end{bmatrix}$\n",
    "\n",
    "Question 13)\n",
    "$\\begin{bmatrix}\n",
    "1 & 4 & 9 \\\\\n",
    "4 & 16 & 25 \\\\\n",
    "9 & 25 & 36 \n",
    "\\end{bmatrix}$\n",
    "\n",
    "Question 14)\n",
    "$\\begin{bmatrix}\n",
    "-4 \\\\\n",
    "-9 \\\\\n",
    "48  \n",
    "\\end{bmatrix}$ "
   ]
  },
  {
   "cell_type": "markdown",
   "metadata": {},
   "source": [
    "## Question 7 \n",
    "**[8 points]** **Eigenvectors and eigenvalues**. Eigenvectors and eigenvalues are useful for some machine learning algorithms, but the concepts take time to solidly grasp. For an intuitive review of these concepts, explore this [interactive website at Setosa.io](http://setosa.io/ev/eigenvectors-and-eigenvalues/). Also, the series of linear algebra videos by Grant Sanderson of 3Brown1Blue are excellent and can be viewed on youtube [here](https://www.youtube.com/playlist?list=PLZHQObOWTQDPD3MizzM2xVFitgF8hE_ab).\n",
    "\n",
    "1. Calculate the eigenvalues and corresponding eigenvectors of matrix $\\mathbf{A}$ above, from the last question.\n",
    "2. Choose one of the eigenvector/eigenvalue pairs, $\\mathbf{v}$ and $\\lambda$, and show that $\\mathbf{A} \\mathbf{v} = \\lambda \\mathbf{v}$. Also show that this relationship extends to higher orders: $\\mathbf{A} \\mathbf{A} \\mathbf{v} = \\lambda^2 \\mathbf{v}$\n",
    "3. Show that the eigenvectors are orthogonal to one another (e.g. their inner product is zero). This is true for real, symmetric matrices.\n",
    "\n",
    "###### Source: http://www.physics.utah.edu/~detar/lessons/python/numpy_eigen/node1.html"
   ]
  },
  {
   "cell_type": "markdown",
   "metadata": {},
   "source": [
    "**ANSWERS**"
   ]
  },
  {
   "cell_type": "code",
   "execution_count": 10,
   "metadata": {},
   "outputs": [
    {
     "name": "stdout",
     "output_type": "stream",
     "text": [
      "Part 1:\n",
      "\n",
      "The eigenvalues for matrix A are: \n",
      "[11.34481428 -0.51572947  0.17091519]\n",
      "\n",
      "The eigenvevtors for matrix A are: \n",
      "[[-0.32798528 -0.73697623  0.59100905]\n",
      " [-0.59100905 -0.32798528 -0.73697623]\n",
      " [-0.73697623  0.59100905  0.32798528]]\n",
      "\n",
      "Part 2:\n",
      "\n",
      "The answer to Av is: \n",
      "[-3.72093206 -6.70488789 -8.36085845]\n",
      "We can see that they are equal because...\n",
      "The answer to lambda*v is: \n",
      "[-3.72093206 -6.70488789 -8.36085845]\n",
      "\n",
      "To extend this relationship, we can prove AAv = (Lambda^2)*v\n",
      "The answer to AAv is: \n",
      "[-42.2132832  -76.06570795 -94.85238636]\n",
      "which is equal to the answer of (Lambda^2)*2 which is: \n",
      "[-42.2132832  -76.06570795 -94.85238636]\n",
      "\n",
      "Part 3:\n",
      "\n",
      "Finally, to prove the eigenvectors are orthoginal;\n",
      "\n",
      "The answer for an inner join between eigenvector 1 and eigenvector 2 is:\n",
      "-0.00\n"
     ]
    }
   ],
   "source": [
    "#**ANSWER**\n",
    "A = np.array([[1, 2, 3],\n",
    "              [2, 4, 5],\n",
    "              [3, 5, 6]]) \n",
    "\n",
    "eigvals, eigvecs = np.linalg.eig(A)\n",
    "\n",
    "print('Part 1:')\n",
    "print('')\n",
    "print('The eigenvalues for matrix A are: \\n{}'.format(eigvals))\n",
    "print('')\n",
    "print('The eigenvevtors for matrix A are: \\n{}'.format(eigvecs))\n",
    "print('')\n",
    "\n",
    "print('Part 2:')\n",
    "print('')\n",
    "\n",
    "vals_1 = eigvecs[:,0]\n",
    "vals_2 = eigvecs[:,1]\n",
    "vals_3 = eigvecs[:,2]\n",
    "vals = eigvals[0]\n",
    "\n",
    "print('The answer to Av is: \\n{}'.format(np.matmul(A,vals_1)))\n",
    "print('We can see that they are equal because...')\n",
    "print('The answer to lambda*v is: \\n{}'.format(vals*vals_1))\n",
    "print('')\n",
    "print('To extend this relationship, we can prove AAv = (Lambda^2)*v')\n",
    "print('The answer to AAv is: \\n{}'.format(np.matmul(np.matmul(A,A),vals_1)))\n",
    "print('which is equal to the answer of (Lambda^2)*2 which is: \\n{}'.format((vals*vals)*vals_1))\n",
    "print('')\n",
    "\n",
    "print('Part 3:')\n",
    "print('')\n",
    "print('Finally, to prove the eigenvectors are orthoginal;\\n')\n",
    "print('The answer for an inner join between eigenvector 1 and eigenvector 2 is:\\n{:.2f}'.format(np.inner(eigvecs[0,:],eigvecs[1,:])))"
   ]
  },
  {
   "cell_type": "markdown",
   "metadata": {},
   "source": [
    "# Numerical Programming"
   ]
  },
  {
   "cell_type": "markdown",
   "metadata": {},
   "source": [
    "## Question 8 \n",
    "**[10 points]** Loading data and gathering insights from a real dataset\n",
    "\n",
    "**Data**. The data for this problem can be found in the `data` subfolder in the `assignments` folder on [github](https://github.com/kylebradbury/ids705). The filename is `egrid2016.xlsx`. This dataset is the Environmental Protection Agency's (EPA) [Emissions & Generation Resource Integrated Database (eGRID)](https://www.epa.gov/energy/emissions-generation-resource-integrated-database-egrid) containing information about all power plants in the United States, the amount of generation they produce, what fuel they use, the location of the plant, and many more quantities. We'll be using a subset of those data.\n",
    "\n",
    "The fields we'll be using include:\t\t\t\t\t\n",
    "    \n",
    "|field    |description|\n",
    "|:-----   |:-----|\n",
    "|SEQPLT16 |eGRID2016 Plant file sequence number (the index)| \n",
    "|PSTATABB |Plant state abbreviation|\n",
    "|PNAME    |Plant name |\n",
    "|LAT      |Plant latitude |\n",
    "|LON      |Plant longitude|\n",
    "|PLPRMFL  |Plant primary fuel |\n",
    "|CAPFAC   |Plant capacity factor |\n",
    "|NAMEPCAP |Plant nameplate capacity (Megawatts MW)|\n",
    "|PLNGENAN |Plant annual net generation (Megawatt-hours MWh)|\n",
    "|PLCO2EQA |Plant annual CO2 equivalent emissions (tons)|\n",
    "\n",
    "For more details on the data, you can refer to the [eGrid technical documents](https://www.epa.gov/sites/production/files/2018-02/documents/egrid2016_technicalsupportdocument_0.pdf). For example, you may want to review page 45 and the section \"Plant Primary Fuel (PLPRMFL)\", which gives the full names of the fuel types including WND for wind, NG for natural gas, BIT for Bituminous coal, etc.\n",
    "\n",
    "There also are a couple of \"gotchas\" to watch out for with this dataset:\n",
    "- The headers are on the second row and you'll want to ignore the first row (they're more detailed descriptions of the headers).\n",
    "- NaN values represent blanks in the data. These will appear regularly in real-world data, so getting experience working with it will be important.\n",
    "\n",
    "**Your objective**. For this dataset, your goal is answer the following questions about electricity generation in the United States:\n",
    "\n",
    "**(a)** Which plant has generated the most energy (measured in MWh)?\n",
    "\n",
    "**(b)** What is the name of the northern-most power plant in the United States?\n",
    "\n",
    "**(c)** What is the state where the northern-most power plant in the United States is located?\n",
    "\n",
    "**(d)** Plot a histogram of the amount of energy produced by each fuel for the plant. \n",
    "\n",
    "**(e)** From the plot in (e), which fuel for generation produces the most energy (MWh) in the United States?"
   ]
  },
  {
   "cell_type": "markdown",
   "metadata": {},
   "source": [
    "**ANSWERS**"
   ]
  },
  {
   "cell_type": "code",
   "execution_count": 12,
   "metadata": {},
   "outputs": [
    {
     "data": {
      "text/plain": [
       "['eGRID2016 Plant file sequence number',\n",
       " 'Plant state abbreviation',\n",
       " 'Plant name',\n",
       " 'Plant latitude',\n",
       " 'Plant longitude',\n",
       " 'Plant primary fuel',\n",
       " 'Plant capacity factor',\n",
       " 'Plant nameplate capacity (MW)',\n",
       " 'Plant annual net generation (MWh)',\n",
       " 'Plant annual CO2 equivalent emissions (tons)']"
      ]
     },
     "execution_count": 12,
     "metadata": {},
     "output_type": "execute_result"
    }
   ],
   "source": [
    "import pandas as pd\n",
    "power_plant_df = pd.read_excel('_data/egrid2016.xlsx')\n",
    "list(power_plant_df.columns.values)"
   ]
  },
  {
   "cell_type": "code",
   "execution_count": 13,
   "metadata": {},
   "outputs": [
    {
     "data": {
      "text/plain": [
       "array([nan, 1213.001, 881, ..., 734354, 821699, 2056358], dtype=object)"
      ]
     },
     "execution_count": 13,
     "metadata": {},
     "output_type": "execute_result"
    }
   ],
   "source": [
    "power_plant_df_2 = power_plant_df.drop([0,0]) # Remvoing the extra row at the top\n",
    "power_plant_df_2['Plant annual net generation (MWh)'].unique()"
   ]
  },
  {
   "cell_type": "markdown",
   "metadata": {},
   "source": [
    "### Part A) Which plant has generated the most energy - The Palo Verde Plant in Arizon (Plant Number 391)"
   ]
  },
  {
   "cell_type": "code",
   "execution_count": 14,
   "metadata": {},
   "outputs": [
    {
     "data": {
      "text/html": [
       "<div>\n",
       "<style scoped>\n",
       "    .dataframe tbody tr th:only-of-type {\n",
       "        vertical-align: middle;\n",
       "    }\n",
       "\n",
       "    .dataframe tbody tr th {\n",
       "        vertical-align: top;\n",
       "    }\n",
       "\n",
       "    .dataframe thead th {\n",
       "        text-align: right;\n",
       "    }\n",
       "</style>\n",
       "<table border=\"1\" class=\"dataframe\">\n",
       "  <thead>\n",
       "    <tr style=\"text-align: right;\">\n",
       "      <th></th>\n",
       "      <th>eGRID2016 Plant file sequence number</th>\n",
       "      <th>Plant state abbreviation</th>\n",
       "      <th>Plant name</th>\n",
       "      <th>Plant latitude</th>\n",
       "      <th>Plant longitude</th>\n",
       "      <th>Plant primary fuel</th>\n",
       "      <th>Plant capacity factor</th>\n",
       "      <th>Plant nameplate capacity (MW)</th>\n",
       "      <th>Plant annual net generation (MWh)</th>\n",
       "      <th>Plant annual CO2 equivalent emissions (tons)</th>\n",
       "    </tr>\n",
       "  </thead>\n",
       "  <tbody>\n",
       "    <tr>\n",
       "      <th>391</th>\n",
       "      <td>391</td>\n",
       "      <td>AZ</td>\n",
       "      <td>Palo Verde</td>\n",
       "      <td>33.3881</td>\n",
       "      <td>-112.862</td>\n",
       "      <td>NUC</td>\n",
       "      <td>0.87801</td>\n",
       "      <td>4209.6</td>\n",
       "      <td>3.23775e+07</td>\n",
       "      <td>0</td>\n",
       "    </tr>\n",
       "  </tbody>\n",
       "</table>\n",
       "</div>"
      ],
      "text/plain": [
       "    eGRID2016 Plant file sequence number Plant state abbreviation  Plant name  \\\n",
       "391                                  391                       AZ  Palo Verde   \n",
       "\n",
       "    Plant latitude Plant longitude Plant primary fuel Plant capacity factor  \\\n",
       "391        33.3881        -112.862                NUC               0.87801   \n",
       "\n",
       "    Plant nameplate capacity (MW) Plant annual net generation (MWh)  \\\n",
       "391                        4209.6                       3.23775e+07   \n",
       "\n",
       "    Plant annual CO2 equivalent emissions (tons)  \n",
       "391                                            0  "
      ]
     },
     "execution_count": 14,
     "metadata": {},
     "output_type": "execute_result"
    }
   ],
   "source": [
    "power_plant_df_sorted = power_plant_df_2.sort_values(by= ['Plant annual net generation (MWh)'], ascending=False)\n",
    "power_plant_df_sorted.head(1)"
   ]
  },
  {
   "cell_type": "markdown",
   "metadata": {},
   "source": [
    "### Part B/C) What is the name of the northern-most power plant in the United States - Plant Number 12 in Alaska"
   ]
  },
  {
   "cell_type": "code",
   "execution_count": 15,
   "metadata": {},
   "outputs": [
    {
     "data": {
      "text/html": [
       "<div>\n",
       "<style scoped>\n",
       "    .dataframe tbody tr th:only-of-type {\n",
       "        vertical-align: middle;\n",
       "    }\n",
       "\n",
       "    .dataframe tbody tr th {\n",
       "        vertical-align: top;\n",
       "    }\n",
       "\n",
       "    .dataframe thead th {\n",
       "        text-align: right;\n",
       "    }\n",
       "</style>\n",
       "<table border=\"1\" class=\"dataframe\">\n",
       "  <thead>\n",
       "    <tr style=\"text-align: right;\">\n",
       "      <th></th>\n",
       "      <th>eGRID2016 Plant file sequence number</th>\n",
       "      <th>Plant state abbreviation</th>\n",
       "      <th>Plant name</th>\n",
       "      <th>Plant latitude</th>\n",
       "      <th>Plant longitude</th>\n",
       "      <th>Plant primary fuel</th>\n",
       "      <th>Plant capacity factor</th>\n",
       "      <th>Plant nameplate capacity (MW)</th>\n",
       "      <th>Plant annual net generation (MWh)</th>\n",
       "      <th>Plant annual CO2 equivalent emissions (tons)</th>\n",
       "    </tr>\n",
       "  </thead>\n",
       "  <tbody>\n",
       "    <tr>\n",
       "      <th>12</th>\n",
       "      <td>12</td>\n",
       "      <td>AK</td>\n",
       "      <td>Barrow</td>\n",
       "      <td>71.292</td>\n",
       "      <td>-156.779</td>\n",
       "      <td>NG</td>\n",
       "      <td>0.28208</td>\n",
       "      <td>20.3</td>\n",
       "      <td>50162</td>\n",
       "      <td>44205.2</td>\n",
       "    </tr>\n",
       "  </tbody>\n",
       "</table>\n",
       "</div>"
      ],
      "text/plain": [
       "   eGRID2016 Plant file sequence number Plant state abbreviation Plant name  \\\n",
       "12                                   12                       AK     Barrow   \n",
       "\n",
       "   Plant latitude Plant longitude Plant primary fuel Plant capacity factor  \\\n",
       "12         71.292        -156.779                 NG               0.28208   \n",
       "\n",
       "   Plant nameplate capacity (MW) Plant annual net generation (MWh)  \\\n",
       "12                          20.3                             50162   \n",
       "\n",
       "   Plant annual CO2 equivalent emissions (tons)  \n",
       "12                                      44205.2  "
      ]
     },
     "execution_count": 15,
     "metadata": {},
     "output_type": "execute_result"
    }
   ],
   "source": [
    "# Solving for furthest North plant, Latidude goes us as you go north\n",
    "power_plant_df_sorted_lat = power_plant_df_2.sort_values(by= ['Plant latitude'], ascending=False)\n",
    "power_plant_df_sorted_lat.head(1)"
   ]
  },
  {
   "cell_type": "markdown",
   "metadata": {},
   "source": [
    "### Part D) Plot a bar chart of the amount of energy produced by each fuel for the plant. "
   ]
  },
  {
   "cell_type": "markdown",
   "metadata": {},
   "source": [
    "##### Joe Krinke, MIDS 21 Assisted me by showing me how to group and plot the figure below with MatPlotLib"
   ]
  },
  {
   "cell_type": "code",
   "execution_count": 16,
   "metadata": {},
   "outputs": [
    {
     "data": {
      "image/png": "[encoded data removed]",
      "text/plain": [
       "<Figure size 432x288 with 1 Axes>"
      ]
     },
     "metadata": {
      "needs_background": "light"
     },
     "output_type": "display_data"
    }
   ],
   "source": [
    "import matplotlib.pyplot as plt\n",
    "grouped_fuel = power_plant_df_2.groupby('Plant primary fuel', as_index = False).sum().sort_values('Plant annual net generation (MWh)', ascending=False) \n",
    "fuel_types = grouped_fuel['Plant primary fuel'] \n",
    "energy_prod = grouped_fuel['Plant annual net generation (MWh)'] \n",
    "plt.bar(fuel_types, energy_prod) \n",
    "plt.xlabel(\"Fuel Type\")\n",
    "plt.ylabel(\"Annual Power (MWh)\") \n",
    "plt.title('Annual Power by Fuel Type')\n",
    "plt.show()"
   ]
  },
  {
   "cell_type": "markdown",
   "metadata": {},
   "source": [
    "### Part E) Which fuel for generation produces the most energy (MWh) in the United States - Natural Gas"
   ]
  },
  {
   "cell_type": "markdown",
   "metadata": {},
   "source": [
    "## Question 9\n",
    "**[8 points]** Speed comparison between vectorized and non-vectorized code. Begin by creating an array of 10 million random numbers using the numpy random.randn module. Compute the sum of the squares first in a for loop, then using Numpy's `dot` module. Time how long it takes to compute each and report the results and report the output. How many times faster is the vectorized code than the for loop approach?\n",
    "\n",
    "*Note: all code should be well commented, properly formatted, and your answers should be output using the `print()` function as follows (where the # represents your answers, to a reasonable precision):\n",
    "\n",
    "`Time [sec] (non-vectorized): 4.433282136917114`\n",
    "\n",
    "`Time [sec] (vectorized):     0.017951488494873047`\n",
    "\n",
    "`The vectorized code is 246 times faster than the vectorized code`"
   ]
  },
  {
   "cell_type": "markdown",
   "metadata": {},
   "source": [
    "**ANSWERS**"
   ]
  },
  {
   "cell_type": "code",
   "execution_count": 17,
   "metadata": {},
   "outputs": [
    {
     "data": {
      "text/plain": [
       "10000000"
      ]
     },
     "execution_count": 17,
     "metadata": {},
     "output_type": "execute_result"
    }
   ],
   "source": [
    "# Building the random array\n",
    "import numpy as np\n",
    "\n",
    "x=np.random.randint(9, size=10000000)\n",
    "x.size"
   ]
  },
  {
   "cell_type": "code",
   "execution_count": 18,
   "metadata": {},
   "outputs": [
    {
     "name": "stdout",
     "output_type": "stream",
     "text": [
      "5.266472816467285\n"
     ]
    }
   ],
   "source": [
    "import time\n",
    "t1 = time.time()\n",
    "for i in range(0,len(x)):\n",
    "    x[i] = x[i]*x[i]\n",
    "np.sum(x)\n",
    "print(time.time()-t1)"
   ]
  },
  {
   "cell_type": "code",
   "execution_count": 19,
   "metadata": {},
   "outputs": [
    {
     "name": "stdout",
     "output_type": "stream",
     "text": [
      "0.021052837371826172\n"
     ]
    }
   ],
   "source": [
    "# Finding the Sum of Squares with vectorizations\n",
    "t1 = time.time()\n",
    "x*np.transpose(x) \n",
    "print(time.time()-t1)"
   ]
  },
  {
   "cell_type": "code",
   "execution_count": 20,
   "metadata": {},
   "outputs": [
    {
     "data": {
      "text/plain": [
       "246.95902727973012"
      ]
     },
     "execution_count": 20,
     "metadata": {},
     "output_type": "execute_result"
    }
   ],
   "source": [
    "# Calculating the x speed up\n",
    "4.433282136917114/0.017951488494873047"
   ]
  },
  {
   "cell_type": "markdown",
   "metadata": {},
   "source": [
    "## Question 10 \n",
    "**[10 points]** One popular Agile development framework is Scrum (a paradigm recommended for data science projects). It emphasizes the continual evolution of code for projects, becoming progressively better, but starting with a quickly developed minimum viable product. This often means that code written early on is not optimized, and that's a good thing - it's best to get it to work first before optimizing. Imagine that you wrote the following code during a sprint towards getting an end-to-end system working. Vectorize the following code and show the difference in speed between the current implementation and a vectorized version.\n",
    "\n",
    "The function below computes the function $f(x,y) = x^2 - 2 y^2$ and determines whether this quantity is above or below a given threshold, `thresh=0`. This is done for $x,y \\in \\{-4,4\\}$, over a 2,000-by-2,000 grid covering that domain.\n",
    "\n",
    "(a) Vectorize this code and demonstrate (as in the last exercise) the speed increase through vectorization and (b) plot the resulting data - both the function $f(x,y)$ and the thresholded output - using [`imshow`](https://matplotlib.org/api/_as_gen/matplotlib.pyplot.imshow.html?highlight=matplotlib%20pyplot%20imshow#matplotlib.pyplot.imshow) from `matplotlib`.\n",
    "\n",
    "*Hint: look at the `numpy` [`meshgrid`](https://docs.scipy.org/doc/numpy-1.13.0/reference/generated/numpy.meshgrid.html) documentation*"
   ]
  },
  {
   "cell_type": "code",
   "execution_count": 21,
   "metadata": {},
   "outputs": [
    {
     "data": {
      "text/plain": [
       "<matplotlib.image.AxesImage at 0x196e0e6f408>"
      ]
     },
     "execution_count": 21,
     "metadata": {},
     "output_type": "execute_result"
    },
    {
     "data": {
      "image/png": "[encoded data removed]",
      "text/plain": [
       "<Figure size 720x288 with 2 Axes>"
      ]
     },
     "metadata": {
      "needs_background": "light"
     },
     "output_type": "display_data"
    }
   ],
   "source": [
    "import numpy as np\n",
    "import time\n",
    "import matplotlib.pyplot as plt\n",
    "\n",
    "nvalues = 2000\n",
    "xvalues = np.linspace(-4,4,nvalues)\n",
    "yvalues = np.linspace(-4,4,nvalues)\n",
    "thresh  = 0\n",
    "\n",
    "# Nonvectorized implementation\n",
    "t0 = time.time()\n",
    "f = np.zeros((nvalues,nvalues))\n",
    "f_thresholded = np.zeros((nvalues,nvalues))\n",
    "for ix, x in enumerate(xvalues):\n",
    "    for iy, y in enumerate(yvalues):\n",
    "        f[ix,iy]             = x**2 - 2 * y**2\n",
    "        f_thresholded[ix,iy] = f[ix,iy] > thresh\n",
    "t1 = time.time()\n",
    "time_nonvectorized = t1 - t0\n",
    "\n",
    "# Vectorized implementation\n",
    "t0 = time.time()\n",
    "x = np.arange(-4, 4, 1)\n",
    "y = np.arange(-4, 4, 1)\n",
    "xx, yy = np.meshgrid(x, y)\n",
    "\n",
    "def q10_equation(x, y):\n",
    "    z = x**2 -2 *y**2\n",
    "    z = np.array(z)\n",
    "    return z\n",
    "z = q10_equation(xx,yy)\n",
    "t1 = time.time()\n",
    "time_vectorized = t1 - t0\n",
    "\n",
    "fig, axes = plt.subplots(nrows=1, ncols=2, figsize=(10,4))\n",
    "\n",
    "axes[0].imshow(f_thresholded)\n",
    "axes[1].imshow(f)"
   ]
  },
  {
   "cell_type": "code",
   "execution_count": 22,
   "metadata": {},
   "outputs": [
    {
     "name": "stdout",
     "output_type": "stream",
     "text": [
      "The time difference was: 8.973000s\n"
     ]
    }
   ],
   "source": [
    "time_diff = round(time_nonvectorized - time_vectorized,3)\n",
    "print(\"The time difference was: {:2f}s\".format(time_diff))"
   ]
  },
  {
   "cell_type": "markdown",
   "metadata": {},
   "source": [
    "## Question 11 \n",
    "**[10 points]** This exercise will walk through some basic numerical programming exercises.\n",
    "1. Synthesize $n=10^4$ normally distributed data points with mean $\\mu=2$ and a standard deviation of $\\sigma=1$. Call these observations from a random variable $X$, and call the vector of observations that you generate, $\\textbf{x}$.\n",
    "2. Calculate the mean and standard deviation of $\\textbf{x}$ to validate (1) and provide the result to a precision of four significant figures.\n",
    "3. Plot a histogram of the data in $\\textbf{x}$ with 30 bins\n",
    "4. What is the 90th percentile of $\\textbf{x}$? The 90th percentile is the value below which 90% of observations can be found.\n",
    "5. What is the 99th percentile of $\\textbf{x}$?\n",
    "6. Now synthesize $n=10^4$ normally distributed data points with mean $\\mu=0$ and a standard deviation of $\\sigma=3$. Call these observations from a random variable $Y$, and call the vector of observations that you generate, $\\textbf{y}$.\n",
    "7. Create a new figure and plot the histogram of the data in $\\textbf{y}$ on the same axes with the histogram of $\\textbf{x}$, so that both histograms can be seen and compared.\n",
    "8. Using the observations from $\\textbf{x}$ and $\\textbf{y}$, estimate $E[XY]$"
   ]
  },
  {
   "cell_type": "markdown",
   "metadata": {},
   "source": [
    "**ANSWERS**"
   ]
  },
  {
   "cell_type": "code",
   "execution_count": 23,
   "metadata": {},
   "outputs": [],
   "source": [
    "# Part 1 - Creating the Normally distribution with u = 2, sigma = 1 \n",
    "X = np.random.normal(2,1,10**4)"
   ]
  },
  {
   "cell_type": "code",
   "execution_count": 24,
   "metadata": {},
   "outputs": [
    {
     "name": "stdout",
     "output_type": "stream",
     "text": [
      "2.0030037468971575 0.9973735327903719\n"
     ]
    }
   ],
   "source": [
    "# Part 2 - Calculate the mean/std deviation of X1\n",
    "print(np.mean(X), np.std(X)) # 2.000/1.000 respectively"
   ]
  },
  {
   "cell_type": "code",
   "execution_count": 25,
   "metadata": {},
   "outputs": [
    {
     "data": {
      "image/png": "[encoded data removed]",
      "text/plain": [
       "<Figure size 432x288 with 1 Axes>"
      ]
     },
     "metadata": {
      "needs_background": "light"
     },
     "output_type": "display_data"
    }
   ],
   "source": [
    "# Part 3 - Plot a histogram of the data in X1 with 30 bins\n",
    "import pandas as pd\n",
    "import numpy as np\n",
    "from plotnine import *\n",
    "import warnings\n",
    "warnings.filterwarnings('ignore', module='plotnine')\n",
    "\n",
    "n, bins, patches = plt.hist(X, 30, density=True, facecolor='g', alpha=0.75)\n",
    "\n",
    "plt.xlabel('X Value')\n",
    "plt.ylabel('Probability')\n",
    "plt.title('Histogram X')\n",
    "plt.show()"
   ]
  },
  {
   "cell_type": "code",
   "execution_count": 26,
   "metadata": {},
   "outputs": [
    {
     "name": "stdout",
     "output_type": "stream",
     "text": [
      "3.3099843210533013\n"
     ]
    }
   ],
   "source": [
    "# Part 4 - What is the 90th percentile of X\n",
    "print(np.percentile(X, 90))"
   ]
  },
  {
   "cell_type": "code",
   "execution_count": 27,
   "metadata": {},
   "outputs": [
    {
     "name": "stdout",
     "output_type": "stream",
     "text": [
      "4.331840701266542\n"
     ]
    }
   ],
   "source": [
    "# Part 5 - What is the 99th percentile of X\n",
    "print(np.percentile(X, 99))"
   ]
  },
  {
   "cell_type": "code",
   "execution_count": 28,
   "metadata": {},
   "outputs": [],
   "source": [
    "# Part 6 - Creating the next distribution with u = 0 and sigma = 3\n",
    "Y = np.random.normal(0,3,10**4)"
   ]
  },
  {
   "cell_type": "code",
   "execution_count": 29,
   "metadata": {},
   "outputs": [
    {
     "data": {
      "image/png": "[encoded data removed]",
      "text/plain": [
       "<Figure size 432x288 with 1 Axes>"
      ]
     },
     "metadata": {
      "needs_background": "light"
     },
     "output_type": "display_data"
    }
   ],
   "source": [
    "# Part 7 - Overlapping plots of X and Y\n",
    "import pandas as pd\n",
    "import numpy as np\n",
    "from plotnine import *\n",
    "import warnings\n",
    "warnings.filterwarnings('ignore', module='plotnine')\n",
    "\n",
    "Y = np.random.normal(0,3,10**4)\n",
    "# the histogram of the data\n",
    "n, bins, patches = plt.hist(Y, 30, density=True, facecolor='g', alpha=0.75)\n",
    "n, bins, patches = plt.hist(X, 30, density=True, facecolor='b', alpha=0.75)\n",
    "\n",
    "plt.xlabel('Value')\n",
    "plt.ylabel('Probability')\n",
    "plt.title('Histogram of X (Blue) and Y (Green)')\n",
    "plt.show()"
   ]
  },
  {
   "cell_type": "code",
   "execution_count": 30,
   "metadata": {},
   "outputs": [
    {
     "name": "stdout",
     "output_type": "stream",
     "text": [
      "0.023140209386998525\n"
     ]
    }
   ],
   "source": [
    "# Part 8 estimate E[XY]\n",
    "print(np.mean(X)*np.mean(Y))"
   ]
  },
  {
   "cell_type": "markdown",
   "metadata": {},
   "source": [
    "# Version Control via Git"
   ]
  },
  {
   "cell_type": "markdown",
   "metadata": {},
   "source": [
    "## Question 12\n",
    "**[1 point]** You will need to use Git to submit assignments and in the course projects and is generally a version control and collaboration tool. You can even use some Git repositories (e.g. Github) as hosts for website, such as with the [course website](https://kylebradbury.github.io/ids705/index.html). \n",
    "\n",
    "Complete the [Atlassian Git tutorial](https://www.atlassian.com/git/tutorials/what-is-version-control), specifically the following listed sections. Try each concept that's presented. For this tutorial, instead of using BitBucket as your remote repository host, you may use your preferred platform such as [Github](https://github.com/) or [Duke's Gitlab](https://gitlab.oit.duke.edu/users/sign_in).\n",
    "1. [What is version control](https://www.atlassian.com/git/tutorials/what-is-version-control)\n",
    "2. [What is Git](https://www.atlassian.com/git/tutorials/what-is-git)\n",
    "3. [Install Git](https://www.atlassian.com/git/tutorials/install-git)\n",
    "4. [Setting up a repository](https://www.atlassian.com/git/tutorials/install-git)\n",
    "5. [Saving changes](https://www.atlassian.com/git/tutorials/saving-changes)\n",
    "6. [Inspecting a repository](https://www.atlassian.com/git/tutorials/inspecting-a-repository)\n",
    "7. [Undoing changes](https://www.atlassian.com/git/tutorials/undoing-changes)\n",
    "8. [Rewriting history](https://www.atlassian.com/git/tutorials/rewriting-history)\n",
    "9. [Syncing](https://www.atlassian.com/git/tutorials/syncing)\n",
    "10. [Making a pull request](https://www.atlassian.com/git/tutorials/making-a-pull-request)\n",
    "11. [Using branches](https://www.atlassian.com/git/tutorials/using-branches)\n",
    "12. [Comparing workflows](https://www.atlassian.com/git/tutorials/comparing-workflows)\n",
    "\n",
    "I also have created two videos on the topic to help you understand some of these concepts: [Git basics](https://www.youtube.com/watch?v=fBCwfoBr2ng) and a [step-by-step tutorial](https://www.youtube.com/watch?v=nH7qJHx-h5s).\n",
    "\n",
    "For your answer, affirm that you *either* completed the tutorial or have previous experience with all of the concepts above. Do this by typing your name below and selecting the situation that applies from the two options in brackets."
   ]
  },
  {
   "cell_type": "markdown",
   "metadata": {},
   "source": [
    "**ANSWERS**\n",
    "\n",
    "*I, Derek Lee Wales, affirm that I have [**I have previous experience (through Practical Data Science) that covers all the content in this tutorial**]*"
   ]
  },
  {
   "cell_type": "markdown",
   "metadata": {},
   "source": [
    "# Exploratory Data Analysis\n",
    "## Question 13\n",
    "**[20 points]** Here you'll bring together some of the individual skills that you demonstrated above and create a Jupyter notebook based blog post on data analysis.\n",
    "\n",
    "1. Find a dataset that interests you and relates to a question or problem that you find intriguing\n",
    "2. Using a Jupyter notebook, describe the dataset, the source of the data, and the reason the dataset was of interest.\n",
    "3. Check the data and see if they need to be cleaned: are there missing values? Are there clearly erroneous values? Do two tables need to be merged together? Clean the data so it can be visualized.\n",
    "3. Plot the data, demonstrating interesting features that you discover. Are there any relationships between variables that were surprising or patterns that emerged? Please exercise creativity and curiosity in your plots.\n",
    "4. What insights are you able to take away from exploring the data? Is there a reason why analyzing the dataset you chose is particularly interesting or important? Summarize this as if your target audience was the readership of a major news organization - boil down your findings in a way that is accessible, but still accurate.\n",
    "\n",
    "Here your analysis will evaluated based on:\n",
    "1. Data cleaning: did you look for and work to resolve issues in the data?\n",
    "2. Quality of data exploration: did you provide plots demonstrating interesting aspects of the data?\n",
    "3. Interpretation: Did you clearly explain your insights? Restating the data, alone, is not interpretation.\n",
    "5. Professionalism: Was this work done in a way that exhibits professionalism through clarity, organization, high quality figures and plots, and meaningful descriptions?"
   ]
  },
  {
   "cell_type": "markdown",
   "metadata": {},
   "source": [
    "**ANSWERS**"
   ]
  },
  {
   "cell_type": "markdown",
   "metadata": {},
   "source": [
    "#### Parts 1/ -. Find a dataset that interests you and relates to a question or problem that you find intriguing. I chose to look at age, sex, education, and income. Because it is a source of public debate and quantifies my decision to pursue an advanced degree. \n",
    "##### Source: https://usa.ipums.org/usa/acs.shtml\n",
    "##### Note: This data was used in Practical Data Science but the analysis I did was slightly different for this assignment"
   ]
  },
  {
   "cell_type": "code",
   "execution_count": 31,
   "metadata": {},
   "outputs": [],
   "source": [
    "import pandas as pd\n",
    "import numpy as np\n",
    "from plotnine import *\n",
    "import warnings\n",
    "warnings.filterwarnings('ignore', module='plotnine')"
   ]
  },
  {
   "cell_type": "code",
   "execution_count": 33,
   "metadata": {},
   "outputs": [
    {
     "data": {
      "text/plain": [
       "1723646.2703978634"
      ]
     },
     "execution_count": 33,
     "metadata": {},
     "output_type": "execute_result"
    }
   ],
   "source": [
    "income_data = pd.read_stata('_data/US_ACS_2017_10pct_sample.dta')\n",
    "df_updated = income_data[[\"age\", \"inctot\", \"educ\", \"empstat\", 'sex', 'year']] # Filtering out values not necessary to analysis\n",
    "df_updated['inctot'].mean() # Getting the mean income"
   ]
  },
  {
   "cell_type": "markdown",
   "metadata": {},
   "source": [
    "#### Part 3) This data did need some cleaning, as you can see, I currently have the average American making 1.7 million dollars per year, because someone who is unemployed is coded as having a salary of 9,999,999."
   ]
  },
  {
   "cell_type": "code",
   "execution_count": 34,
   "metadata": {},
   "outputs": [],
   "source": [
    "# Removing the large income values, changing the column names, and only selecting individuals who are employed for more analysis\n",
    "df_updated_income = df_updated[df_updated['inctot'] < 9999998]\n",
    "\n",
    "# Making easier to understand names\n",
    "df_updated_income_2 = df_updated_income.rename(columns={'age':'Age', 'inctot':'Income', 'educ':'Education',\n",
    "                                                        'empstat':'Employment', 'sex':'Sex','year':'Year'}) \n",
    "\n",
    "# Only looking at employed people\n",
    "df_updated_income_employed = df_updated_income_2[df_updated_income_2['Employment'] == 'employed'] \n",
    "\n",
    "# Saving the new DF\n",
    "working_df = df_updated_income_employed "
   ]
  },
  {
   "cell_type": "code",
   "execution_count": 35,
   "metadata": {},
   "outputs": [
    {
     "data": {
      "image/png": "[encoded data removed]",
      "text/plain": [
       "<Figure size 640x480 with 1 Axes>"
      ]
     },
     "metadata": {},
     "output_type": "display_data"
    },
    {
     "data": {
      "text/plain": [
       "<ggplot: (-9223371927622501776)>"
      ]
     },
     "execution_count": 35,
     "metadata": {},
     "output_type": "execute_result"
    }
   ],
   "source": [
    "(ggplot(working_df, aes(x ='Sex', y='Income')) +\n",
    "          geom_boxplot(alpha=0.9) + scale_y_continuous(limits = (0, 250000)) + labs(title=\"Male vs Female Income\")\n",
    ")"
   ]
  },
  {
   "cell_type": "markdown",
   "metadata": {},
   "source": [
    "#### Looks like women make less, not surprising. Lets do some adjusting for education (only looking at advanced degrees)"
   ]
  },
  {
   "cell_type": "code",
   "execution_count": 36,
   "metadata": {},
   "outputs": [
    {
     "data": {
      "image/png": "[encoded data removed]",
      "text/plain": [
       "<Figure size 640x480 with 1 Axes>"
      ]
     },
     "metadata": {},
     "output_type": "display_data"
    },
    {
     "data": {
      "text/plain": [
       "<ggplot: (-9223371927622478956)>"
      ]
     },
     "execution_count": 36,
     "metadata": {},
     "output_type": "execute_result"
    }
   ],
   "source": [
    "working_df2 = working_df[working_df['Education'] == '5+ years of college']\n",
    "\n",
    "(ggplot(working_df2, aes(x ='Sex', y='Income')) +\n",
    "          geom_boxplot(alpha=0.9) + scale_y_continuous(limits = (0, 250000)) + labs(title=\"Male vs Female Income (Advanced Degrees)\")\n",
    ")"
   ]
  },
  {
   "cell_type": "markdown",
   "metadata": {},
   "source": [
    "#### Again, Men make more money on average, lets see if there is any difference in educational attainment (Junior College +) by the Sexs "
   ]
  },
  {
   "cell_type": "code",
   "execution_count": 37,
   "metadata": {},
   "outputs": [
    {
     "data": {
      "image/png": "[encoded data removed]",
      "text/plain": [
       "<Figure size 640x480 with 1 Axes>"
      ]
     },
     "metadata": {},
     "output_type": "display_data"
    },
    {
     "data": {
      "text/plain": [
       "<ggplot: (-9223371927622443572)>"
      ]
     },
     "execution_count": 37,
     "metadata": {},
     "output_type": "execute_result"
    }
   ],
   "source": [
    "# Filtering for all college degrees\n",
    "working_df3 = working_df.loc[((working_df['Education'] == '5+ years of college')|\n",
    "                              (working_df['Education'] == '4 years of college')|\n",
    "                              (working_df['Education'] == '2 years of college'))]\n",
    "\n",
    "(ggplot(working_df3, aes(x ='Sex', y='Income')) +\n",
    "          geom_boxplot(alpha=0.9) + scale_y_continuous(limits = (0, 250000)) + labs(title=\"Male vs Female Income (All Degrees)\")\n",
    ")"
   ]
  },
  {
   "cell_type": "markdown",
   "metadata": {},
   "source": [
    "#### Women again make less. Lets explore how many of each sex go to college."
   ]
  },
  {
   "cell_type": "code",
   "execution_count": 38,
   "metadata": {},
   "outputs": [
    {
     "data": {
      "text/plain": [
       "female    35344\n",
       "male      32902\n",
       "Name: Sex, dtype: int64"
      ]
     },
     "execution_count": 38,
     "metadata": {},
     "output_type": "execute_result"
    }
   ],
   "source": [
    "# Women are more likely to get advanced degree than men.\n",
    "working_df3['Sex'].value_counts()"
   ]
  },
  {
   "cell_type": "markdown",
   "metadata": {},
   "source": [
    "#### 4. What insights are you able to take away from exploring the data?\n",
    "\n",
    "#### Although it is not shocking that men do make more than women, its hard to draw any specific conclusions from this. It would be nice if this included the major, hours worked, and field the individual went into. That way I could ensure I am comparing apples to apples."
   ]
  },
  {
   "cell_type": "code",
   "execution_count": null,
   "metadata": {},
   "outputs": [],
   "source": []
  }
 ],
 "metadata": {
  "kernelspec": {
   "display_name": "Python 3",
   "language": "python",
   "name": "python3"
  },
  "language_info": {
   "codemirror_mode": {
    "name": "ipython",
    "version": 3
   },
   "file_extension": ".py",
   "mimetype": "text/x-python",
   "name": "python",
   "nbconvert_exporter": "python",
   "pygments_lexer": "ipython3",
   "version": "3.7.6"
  },
  "varInspector": {
   "cols": {
    "lenName": 16,
    "lenType": 16,
    "lenVar": 40
   },
   "kernels_config": {
    "python": {
     "delete_cmd_postfix": "",
     "delete_cmd_prefix": "del ",
     "library": "var_list.py",
     "varRefreshCmd": "print(var_dic_list())"
    },
    "r": {
     "delete_cmd_postfix": ") ",
     "delete_cmd_prefix": "rm(",
     "library": "var_list.r",
     "varRefreshCmd": "cat(var_dic_list()) "
    }
   },
   "types_to_exclude": [
    "module",
    "function",
    "builtin_function_or_method",
    "instance",
    "_Feature"
   ],
   "window_display": false
  }
 },
 "nbformat": 4,
 "nbformat_minor": 4
}
